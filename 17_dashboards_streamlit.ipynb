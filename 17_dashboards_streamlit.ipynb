{
  "nbformat": 4,
  "nbformat_minor": 0,
  "metadata": {
    "colab": {
      "provenance": [],
      "toc_visible": true,
      "authorship_tag": "ABX9TyO2bMSZB64KXr1clKGvQCNH",
      "include_colab_link": true
    },
    "kernelspec": {
      "name": "python3",
      "display_name": "Python 3"
    },
    "language_info": {
      "name": "python"
    }
  },
  "cells": [
    {
      "cell_type": "markdown",
      "metadata": {
        "id": "view-in-github",
        "colab_type": "text"
      },
      "source": [
        "<a href=\"https://colab.research.google.com/github/jafiorucci/CEE2PY125/blob/main/17_dashboards_streamlit.ipynb\" target=\"_parent\"><img src=\"https://colab.research.google.com/assets/colab-badge.svg\" alt=\"Open In Colab\"/></a>"
      ]
    },
    {
      "cell_type": "markdown",
      "metadata": {
        "id": "bH7wOCeYeTFE"
      },
      "source": [
        "---\n",
        "# Dashboards - Streamlit\n",
        "\n",
        "Um dashboard é uma ferramenta visual que reúne e exibe dados de forma clara e interativa, facilitando o acompanhamento de métricas e a análise de informações importantes.\n",
        "\n",
        "\n",
        "## Principais bibliotecas\n",
        "\n",
        "Python oferece várias bibliotecas para criar dashboards e gráficos dinâmicos, sendo as mais populares:\n",
        "\n",
        "- `Dash`: Para criar aplicativos web interativos.\n",
        "- `Streamlit`: Para dashboards rápidos e intuitivos.\n",
        "- `Plotly`: Para gráficos interativos que podem ser integrados a ambas as bibliotecas.\n",
        "\n",
        "Para instalar essas bibliotecas, você pode rodar os seguintes comandos no terminal do seu computador:\n",
        "\n",
        "```\n",
        "pip install dash\n",
        "pip install streamlit\n",
        "pip install dash plotly\n",
        "```\n",
        "\n",
        "Neste tutorial, vamos focar na biblioteca `streamlit`.\n",
        "\n",
        "\n",
        "## Streamlit\n",
        "\n",
        "O Streamlit é uma biblioteca Python que permite criar aplicativos web de forma rápida e fácil. Ela é amplamente utilizado para criar dashboards interativos.\n",
        "\n",
        "Principais vantagens do Streamlit:\n",
        "- Simplicidade: O código Python é executado diretamente.\n",
        "- Interatividade: Widgets como sliders, botões e caixas de seleção facilitam a criação de dashboards dinâmicos.\n",
        "- Fácil compartilhamento: Pode ser colocado de modo facilitado na web.\n",
        "\n",
        "\n",
        "### Importanto Streamlit\n",
        "\n",
        "Por conveniencia vamos usualmente importar a biblioteca como `st`:\n",
        "``` python\n",
        "import streamlit as st\n",
        "```"
      ]
    },
    {
      "cell_type": "markdown",
      "metadata": {
        "id": "XfUJVhtMSEZZ"
      },
      "source": [
        "---\n",
        "### Criando o Primeiro App com Streamlit\n",
        "\n",
        "Vamos criar um arquivo chamado `app.py` com o seguinte código básico:"
      ]
    },
    {
      "cell_type": "code",
      "execution_count": null,
      "metadata": {
        "id": "6GvcpOmXSUVy"
      },
      "outputs": [],
      "source": [
        "# Cria um arquivo chamado app.py\n",
        "%%writefile app.py\n",
        "\n",
        "import streamlit as st\n",
        "\n",
        "st.title(\"Meu Primeiro Dashboard com Streamlit\")\n",
        "st.write(\"Streamlit facilita a criação de dashboards interativos.\")\n"
      ]
    },
    {
      "cell_type": "markdown",
      "metadata": {
        "id": "yoBJHJKKSsx2"
      },
      "source": [
        "> Após rodar essa célula, note que foi gerado o arquivo `app.py` em arquivos no seu ambiente de execução.\n",
        "\n",
        "Caso esteja rodando com uma instalação local, bastaria você rodar o comando abaixo no terminal para acessar o app que você criou no passo anterior.\n",
        "```bash\n",
        "streamlit run app.py\n",
        "```\n",
        "> Para encerrar o app, digite `Ctrl` + `C`."
      ]
    },
    {
      "cell_type": "markdown",
      "metadata": {
        "id": "vxUluGUvTM51"
      },
      "source": [
        "---\n",
        "### Rodando no Colab\n",
        "\n",
        "Quando executamos um notebook no Google Colab estamos rodando em um servidor, por conta disso, vamos ter que fazer alguns passos adicionais para conseguir acessar o app criado.\n",
        "\n",
        "Para isto, basta seguir os seguintes passos:\n",
        "\n",
        "- Passo 1: caso ainda não tenha feito, o primeiro passo é instalar as bibliotecas `streamlit` e `localtunnel` no seu ambiente de execução.\n",
        "```python\n",
        "!pip install streamlit\n",
        "!npm install localtunnel\n",
        "```\n",
        "\n",
        "- Passo 2: identifique o IP do seu ambiente de execução, para isto basta rodar a célula abaixo.\n",
        "```python\n",
        "!wget -q -O - ipv4.icanhazip.com\n",
        "```\n",
        "\n",
        "- Passo 3: execute a célula abaixo para abrir uma porta localtunnel para acesso ao aplicativo.\n",
        "```python\n",
        "!streamlit run app.py & npx localtunnel --port 8501\n",
        "```\n",
        "\n",
        "- Passo 4: abra o link que aparece em `your url is: ****AQUI***` e então preencha `Tunnel Password: ` com o IP do seu ambiente (Veja o Passo 2).\n",
        "> Com isso, deve ser aberta uma nova aba no seu navegador contendo a execução do seu app.\n",
        "\n",
        "\n",
        "As células abaixo contém essa sequência de códigos."
      ]
    },
    {
      "cell_type": "code",
      "execution_count": null,
      "metadata": {
        "id": "NLFL-ACGW5LP"
      },
      "outputs": [],
      "source": [
        "!pip install streamlit -q"
      ]
    },
    {
      "cell_type": "code",
      "execution_count": null,
      "metadata": {
        "id": "_QeiehuDX17W"
      },
      "outputs": [],
      "source": [
        "!npm install localtunnel -q"
      ]
    },
    {
      "cell_type": "code",
      "execution_count": null,
      "metadata": {
        "id": "Snp_EirKUXXu"
      },
      "outputs": [],
      "source": [
        "!wget -q -O - ipv4.icanhazip.com"
      ]
    },
    {
      "cell_type": "code",
      "execution_count": null,
      "metadata": {
        "id": "8alcVVS1XRW1"
      },
      "outputs": [],
      "source": [
        "!streamlit run app.py & npx localtunnel --port 8501"
      ]
    },
    {
      "cell_type": "markdown",
      "source": [
        "---\n",
        "## Funções principais\n",
        "\n",
        "- `st.title(string)`: Exibe um título principal.\n",
        "- `st.header(string)`: Exibe um cabeçalho.\n",
        "- `st.subheader(string)`: Exibe um subtítulo.\n",
        "- `st.text(string)`: Exibe texto simples.\n",
        "- `st.markdown(string)`: Exibe texto com formatação Markdown.\n",
        "- `st.code(code, language=\"python\")`: Exibe um bloco de código com destaque para a linguagem especificada.\n",
        "- `st.latex(string)`: Renderiza expressões matemáticas em formato LaTeX.\n",
        "- `st.write(object)`: Exibe texto ou qualquer outro objeto (como DataFrames, gráficos, etc.).\n",
        "- `st.metric(label, value)`: Exibir indicadores numéricos.\n",
        "\n",
        "### Gráficos\n",
        "- `st.line_chart(data)`: Gráfico de linhas.\n",
        "- `st.bar_chart(data)`: Gráfico de barras.\n",
        "- `st.area_chart(data)`: Gráfico de área.\n",
        "- `st.pyplot(fig)`: Renderiza gráficos criados com Matplotlib.\n",
        "- `st.plotly_chart(fig)`: Renderiza gráficos criados com Plotly.\n",
        "\n",
        "### Widgets Interativos\n",
        "Os widgets permitem a interação com o usuário e retornam valores para uso no código.\n",
        "\n",
        "#### Entrada de Texto e Botões\n",
        "  - `st.text_input(label, value=\"\", key=None)`: Caixa de entrada de texto.\n",
        "  - `st.text_area(label, value=\"\", height=None, key=None)`: Caixa de entrada de texto grande.\n",
        "  - `st.button(label, key=None)`: Botão simples.\n",
        "  - `st.download_button(label, data, file_name, mime)`: Botão para download de arquivos.\n",
        "\n",
        "#### Seleção e Escolhas\n",
        "- `st.selectbox(label, options, key=None)`: Menu suspenso de seleção única.\n",
        "- `st.multiselect(label, options, key=None)`: Menu de seleção múltipla.\n",
        "- `st.radio(label, options, key=None)`: Botões de rádio para seleção única.\n",
        "\n",
        "#### Sliders e Inputs Numéricos\n",
        "- `st.slider(label, min_value, max_value, value=None, key=None)`: Slider para selecionar um valor ou intervalo.\n",
        "- `st.number_input(label, min_value=None, max_value=None, value=0, key=None)`: Entrada numérica.\n",
        "\n",
        "#### Upload de Arquivos\n",
        "- `st.file_uploader(label, type=None, key=None)`: Permite o upload de arquivos.\n",
        "\n",
        "#### Checkboxes e Outros\n",
        "- `st.checkbox(label, value=False, key=None)`: Caixa de seleção.\n",
        "- `st.toggle(label, value=False, key=None)`: Alternador (toggle).\n",
        "\n",
        "### Controle de Layout\n",
        "- `st.sidebar`: Adiciona widgets na barra lateral.\n",
        "- `st.columns(spec)`: Divide o layout em colunas.\n",
        "- `st.container()`: Cria um contêiner para organizar elementos.\n",
        "- `st.expander(label)`: Cria um bloco que pode ser expandido/colapsado.\n",
        "\n"
      ],
      "metadata": {
        "id": "u0MG1eOjeLmM"
      }
    },
    {
      "cell_type": "markdown",
      "metadata": {
        "id": "8BBmcMZ9v7Bm"
      },
      "source": [
        "---\n",
        "## Exemplo - Gapminder\n",
        "\n",
        "Como exemplo, vamos dar sequência ao tutorial que vimos em \"Visualizações Dinâmicas\", agora ilustrando a criação de um dashboard para o conjunto de dados `gapminder`.\n",
        "\n",
        "Vamos rodar a célula abaixo apenas para lembrar a estrutura desse conjunto de dados."
      ]
    },
    {
      "cell_type": "code",
      "source": [
        "## Resumo dos dados\n",
        "import plotly.express as px\n",
        "\n",
        "# Carregar o dataset\n",
        "df = px.data.gapminder()\n",
        "\n",
        "# Visualizar as primeiras linhas\n",
        "display(df)"
      ],
      "metadata": {
        "id": "eba9oPhb-7E3"
      },
      "execution_count": null,
      "outputs": []
    },
    {
      "cell_type": "markdown",
      "source": [
        "### **Dashboard - Parte 1**\n",
        "\n",
        "Agora vamos começar gerando um código básico para depois ir incrementando.\n",
        "\n",
        "> Após rodar a célula abaixo, abra o dashboard gerado para ver o resultado. Note que foi criado um gráfico interativo que relaciona \"renda per capita\" com \"expectativa de vida\" e que permite selecionar por anos."
      ],
      "metadata": {
        "id": "Q69K7jqU-9p_"
      }
    },
    {
      "cell_type": "code",
      "source": [
        "# Cria um arquivo chamado dash_gapminder_1.py\n",
        "%%writefile dash_gapminder_1.py\n",
        "\n",
        "import streamlit as st\n",
        "import plotly.express as px\n",
        "\n",
        "# Carregar o conjunto de dados Gapminder\n",
        "df = px.data.gapminder()\n",
        "\n",
        "st.title(\"Dashboard Interativo: Gapminder\")\n",
        "st.write(\"Este dashboard apresenta informações interativas sobre o conjunto de dados Gapminder.\")\n",
        "\n",
        "# Filtro por ano\n",
        "anos = df[\"year\"].unique()                               ## lista contendo os anos\n",
        "ano_selecionado = st.selectbox(\"Selecione o ano:\", anos) ## cria um widget de seleção\n",
        "\n",
        "# Filtrar dados com base no ano selecionado\n",
        "df_filtrado = df[df[\"year\"] == ano_selecionado]\n",
        "\n",
        "# Gráfico de dispersão\n",
        "fig = px.scatter(\n",
        "    df_filtrado,\n",
        "    x=\"gdpPercap\",\n",
        "    y=\"lifeExp\",\n",
        "    size=\"pop\",\n",
        "    color=\"continent\",\n",
        "    hover_name=\"country\",\n",
        "    log_x=True,\n",
        "    title=f\"PIB per capita vs Expectativa de Vida ({ano_selecionado})\"\n",
        ")\n",
        "\n",
        "st.plotly_chart(fig) ## inclui a figura no dashboard"
      ],
      "metadata": {
        "id": "UizaW8HD-ILd"
      },
      "execution_count": null,
      "outputs": []
    },
    {
      "cell_type": "code",
      "source": [
        "## Para execução do Dashboard no Colab\n",
        "\n",
        "!wget -q -O - ipv4.icanhazip.com  ## ip\n",
        "\n",
        "!streamlit run dash_gapminder_1.py & npx localtunnel --port 8501"
      ],
      "metadata": {
        "id": "1v9z5Ky2RE0E"
      },
      "execution_count": null,
      "outputs": []
    },
    {
      "cell_type": "markdown",
      "source": [
        "### **Dashboard - Parte 2**\n",
        "\n",
        "Agora vamos adicionar mais elementos ao dashboard. Para isto, vamos separar os elementos por linhas e colunas.\n",
        "\n",
        "> Após rodar a célula abaixo, abra o dashboard gerado para ver o resultado."
      ],
      "metadata": {
        "id": "OdyNq1NRA5D8"
      }
    },
    {
      "cell_type": "code",
      "source": [
        "# Cria um arquivo chamado dash_gapminder_2.py\n",
        "%%writefile dash_gapminder_2.py\n",
        "\n",
        "import streamlit as st\n",
        "import plotly.express as px\n",
        "\n",
        "# Carregar o conjunto de dados Gapminder\n",
        "df = px.data.gapminder()\n",
        "\n",
        "st.title(\"Dashboard Interativo: Gapminder\")\n",
        "st.write(\"Este dashboard apresenta informações interativas sobre o conjunto de dados Gapminder.\")\n",
        "\n",
        "# Filtro por ano\n",
        "anos = df[\"year\"].unique()                               ## lista contendo os anos\n",
        "ano_selecionado = st.selectbox(\"Selecione o ano:\", anos) ## cria um widget de seleção\n",
        "\n",
        "# Filtrar dados com base no ano selecionado\n",
        "df_filtrado = df[df[\"year\"] == ano_selecionado]\n",
        "\n",
        "# Gráfico de dispersão\n",
        "fig = px.scatter(\n",
        "    df_filtrado,\n",
        "    x=\"gdpPercap\",\n",
        "    y=\"lifeExp\",\n",
        "    size=\"pop\",\n",
        "    color=\"continent\",\n",
        "    hover_name=\"country\",\n",
        "    log_x=True,\n",
        "    title=f\"PIB per capita vs Expectativa de Vida ({ano_selecionado})\"\n",
        ")\n",
        "st.plotly_chart(fig)\n",
        "\n",
        "######## código novo ###########################################################\n",
        "col1, col2 = st.columns(2)\n",
        "\n",
        "# Gráfico 1: População por Continente\n",
        "with col1:\n",
        "    fig_bar = px.bar(\n",
        "        df_filtrado,\n",
        "        x=\"continent\",\n",
        "        y=\"pop\",\n",
        "        color=\"continent\",\n",
        "        hover_name=\"country\",\n",
        "        title=f\"População por Continente ({ano_selecionado})\"\n",
        "    )\n",
        "    st.plotly_chart(fig_bar)\n",
        "\n",
        "# Gráfico 2: Expectativa de Vida Média por Continente\n",
        "with col2:\n",
        "    df_mean = df_filtrado.groupby(\"continent\")[\"lifeExp\"].mean().reset_index()\n",
        "    fig_bar_mean = px.bar(\n",
        "        df_mean,\n",
        "        x=\"continent\",\n",
        "        y=\"lifeExp\",\n",
        "        color=\"continent\",\n",
        "        title=f\"Expectativa de Vida Média por Continente ({ano_selecionado})\"\n",
        "    )\n",
        "    st.plotly_chart(fig_bar_mean)\n",
        "\n",
        "st.write(\"### Estatísticas Gerais\")\n",
        "\n",
        "# Estatísticas em números\n",
        "col3, col4, col5 = st.columns(3)\n",
        "with col3:\n",
        "    st.metric(\"Ano Selecionado\", ano_selecionado)\n",
        "with col4:\n",
        "    st.metric(\"Países Analisados\", df_filtrado[\"country\"].nunique())\n",
        "with col5:\n",
        "    st.metric(\"População Total\", f\"{df_filtrado['pop'].sum():,.0f}\")\n",
        "################################################################################"
      ],
      "metadata": {
        "id": "bqeDTtEQA5D8"
      },
      "execution_count": null,
      "outputs": []
    },
    {
      "cell_type": "code",
      "source": [
        "## Para execução do Dashboard no Colab\n",
        "\n",
        "!wget -q -O - ipv4.icanhazip.com  ## ip\n",
        "\n",
        "!streamlit run dash_gapminder_2.py & npx localtunnel --port 8501"
      ],
      "metadata": {
        "id": "kp_dnuzuR6tl"
      },
      "execution_count": null,
      "outputs": []
    },
    {
      "cell_type": "markdown",
      "source": [
        "### **Dashboard - Parte 3**\n",
        "\n",
        "Agora vamos adicionar mais uma funcionalidade ao dashboard, vamos permiter que o usuário filtre por continente.\n",
        "\n",
        "> Após rodar a célula abaixo, abra o dashboard gerado para ver o resultado."
      ],
      "metadata": {
        "id": "miGlo_v6FIGw"
      }
    },
    {
      "cell_type": "code",
      "source": [
        "# Cria um arquivo chamado dash_gapminder_3.py\n",
        "%%writefile dash_gapminder_3.py\n",
        "\n",
        "import streamlit as st\n",
        "import plotly.express as px\n",
        "\n",
        "# Carregar o conjunto de dados Gapminder\n",
        "df = px.data.gapminder()\n",
        "\n",
        "st.title(\"Dashboard Interativo: Gapminder\")\n",
        "st.write(\"Este dashboard apresenta informações interativas sobre o conjunto de dados Gapminder.\")\n",
        "\n",
        "# Filtro por ano\n",
        "anos = df[\"year\"].unique()                               ## lista contendo os anos\n",
        "ano_selecionado = st.selectbox(\"Selecione o ano:\", anos) ## cria um widget de seleção\n",
        "\n",
        "# Filtrar dados com base no ano selecionado\n",
        "df_filtrado = df[df[\"year\"] == ano_selecionado]\n",
        "\n",
        "\n",
        "######## código novo ###########################################################\n",
        "continentes = st.multiselect(\n",
        "    \"Selecione o(s) continente(s):\",\n",
        "    options=df[\"continent\"].unique(),\n",
        "    default=df[\"continent\"].unique()\n",
        ")\n",
        "\n",
        "# Filtrar dados com base no continente\n",
        "df_filtrado_continente = df_filtrado[df_filtrado[\"continent\"].isin(continentes)]\n",
        "\n",
        "\n",
        "\n",
        "# Gráfico de dispersão\n",
        "fig = px.scatter(\n",
        "    df_filtrado_continente,\n",
        "    x=\"gdpPercap\",\n",
        "    y=\"lifeExp\",\n",
        "    size=\"pop\",\n",
        "    color=\"continent\",\n",
        "    hover_name=\"country\",\n",
        "    log_x=True,\n",
        "    title=f\"PIB per capita vs Expectativa de Vida ({ano_selecionado})\"\n",
        ")\n",
        "st.plotly_chart(fig)\n",
        "\n",
        "\n",
        "col1, col2 = st.columns(2)\n",
        "\n",
        "# Gráfico 1: População por Continente\n",
        "with col1:\n",
        "    fig_bar = px.bar(\n",
        "        df_filtrado_continente,\n",
        "        x=\"continent\",\n",
        "        y=\"pop\",\n",
        "        color=\"continent\",\n",
        "        hover_name=\"country\",\n",
        "        title=f\"População por Continente ({ano_selecionado})\"\n",
        "    )\n",
        "    st.plotly_chart(fig_bar)\n",
        "\n",
        "# Gráfico 2: Expectativa de Vida Média por Continente\n",
        "with col2:\n",
        "    df_mean = df_filtrado_continente.groupby(\"continent\")[\"lifeExp\"].mean().reset_index()\n",
        "    fig_bar_mean = px.bar(\n",
        "        df_mean,\n",
        "        x=\"continent\",\n",
        "        y=\"lifeExp\",\n",
        "        color=\"continent\",\n",
        "        title=f\"Expectativa de Vida Média por Continente ({ano_selecionado})\"\n",
        "    )\n",
        "    st.plotly_chart(fig_bar_mean)\n",
        "\n",
        "st.write(\"### Estatísticas Gerais\")\n",
        "\n",
        "# Estatísticas em números\n",
        "col3, col4, col5 = st.columns(3)\n",
        "with col3:\n",
        "    st.metric(\"Ano Selecionado\", ano_selecionado)\n",
        "with col4:\n",
        "    st.metric(\"Países Analisados\", df_filtrado_continente[\"country\"].nunique())\n",
        "with col5:\n",
        "    st.metric(\"População Total\", f\"{df_filtrado_continente['pop'].sum():,.0f}\")\n",
        "################################################################################"
      ],
      "metadata": {
        "id": "aW2rDwFBFIGx"
      },
      "execution_count": null,
      "outputs": []
    },
    {
      "cell_type": "code",
      "source": [
        "## Para execução do Dashboard no Colab\n",
        "\n",
        "!wget -q -O - ipv4.icanhazip.com  ## ip\n",
        "\n",
        "!streamlit run dash_gapminder_3.py & npx localtunnel --port 8501"
      ],
      "metadata": {
        "id": "EZ-E-Fc_SOzF"
      },
      "execution_count": null,
      "outputs": []
    },
    {
      "cell_type": "markdown",
      "source": [
        "---\n",
        "## Exercício 1\n",
        "\n",
        "Crie um dashboard interativo utilizando a biblioteca Streamlit para explorar o conjunto de dados `penguins` disponível na biblioteca `seaborn`. O dashboard deve incluir filtros para selecionar espécies e ilhas, um gráfico de dispersão relacionando o comprimento e a profundidade do bico, colorido por espécie, e um gráfico de barras mostrando o comprimento médio da nadadeira por espécie. Organize os gráficos em colunas para facilitar a visualização e adicione métricas que apresentem o número total de pinguins, o peso médio e o comprimento médio da nadadeira com base nos filtros aplicados.\n",
        "\n",
        "> **Penguins:**\n",
        "  O conjunto de dados penguins contém informações sobre três espécies de pinguins coletadas na Antártica. Ele inclui as seguintes colunas principais:\n",
        "- `species`: Espécie do pinguim (Adelie, Gentoo, Chinstrap).\n",
        "- `island`: Ilha onde o pinguim foi observado.\n",
        "- `bill_length_mm`: Comprimento do bico (em mm).\n",
        "- `bill_depth_mm`: Profundidade do bico (em mm).\n",
        "- `flipper_length_mm`: Comprimento da nadadeira (em mm).\n",
        "- `body_mass_g`: Massa corporal (em gramas).\n",
        "\n",
        "Complete o código abaixo conforme enunciado do exercício:\n",
        "\n",
        "```python\n",
        "  import streamlit as st\n",
        "  import pandas as pd\n",
        "  import plotly.express as px\n",
        "  import seaborn as sns\n",
        "\n",
        "  # Carregar os dados\n",
        "  df = sns.load_dataset(\"penguins\")\n",
        "\n",
        "  # Título e Introdução\n",
        "  st.title(\"Dashboard Interativo: Penguins\")\n",
        "  st.write(\"Explore as características de diferentes espécies de pinguins na Antártica usando este dashboard interativo.\")\n",
        "\n",
        "  # Filtros\n",
        "  species = st.multiselect(\"Selecione a(s) espécie(s):\", df[\"species\"].dropna().unique(), default=df[\"species\"].dropna().unique())\n",
        "  islands = st.multiselect(\"Selecione a(s) ilha(s):\", df[\"island\"].dropna().unique(), default=df[\"island\"].dropna().unique())\n",
        "\n",
        "  # Aplicar filtros\n",
        "  df_filtered = df[df[\"species\"].isin(species) & df[\"island\"].isin(islands)]\n",
        "```"
      ],
      "metadata": {
        "id": "1oREtcu-J5oR"
      }
    },
    {
      "cell_type": "code",
      "source": [
        "## Resumo dos dados\n",
        "import seaborn as sns\n",
        "df = sns.load_dataset(\"penguins\")\n",
        "\n",
        "display(df)"
      ],
      "metadata": {
        "id": "EKDaX8ggKsPb"
      },
      "execution_count": null,
      "outputs": []
    }
  ]
}
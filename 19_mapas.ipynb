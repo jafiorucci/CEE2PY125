{
  "nbformat": 4,
  "nbformat_minor": 0,
  "metadata": {
    "colab": {
      "provenance": [],
      "toc_visible": true,
      "authorship_tag": "ABX9TyPGtGUpKB7x+JTpbN1EzlCf",
      "include_colab_link": true
    },
    "kernelspec": {
      "name": "python3",
      "display_name": "Python 3"
    },
    "language_info": {
      "name": "python"
    }
  },
  "cells": [
    {
      "cell_type": "markdown",
      "metadata": {
        "id": "view-in-github",
        "colab_type": "text"
      },
      "source": [
        "<a href=\"https://colab.research.google.com/github/jafiorucci/CEE2PY125/blob/main/19_mapas.ipynb\" target=\"_parent\"><img src=\"https://colab.research.google.com/assets/colab-badge.svg\" alt=\"Open In Colab\"/></a>"
      ]
    },
    {
      "cell_type": "markdown",
      "source": [
        "---\n",
        "\n",
        "# **Mapas - Folium**\n",
        "\n",
        "\n",
        "# Tutorial da Biblioteca Folium no Python\n",
        "\n",
        "## Introdução\n",
        "O Folium é uma biblioteca Python que facilita a criação de mapas interativos. Ela é baseado wm Leaflet.js, uma biblioteca JavaScript amplamente utilizada para mapas.\n",
        "\n",
        "> Documentação: https://python-visualization.github.io/folium/latest/user_guide.html\n",
        "\n",
        "## Instalação\n",
        "Para instalar o Folium, use o pip:\n",
        "\n",
        "```bash\n",
        "pip install folium\n",
        "```\n",
        "\n"
      ],
      "metadata": {
        "id": "dHhjnx72CAPy"
      }
    },
    {
      "cell_type": "markdown",
      "source": [
        "\n",
        "## Criando o Primeiro Mapa\n",
        "\n",
        "A função `folium.Map()` é utilizada para criar objetos de mapas interativos;\n",
        "\n",
        "O código abaixo gera o mapa mundi.\n",
        "\n",
        "* Note que você pode interagir com esse mapa, dando zoom em qualquer região. Para isto, basta posicionar o mouse no local desejado e girar o botão de rolagem.\n",
        "\n",
        "**Explicação**:\n",
        "\n",
        "* `folium.Map()`: Cria um objeto de mapa interativo;\n",
        "\n",
        "\n"
      ],
      "metadata": {
        "id": "ToJxAaq22tiS"
      }
    },
    {
      "cell_type": "code",
      "source": [
        "import folium\n",
        "\n",
        "# gera o mapa mundi\n",
        "world_map = folium.Map(width=500,height=400)\n",
        "\n",
        "# display\n",
        "world_map ## equivalente a display( world_map )"
      ],
      "metadata": {
        "id": "waeStJhbDxtp"
      },
      "execution_count": null,
      "outputs": []
    },
    {
      "cell_type": "markdown",
      "source": [
        "### Definindo aréa de exibição no Colab\n",
        "\n",
        "> No Google Colab, mapas gerados com a biblioteca folium são exibidos automaticamente dentro de um frame com dimensões definidas pelo ambiente, o que pode resultar em janelas de visualização grandes demais ou desproporcionais. Para ter controle total sobre o tamanho da exibição do mapa, é necessário renderizar manualmente o HTML do mapa e inseri-lo em um bloco `<div>` personalizado. Isso permite ajustar precisamente a largura e a altura da área onde o mapa será mostrado, garantindo uma visualização mais adequada ao layout do notebook.\n",
        "\n",
        "\n",
        "Veja a repetição do exemplo anterior:"
      ],
      "metadata": {
        "id": "CJkgLmye__TR"
      }
    },
    {
      "cell_type": "code",
      "source": [
        "import folium\n",
        "from IPython.display import HTML\n",
        "\n",
        "world_map = folium.Map(width=500,height=400)\n",
        "\n",
        "# Renderize o HTML diretamente com tamanho controlado\n",
        "html = world_map.get_root().render()\n",
        "display(HTML(f'<div style=\"width:500px; height:400px;\">{html}</div>'))"
      ],
      "metadata": {
        "id": "84BIVF_a-0vU"
      },
      "execution_count": null,
      "outputs": []
    },
    {
      "cell_type": "markdown",
      "source": [
        "**Explicação**:\n",
        "\n",
        "- `objeto_follium.get_root()`: acessa o elemento raiz da estrutura HTML que o Folium gera (normalmente, um documento completo com `<html>`, `<head>`, `<body>`).\n",
        "\n",
        "- E `.render()` transforma esse conteúdo em uma string HTML completa, como seria salvo num arquivo .html.\n",
        "\n",
        "- `HTML(...)` vem do `IPython.display` e serve para mostrar conteúdo HTML diretamente em uma célula do notebook."
      ],
      "metadata": {
        "id": "aG1qTXpBIHTn"
      }
    },
    {
      "cell_type": "code",
      "source": [
        "## Para facilitar o dimensionamento durante esse tutorial, vamos programar uma\n",
        "## função de display conforme o tamanho que escolhermos.\n",
        "\n",
        "from IPython.display import HTML\n",
        "\n",
        "def mostrar_mapa(mapa, largura=500, altura=400):\n",
        "    html = mapa.get_root().render()\n",
        "    display(HTML(f'<div style=\"width:{largura}px; height:{altura}px;\">{html}</div>'))\n"
      ],
      "metadata": {
        "id": "x3w2A5fVza7Q"
      },
      "execution_count": null,
      "outputs": []
    },
    {
      "cell_type": "markdown",
      "source": [
        "## Definindo localição e zoom\n",
        "\n",
        "Agora vamos criar um mapa básico centrado em uma localização especificada (latitude e longitude).\n",
        "\n",
        "* Para obter as coordenadas de uma determinada localização pode-se utilizar o Google Maps (https://www.google.com.br/maps), basta clicar com o botão direito do mouse na localização desejada.\n",
        "\n",
        "\n",
        "O código abaixo cria um arquivo `mapa_basico.html` que pode ser aberto em qualquer navegador;\n",
        "\n",
        "Explicação:\n",
        "\n",
        "* `location=[-15.7586020, -47.8690589]`: Define o foco inicial do mapa para o prédio CIC/EST na Universidade de Brasília (latitude -15.7586020, longitude -47.8690589).\n",
        "\n",
        "* `zoom_start=20`: Define o nível inicial de zoom do mapa.\n",
        "\n",
        "* `control_scale=True`: Inclui a escala no mapa.\n",
        "---"
      ],
      "metadata": {
        "id": "7qOSYYg-llbj"
      }
    },
    {
      "cell_type": "code",
      "source": [
        "import folium\n",
        "\n",
        "# Criar um mapa centrado na UNB, prédio CIC/EST\n",
        "mapa_CIC_EST = folium.Map(location=[-15.7586020, -47.8690589],\n",
        "                  zoom_start=20,\n",
        "                  control_scale=True,\n",
        "                  width=500,\n",
        "                  height=400)\n",
        "\n",
        "# Exibir o mapa no Colab\n",
        "mostrar_mapa( mapa_CIC_EST )"
      ],
      "metadata": {
        "id": "pt4IEntVZ1Kf"
      },
      "execution_count": null,
      "outputs": []
    },
    {
      "cell_type": "markdown",
      "source": [
        "\n",
        "## Adicionando Marcadores\n",
        "\n",
        "A função `folium.Marker` é usada para adicionar marcadores no mapa criado com a biblioteca `folium`. Os marcadores são pontos fixos que indicam locais específicos no mapa, podendo ser personalizados com ícones, pop-ups e tooltips.\n",
        "\n",
        "```python\n",
        "folium.Marker(\n",
        "    location,           # Localização do marcador [latitude, longitude]\n",
        "    popup=None,         # Texto exibido ao clicar no marcador\n",
        "    tooltip=None,       # Texto exibido ao passar o cursor sobre o marcador\n",
        "    icon=None,          # Ícone personalizado para o marcador\n",
        "    draggable=False     # Permite arrastar o marcador se True\n",
        ")\n",
        "```\n",
        "\n",
        "No exemplo abaixo vamos gerar um mapa centrado no prédio CIC/EST e vamos definir dois marcadores, um no prédio CIC/EST e outro no prédio ICC.\n"
      ],
      "metadata": {
        "id": "LzyOMZ3U--IZ"
      }
    },
    {
      "cell_type": "code",
      "source": [
        "import folium\n",
        "\n",
        "# Criar um mapa centrado na UNB, prédio CIC/EST\n",
        "mapa_CIC_EST = folium.Map(location=[-15.7586020, -47.8690589],\n",
        "                  zoom_start=15,\n",
        "                  control_scale=True,\n",
        "                  width=500,\n",
        "                  height=400)\n",
        "\n",
        "# Adicionar um marcador no prédio CIC/EST\n",
        "folium.Marker(\n",
        "    location=[-15.7586020, -47.8690589],\n",
        "    popup=\"CIC/EST\",  # Texto exibido ao clicar no marcador\n",
        ").add_to(mapa_CIC_EST)\n",
        "\n",
        "# Adicionar um marcador no prédio ICC\n",
        "folium.Marker(\n",
        "    location=[-15.7627561, -47.869920],\n",
        "    popup=\"ICC\",  # Texto exibido ao clicar no marcador\n",
        "    icon=folium.Icon(color=\"blue\", icon=\"info-sign\")  # Personalização\n",
        ").add_to(mapa_CIC_EST)\n",
        "\n",
        "# Exibir o mapa no Colab\n",
        "mostrar_mapa( mapa_CIC_EST )\n"
      ],
      "metadata": {
        "id": "HIEDia4pCNQz"
      },
      "execution_count": null,
      "outputs": []
    },
    {
      "cell_type": "markdown",
      "source": [
        "Diferentes tipos de icones estão disponíveis, veja:\n",
        "\n",
        "* https://python-visualization.github.io/folium/latest/user_guide/ui_elements/icons.html"
      ],
      "metadata": {
        "id": "t09U0OaOs-mQ"
      }
    },
    {
      "cell_type": "markdown",
      "source": [
        "## Diferentes estilos\n",
        "\n",
        "O `folium.TileLayer` permite adicionar diferentes estilos de mapa (camadas de tile) em um mapa interativo. Essas camadas podem incluir estilos como satélite, terreno, mapas em preto e branco, e muitos outros.\n",
        "\n",
        "- Veja: https://python-visualization.github.io/folium/latest/user_guide/raster_layers.html\n",
        "\n",
        "\n",
        "Aqui estão alguns exemplos de uso do TileLayer no folium:"
      ],
      "metadata": {
        "id": "1lAwXzD6KMvF"
      }
    },
    {
      "cell_type": "code",
      "source": [
        "import folium\n",
        "\n",
        "# Criar o mapa base\n",
        "mapa = folium.Map(location=[-15.7586020, -47.8690589],\n",
        "                  zoom_start=13,\n",
        "                  width=500,\n",
        "                  height=400)\n",
        "\n",
        "# Adicionar diferentes TileLayers\n",
        "folium.TileLayer('OpenStreetMap').add_to(mapa)  # Padrão\n",
        "folium.TileLayer('CartoDB positron').add_to(mapa)  # CartoDB claro\n",
        "folium.TileLayer('CartoDB dark_matter').add_to(mapa)  # CartoDB escuro\n",
        "\n",
        "# Adicionar controle de camadas\n",
        "folium.LayerControl().add_to(mapa)\n",
        "\n",
        "# Exibir o mapa\n",
        "mostrar_mapa( mapa )"
      ],
      "metadata": {
        "id": "OssXyr7pLCEZ"
      },
      "execution_count": null,
      "outputs": []
    },
    {
      "cell_type": "markdown",
      "source": [
        "Também podemos escolher diferentes tipos de mapas disponíveis na página:\n",
        "\n",
        "- https://leaflet-extras.github.io/leaflet-providers/preview.\n",
        "\n",
        "Basta preencher os argumentos `tiles`, `attr` e `name` da função `folium.TileLayer` de acordo com o mapa escolhido na página."
      ],
      "metadata": {
        "id": "kHr80kD6FvoV"
      }
    },
    {
      "cell_type": "code",
      "source": [
        "import folium\n",
        "\n",
        "# Criar o mapa base\n",
        "mapa = folium.Map(location=[-15.7586020, -47.8690589],\n",
        "                  zoom_start=13,\n",
        "                  width=600,\n",
        "                  height=500)\n",
        "\n",
        "# Adicionar diferentes TileLayers\n",
        "folium.TileLayer(\n",
        "    tiles='https://{s}.tile.openstreetmap.fr/hot/{z}/{x}/{y}.png',\n",
        "    attr='&copy; <a href=\"https://www.openstreetmap.org/copyright\">OpenStreetMap</a> contributors, Tiles style by <a href=\"https://www.hotosm.org/\" target=\"_blank\">Humanitarian OpenStreetMap Team</a> hosted by <a href=\"https://openstreetmap.fr/\" target=\"_blank\">OpenStreetMap France</a>',\n",
        "    name='OpenStreetMap.CH'\n",
        ").add_to(mapa)  # Padrão\n",
        "\n",
        "\n",
        "# Adicionar controle de camadas\n",
        "folium.LayerControl().add_to(mapa)\n",
        "\n",
        "# Exibir o mapa\n",
        "mostrar_mapa( mapa )"
      ],
      "metadata": {
        "id": "OcM3oQipNpXl"
      },
      "execution_count": null,
      "outputs": []
    },
    {
      "cell_type": "markdown",
      "source": [
        "## Mapa de calor\n",
        "\n",
        "Para ilustrar esse tipo de gráficos vamos utilizar o conjunto de dados `Vendas`, o qual foi extraído do [kaggle](https://www.kaggle.com/datasets/olistbr/brazilian-ecommerce/data) e processado pela equipe da página https://www.hashtagtreinamentos.com/.\n",
        "\n",
        "Este conjunto de dados possui informações do número de vendas de E-Commerce em diversas cidades, juntamente com geolocalização.\n",
        "\n",
        "> No código abaixo, vamos carregar o conjunto de dados e filtrar apenas as variáveis de interesse: latitude, longitude e quantidade."
      ],
      "metadata": {
        "id": "Lyy5bW5kKc-E"
      }
    },
    {
      "cell_type": "code",
      "source": [
        "import pandas as pd\n",
        "\n",
        "Vendas = pd.read_csv(\"Vendas.csv\")\n",
        "\n",
        "print(Vendas)\n",
        "\n",
        "## Selecionando informações de latitude, longitude e quantidade\n",
        "## Descartando pontos com dados faltantes\n",
        "data = Vendas[[\"geolocation_lat\",  \"geolocation_lng\", \"quantidade\"]].dropna()\n",
        "print(data)"
      ],
      "metadata": {
        "id": "v5z8QlJxKn3t"
      },
      "execution_count": null,
      "outputs": []
    },
    {
      "cell_type": "markdown",
      "source": [
        "Vamos primeiramente construir a base do mapa. Por conveniência, vamos centrar o gráfico em Brasília e definir um zoom que seja adequado para apresentar o Brasil inteiro."
      ],
      "metadata": {
        "id": "LtEbPOt-M-53"
      }
    },
    {
      "cell_type": "code",
      "source": [
        "import folium\n",
        "\n",
        "# Criar um mapa centrado em Brasília-DF\n",
        "mapa_vendas = folium.Map(location=[-15.793, -47.883],\n",
        "                  zoom_start=4,\n",
        "                  control_scale=True,\n",
        "                  width=500,\n",
        "                  height=400)\n",
        "\n",
        "# Exibir o mapa\n",
        "mostrar_mapa( mapa_vendas )"
      ],
      "metadata": {
        "id": "CTK221GyM2sL"
      },
      "execution_count": null,
      "outputs": []
    },
    {
      "cell_type": "markdown",
      "source": [
        "Vamos agora criar um mapa iterativo de calor, para isto, vamos utilizar a função `HeatMap` da biblioteca `folium.plugins`.\n",
        "\n",
        "* Essa função permite visualizar a densidade de pontos geográficos em um mapa, destacando áreas com maior concentração de dados.\n",
        "\n",
        "Principais Argumentos:\n",
        "\n",
        "* `data` (obrigatório): Lista de pontos no formato [latitude, longitude] ou [latitude, longitude, intensidade].\n",
        "Exemplo: [[lat1, lon1], [lat2, lon2]] ou [[lat1, lon1, intensidade1], ...].\n",
        "\n",
        "* `radius` (opcional): Define o raio de influência de cada ponto, em pixels.\n",
        "Padrão: 25.\n",
        "\n",
        "* `blur` (opcional):\n",
        "Controla o grau de suavização (borrão) ao redor dos pontos.\n",
        "Padrão: 15.\n",
        "\n",
        "* `max_zoom` (opcional):\n",
        "Nível máximo de zoom no qual o HeatMap se ajustará.\n",
        "Padrão: 18.\n",
        "\n",
        "* `gradient` (opcional): Gradiente de cores para o HeatMap. Define como as intensidades são mapeadas para cores.\n",
        "Exemplo: {0.4: 'blue', 0.65: 'lime', 1: 'red'}."
      ],
      "metadata": {
        "id": "-cnBhcnfOIgp"
      }
    },
    {
      "cell_type": "code",
      "source": [
        "import folium\n",
        "from folium.plugins import HeatMap ## modulo destinado a criação de mapas de calor\n",
        "\n",
        "# Criar um mapa centrado em Brasília-DF\n",
        "mapa_vendas = folium.Map(location=[-15.793, -47.883],\n",
        "                  zoom_start=4,\n",
        "                  control_scale=True,\n",
        "                  width=800,\n",
        "                  height=500)\n",
        "\n",
        "## Selecionando informações de latitude, longitude e quantidade\n",
        "## Descartando pontos com dados faltantes\n",
        "data = Vendas[[\"geolocation_lat\",  \"geolocation_lng\", \"quantidade\"]].dropna()\n",
        "\n",
        "## Gerando o mapa de calor\n",
        "HeatMap(data, radius=20).add_to(mapa_vendas)\n",
        "\n",
        "# Exibir o mapa\n",
        "mostrar_mapa( mapa_vendas )"
      ],
      "metadata": {
        "id": "clMtLYAGOkG8"
      },
      "execution_count": null,
      "outputs": []
    },
    {
      "cell_type": "markdown",
      "source": [
        "## Outros módulos úteis\n",
        "\n",
        "O módulo `plugins` da biblioteca `folium` possui diversas funcionalidades interessantes, vamos visualizar algumas dessas."
      ],
      "metadata": {
        "id": "7z0txtVZbGiV"
      }
    },
    {
      "cell_type": "markdown",
      "source": [
        "**MarkerCluster**\n",
        "\n",
        "Permite agrupar marcadores em clusters interativos para mapas com muitos pontos."
      ],
      "metadata": {
        "id": "0F3bEMtIfYCc"
      }
    },
    {
      "cell_type": "code",
      "source": [
        "from folium.plugins import MarkerCluster\n",
        "import folium\n",
        "\n",
        "# Cria o mapa base\n",
        "mapa = folium.Map(location=[-15.7801, -47.9292],\n",
        "                  zoom_start=12,\n",
        "                  width=500,\n",
        "                  height=400)\n",
        "\n",
        "# Criar o MarkerCluster\n",
        "marker_cluster = MarkerCluster().add_to(mapa)\n",
        "\n",
        "\n",
        "# Adicionar um marcador para a UNB\n",
        "folium.Marker(\n",
        "    location=[-15.7627561, -47.869920],\n",
        "    popup=\"UNB\",\n",
        "    tooltip=\"UNB\",\n",
        "    icon=folium.Icon(color=\"blue\", icon=\"info-sign\")\n",
        ").add_to(marker_cluster)\n",
        "\n",
        "\n",
        "# Adicionar um marcador para a Congresso Nacional\n",
        "folium.Marker(\n",
        "    location=[-15.79956377408598, -47.864237915206516],\n",
        "    popup=\"Congresso Nacional\",\n",
        "    tooltip=\"Congresso Nacional\",\n",
        "    icon=folium.Icon(color=\"blue\", icon=\"info-sign\")  # Personalização\n",
        ").add_to(marker_cluster)\n",
        "\n",
        "\n",
        "# Adicionar um marcador para a Memorial JK\n",
        "folium.Marker(\n",
        "    location=[-15.784072276638101, -47.91331563118897],\n",
        "    popup=\"Memorial JK\",\n",
        "    tooltip=\"Memorial JK\",\n",
        "    icon=folium.Icon(color=\"blue\", icon=\"info-sign\")  # Personalização\n",
        ").add_to(marker_cluster)\n",
        "\n",
        "\n",
        "# Exibir o mapa\n",
        "mostrar_mapa( mapa )"
      ],
      "metadata": {
        "id": "bYMvjUZya-8R"
      },
      "execution_count": null,
      "outputs": []
    },
    {
      "cell_type": "markdown",
      "source": [
        "**MiniMap**\n",
        "\n",
        "Adiciona um pequeno mapa no canto inferior direito como referência."
      ],
      "metadata": {
        "id": "rUHKcpvkfkKe"
      }
    },
    {
      "cell_type": "code",
      "source": [
        "import folium\n",
        "from folium.plugins import MiniMap\n",
        "\n",
        "# Criar o mapa base\n",
        "mapa = folium.Map(location=[-15.7801, -47.9292], zoom_start=13,\n",
        "                  width=500,\n",
        "                  height=400)\n",
        "\n",
        "# Adicionar o MiniMap\n",
        "minimap = MiniMap()\n",
        "mapa.add_child(minimap)\n",
        "\n",
        "# Exibir o mapa\n",
        "mostrar_mapa( mapa )\n"
      ],
      "metadata": {
        "id": "oQayJ9CGbud5"
      },
      "execution_count": null,
      "outputs": []
    },
    {
      "cell_type": "markdown",
      "source": [
        "**Draw**\n",
        "\n",
        "Permite que o usuário interaja com o mapa desenhando formas (círculos, retângulos, polígonos) ou linhas."
      ],
      "metadata": {
        "id": "c1cbwVG_ftNg"
      }
    },
    {
      "cell_type": "code",
      "source": [
        "from folium.plugins import Draw\n",
        "\n",
        "# Criar o mapa base\n",
        "mapa = folium.Map(location=[-15.7801, -47.9292], zoom_start=13,\n",
        "                  width=500,\n",
        "                  height=400)\n",
        "\n",
        "# Adicionar ferramenta de desenho\n",
        "draw = Draw()\n",
        "mapa.add_child(draw)\n",
        "\n",
        "# Exibir o mapa\n",
        "mostrar_mapa( mapa )\n"
      ],
      "metadata": {
        "id": "knE_f3iBb6tv"
      },
      "execution_count": null,
      "outputs": []
    },
    {
      "cell_type": "markdown",
      "source": [
        "**MeasureControl**\n",
        "\n",
        "A função `MeasureControl` da biblioteca `folium.plugins` adiciona ao mapa uma ferramenta interativa para medir distâncias entre dois ou mais pontos e áreas no mapa. Essa funcionalidade é útil para análises espaciais rápidas diretamente na interface do mapa."
      ],
      "metadata": {
        "id": "m8Lc35wuf1Fq"
      }
    },
    {
      "cell_type": "code",
      "source": [
        "import folium\n",
        "from folium.plugins import MeasureControl\n",
        "\n",
        "# Criar o mapa base\n",
        "mapa = folium.Map(location=[-15.7801, -47.9292], zoom_start=13,\n",
        "                  width=600,\n",
        "                  height=500)\n",
        "\n",
        "# Adicionar ferramenta de medição\n",
        "mapa.add_child(MeasureControl())\n",
        "\n",
        "# Exibir o mapa\n",
        "mostrar_mapa( mapa )"
      ],
      "metadata": {
        "id": "yyJXmdacdmX7"
      },
      "execution_count": null,
      "outputs": []
    },
    {
      "cell_type": "markdown",
      "source": [
        "**Fullscreen**\n",
        "\n",
        "Adiciona um botão para alternar para o modo de tela cheia."
      ],
      "metadata": {
        "id": "SBjxL4vOf9iw"
      }
    },
    {
      "cell_type": "code",
      "source": [
        "from folium.plugins import Fullscreen\n",
        "\n",
        "# Criar o mapa base\n",
        "mapa = folium.Map(location=[-15.7801, -47.9292], zoom_start=13,\n",
        "                  width=400,\n",
        "                  height=300)\n",
        "\n",
        "# Adicionar botão de tela cheia\n",
        "Fullscreen().add_to(mapa)\n",
        "\n",
        "# Exibir o mapa\n",
        "mapa"
      ],
      "metadata": {
        "id": "OS7L4mbYepuo"
      },
      "execution_count": null,
      "outputs": []
    },
    {
      "cell_type": "markdown",
      "source": [
        "## Salvando um mapa\n",
        "\n",
        "Podemos utilizar a função `save` para salvar em HTML qualquer objeto do tipo mapa criado utilizando a biblioteca `folium`. Veja o exemplo.\n",
        "\n",
        "```python\n",
        "# Salvar o mapa em um arquivo HTML\n",
        "objeto_mapa.save(\"nome_mapa.html\")\n",
        "```\n"
      ],
      "metadata": {
        "id": "wnh0ycwOnjMO"
      }
    },
    {
      "cell_type": "code",
      "source": [
        "import folium.plugins as plugins\n",
        "import folium\n",
        "\n",
        "# Cria o mapa base\n",
        "mapa = folium.Map(location=[-15.7801, -47.9292],\n",
        "                  zoom_start=10,\n",
        "                  width=500,\n",
        "                  height=400)\n",
        "\n",
        "# Criar o MarkerCluster\n",
        "marker_cluster = plugins.MarkerCluster().add_to(mapa)\n",
        "\n",
        "\n",
        "# Adicionar um marcador para a UNB\n",
        "folium.Marker(\n",
        "    location=[-15.7627561, -47.869920],\n",
        "    popup=\"UNB\",\n",
        "    tooltip=\"UNB\",\n",
        "    icon=folium.Icon(color=\"blue\", icon=\"info-sign\")\n",
        ").add_to(marker_cluster)\n",
        "\n",
        "\n",
        "# Adicionar um marcador para a Congresso Nacional\n",
        "folium.Marker(\n",
        "    location=[-15.79956377408598, -47.864237915206516],\n",
        "    popup=\"Congresso Nacional\",\n",
        "    tooltip=\"Congresso Nacional\",\n",
        "    icon=folium.Icon(color=\"blue\", icon=\"info-sign\")  # Personalização\n",
        ").add_to(marker_cluster)\n",
        "\n",
        "\n",
        "# Adicionar um marcador para a Memorial JK\n",
        "folium.Marker(\n",
        "    location=[-15.784072276638101, -47.91331563118897],\n",
        "    popup=\"Memorial JK\",\n",
        "    tooltip=\"Memorial JK\",\n",
        "    icon=folium.Icon(color=\"blue\", icon=\"info-sign\")  # Personalização\n",
        ").add_to(marker_cluster)\n",
        "\n",
        "\n",
        "# Adicionar botão de tela cheia\n",
        "plugins.Fullscreen().add_to(mapa)\n",
        "\n",
        "# Adicionar o MiniMap\n",
        "minimap = plugins.MiniMap()\n",
        "mapa.add_child(minimap)\n",
        "\n",
        "# Salva o mapa\n",
        "mapa.save(\"mapa.html\")\n",
        "\n",
        "# Exibe\n",
        "mostrar_mapa( mapa )"
      ],
      "metadata": {
        "id": "wQKwLecnow--"
      },
      "execution_count": null,
      "outputs": []
    },
    {
      "cell_type": "markdown",
      "source": [
        "## Mapa em dashboad\n",
        "\n",
        "Um mapa do folium pode ser incluido em um dashborad do `streamlit`.\n",
        "\n",
        "- A integração é possível usando o componente `streamlit.components.v1.html`, que permite renderizar HTML personalizado, como o que o folium gera.\n",
        "\n",
        "**Exemplo**: O exemplo abaixo utiliza o conjunto de dados vendas.csv disponível no github do curso."
      ],
      "metadata": {
        "id": "n_4a4G-ADyzQ"
      }
    },
    {
      "cell_type": "code",
      "source": [
        "# Cria um arquivo chamado app.py\n",
        "%%writefile app.py\n",
        "\n",
        "import streamlit as st\n",
        "import pandas as pd\n",
        "import folium\n",
        "from streamlit.components.v1 import html\n",
        "from folium.plugins import HeatMap\n",
        "from folium.plugins import Fullscreen\n",
        "from folium.plugins import MiniMap\n",
        "\n",
        "st.title(\"E-Commerce\")\n",
        "st.write(\"Número de vendas de E-Commerce em diversas cidades do Brasil\")\n",
        "\n",
        "## Selecionando informações de estado, latitude, longitude e quantidade\n",
        "## Descartando pontos com dados faltantes\n",
        "Vendas = pd.read_csv(\"Vendas.csv\")\n",
        "data = Vendas[[\"geolocation_state\", \"geolocation_lat\",  \"geolocation_lng\", \"quantidade\"]].dropna()\n",
        "\n",
        "# Seleção de estado(s)\n",
        "estados = data[\"geolocation_state\"].unique().tolist()\n",
        "estados.sort()\n",
        "estados_selecionados = st.multiselect(\"Selecione os estados:\", estados, default=estados)\n",
        "\n",
        "# Seleção de raio\n",
        "radius = st.selectbox(\"Selecione o raio do heatmap:\", range(1, 25), index=7)\n",
        "\n",
        "# Filtra os dados\n",
        "df_filtrado = data[data[\"geolocation_state\"].isin(estados_selecionados)]\n",
        "\n",
        "# Criar um mapa centrado em Brasília-DF\n",
        "mapa_vendas = folium.Map(location=[-15.793, -47.883],\n",
        "                  zoom_start=4,\n",
        "                  control_scale=True,\n",
        "                  width=700,\n",
        "                  height=500)\n",
        "\n",
        "# Adicionar botão de tela cheia\n",
        "mapa_vendas.add_child( Fullscreen() )\n",
        "\n",
        "# Adicionar o MiniMap\n",
        "mapa_vendas.add_child(MiniMap())\n",
        "\n",
        "## Selecionando informações de latitude, longitude e quantidade\n",
        "data2 = df_filtrado[[\"geolocation_lat\",  \"geolocation_lng\", \"quantidade\"]]\n",
        "\n",
        "## Gerando o mapa de calor\n",
        "HeatMap(data2, radius=radius).add_to(mapa_vendas)\n",
        "\n",
        "# Renderiza o mapa como HTML\n",
        "map_html = mapa_vendas.get_root().render()\n",
        "\n",
        "# Exibe o mapa no Streamlit com tamanho definido\n",
        "html(map_html, height=500, width=700)"
      ],
      "metadata": {
        "id": "AaPQpevEIhE1"
      },
      "execution_count": null,
      "outputs": []
    },
    {
      "cell_type": "markdown",
      "source": [
        "Utilize as células abaixo para o rodar o dashboard."
      ],
      "metadata": {
        "id": "hZFtcMx1SwXq"
      }
    },
    {
      "cell_type": "code",
      "execution_count": null,
      "metadata": {
        "id": "NLFL-ACGW5LP"
      },
      "outputs": [],
      "source": [
        "!pip install streamlit -q"
      ]
    },
    {
      "cell_type": "code",
      "execution_count": null,
      "metadata": {
        "id": "_QeiehuDX17W"
      },
      "outputs": [],
      "source": [
        "!npm install localtunnel -q"
      ]
    },
    {
      "cell_type": "code",
      "execution_count": null,
      "metadata": {
        "id": "Snp_EirKUXXu"
      },
      "outputs": [],
      "source": [
        "!wget -q -O - ipv4.icanhazip.com"
      ]
    },
    {
      "cell_type": "code",
      "execution_count": null,
      "metadata": {
        "id": "8alcVVS1XRW1"
      },
      "outputs": [],
      "source": [
        "!streamlit run app.py & npx localtunnel --port 8501"
      ]
    },
    {
      "cell_type": "markdown",
      "source": [
        "## Exercício 1\n",
        "\n",
        "Crie um mapa com as seguintes características:\n",
        "\n",
        "1. O mapa deve ser centrado no Estádio Mané Garrincha.\n",
        "\n",
        "2. Inclua marcadores para pelo menos 4 pontos turísticos de Brasília:\n",
        "  * Congresso Nacional;\n",
        "  * Catedral de Brasília;\n",
        "  * Palácio do Planalto: [ -15.7993, -47.8608 ];\n",
        "  * Museu Nacional da República: [ -15.7933, -47.8847 ];\n",
        "\n",
        "  Adicione pop-ups e tooltips para cada marcador explicando brevemente o local.\n",
        "\n",
        "3. Adicione um MiniMap ao canto inferior direito para ajudar na navegação.\n",
        "\n",
        "4. Insira a funcionalidade para medir distâncias e áreas no mapa, com as unidades principais em metros e hectares.\n",
        "\n",
        "5. Adicione pelo menos 3 camadas de visualização ao mapa (consulte: Leaflet Providers)."
      ],
      "metadata": {
        "id": "cShMccJTqne7"
      }
    },
    {
      "cell_type": "markdown",
      "source": [
        "## Exercício 2\n",
        "\n",
        "O banco de dados fictício contém pontos representando locais conhecidos no campus Darcy Ribeiro e o número de incidentes registrados em cada um deles:\n",
        "\n",
        "```python\n",
        "# Dados fictícios de incidentes: [latitude, longitude, número de incidentes]\n",
        "incidentes = [\n",
        "    [-15.7631, -47.8690, 10],  # Prédio ICC Sul\n",
        "    [-15.7625, -47.8679, 8],   # Biblioteca Central (BCE)\n",
        "    [-15.7637, -47.8705, 15],  # Prédio do Instituto de Física (IF)\n",
        "    [-15.7622, -47.8685, 5],   # Restaurante Universitário (RU)\n",
        "    [-15.7650, -47.8700, 20],  # Prédio CIC/EST\n",
        "    [-15.7665, -47.8677, 12],  # Faculdade de Tecnologia (FT)\n",
        "    [-15.7618, -47.8699, 7],   # Faculdade de Comunicação (FAC)\n",
        "    [-15.7645, -47.8681, 18],  # Reitoria\n",
        "    [-15.7620, -47.8712, 6],   # Instituto de Ciências Sociais (ICS)\n",
        "    [-15.7658, -47.8690, 25],  # Praça da Paz\n",
        "]\n",
        "```\n",
        "\n",
        "Considerando esse conjunto de dados, faça os seguintes procedimentos:\n",
        "\n",
        "1. **Crie o Mapa Base:** O mapa deve estar centrado no campus Darcy Ribeiro com as coordenadas: location=[-15.7631, -47.8690] e zoom inicial 16.\n",
        "\n",
        "2. **Adicione o HeatMap:**\n",
        "  * Utilize os dados da variável incidentes para criar o Mapa de Calor.\n",
        "  * Cada ponto deve ter intensidade proporcional ao número de incidentes.\n",
        "\n",
        "3. **Configure o HeatMap:**\n",
        "  * Personalize os seguintes parâmetros:\n",
        "    * `radius=20`: Ajustar o tamanho do ponto no mapa.\n",
        "    * `blur=15`: Suavizar os contornos dos pontos.\n",
        "    * `max_zoom=16`: Ajustar o nível de zoom máximo.\n",
        "\n",
        "4. Inclua um MiniMap.\n",
        "\n",
        "5. Salve o mapa como `mapa_incidentes_campus.html`."
      ],
      "metadata": {
        "id": "ZL5DNPkpuGev"
      }
    }
  ]
}
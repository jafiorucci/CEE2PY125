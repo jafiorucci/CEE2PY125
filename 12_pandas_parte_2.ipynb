{
  "nbformat": 4,
  "nbformat_minor": 0,
  "metadata": {
    "colab": {
      "provenance": [],
      "toc_visible": true,
      "authorship_tag": "ABX9TyNoVRktZfGjUtoiuMzRB2Vl",
      "include_colab_link": true
    },
    "kernelspec": {
      "name": "python3",
      "display_name": "Python 3"
    },
    "language_info": {
      "name": "python"
    }
  },
  "cells": [
    {
      "cell_type": "markdown",
      "metadata": {
        "id": "view-in-github",
        "colab_type": "text"
      },
      "source": [
        "<a href=\"https://colab.research.google.com/github/jafiorucci/CEE2PY125/blob/main/12_pandas_parte_2.ipynb\" target=\"_parent\"><img src=\"https://colab.research.google.com/assets/colab-badge.svg\" alt=\"Open In Colab\"/></a>"
      ]
    },
    {
      "cell_type": "markdown",
      "source": [
        "# Pandas - Parte 2"
      ],
      "metadata": {
        "id": "8y8NrXiRRKZj"
      }
    },
    {
      "cell_type": "markdown",
      "source": [
        "## Aplicar funções em um DataFrame"
      ],
      "metadata": {
        "id": "4vk8o2bF8404"
      }
    },
    {
      "cell_type": "markdown",
      "source": [
        "`DataFrame.agg()` e `DataFrame.transform()` aplicam, respectivamente, uma função definida pelo usuário para reduzir ou propagar os resultados.\n",
        "\n",
        "* `DataFrame.agg(func, axis=0)` é utilizada para aplicar funções por eixos.\n",
        "\n",
        "* `DataFrame.transform(func, axis=0)` é utilizada para operar elemento a elemento.\n",
        "\n",
        "Veja os exemplos:"
      ],
      "metadata": {
        "id": "drKK2p5LBR4P"
      }
    },
    {
      "cell_type": "code",
      "source": [
        "import pandas as pd\n",
        "import numpy as np\n",
        "\n",
        "df = pd.DataFrame({\n",
        "    'A': [1, 2, 3, 4],\n",
        "    'B': [5, 6, np.nan, 8],\n",
        "    'C': [10, 20, 30, 40]\n",
        "})\n",
        "\n",
        "# Aplicar uma única função em todas as colunas\n",
        "result = df.agg('mean')\n",
        "print(result)\n",
        "# A    2.5\n",
        "# B    6.333333\n",
        "# C    25.0\n",
        "\n",
        "# Aplicar múltiplas funções a todas as colunas\n",
        "\n",
        "  ## Função personalizada para calcular a variação percentual\n",
        "def amplitude(series):\n",
        "    amp = float( series.max() - series.min() )\n",
        "    return amp\n",
        "\n",
        "result = df.agg(['sum', 'min', amplitude])\n",
        "print(\"\\n\", result)\n",
        "#                     A     B      C\n",
        "# sum              10.0  19.0  100.0\n",
        "# min               1.0   5.0   10.0\n",
        "# amplitude         3.0   3.0   30.0\n",
        "\n",
        "# Aplicar diferentes funções a diferentes colunas\n",
        "result = df.agg({'A': 'sum', 'B': 'mean', 'C': 'max'})\n",
        "print(\"\\n\")\n",
        "print(result)\n",
        "# A     10.0\n",
        "# B      6.333333\n",
        "# C     40.0\n"
      ],
      "metadata": {
        "id": "BV-Isf4fHV70",
        "colab": {
          "base_uri": "https://localhost:8080/"
        },
        "outputId": "699fd751-7166-42f3-ddb0-f431a1f82744"
      },
      "execution_count": 2,
      "outputs": [
        {
          "output_type": "stream",
          "name": "stdout",
          "text": [
            "A     2.500000\n",
            "B     6.333333\n",
            "C    25.000000\n",
            "dtype: float64\n",
            "\n",
            "               A     B      C\n",
            "sum        10.0  19.0  100.0\n",
            "min         1.0   5.0   10.0\n",
            "amplitude   3.0   3.0   30.0\n",
            "\n",
            "\n",
            "A    10.000000\n",
            "B     6.333333\n",
            "C    40.000000\n",
            "dtype: float64\n"
          ]
        }
      ]
    },
    {
      "cell_type": "code",
      "source": [
        "import pandas as pd\n",
        "import numpy as np\n",
        "\n",
        "df = pd.DataFrame({\n",
        "    'A': [1, 2, 3, 4],\n",
        "    'B': [5, 6, np.nan, 8],\n",
        "    'C': [10, 20, 30, 40]\n",
        "})\n",
        "\n",
        "print(\"df:\\n\", df)\n",
        "\n",
        "# Exemplo: padronizar os dados subtraindo de cada elemento o mínimo da coluna e\n",
        "# dividindo pela pela amplitude de cada coluna\n",
        "result = df.transform( lambda x: (x - x.min())/(x.max() - x.min()) )\n",
        "print(\"\\nresult:\\n\", result)\n",
        "#     A     B     C\n",
        "# 0   2  10.0   20\n",
        "# 1   4  12.0   40\n",
        "# 2   6   NaN   60\n",
        "# 3   8  16.0   80\n",
        "\n",
        "# Aplicar funções diferentes a cada coluna\n",
        "result = df.transform({'A': lambda x: x + 10, 'B': lambda x: x.fillna(0), 'C': np.sqrt})\n",
        "print(\"\\nresult:\\n\", result)\n",
        "#      A    B         C\n",
        "# 0   11  5.0  3.162278\n",
        "# 1   12  6.0  4.472136\n",
        "# 2   13  0.0  5.477226\n",
        "# 3   14  8.0  6.324555\n"
      ],
      "metadata": {
        "id": "yEJ59BcnHeA7",
        "colab": {
          "base_uri": "https://localhost:8080/"
        },
        "outputId": "9ce4003f-8110-4f8e-84ed-9fdd7935ff77"
      },
      "execution_count": 3,
      "outputs": [
        {
          "output_type": "stream",
          "name": "stdout",
          "text": [
            "df:\n",
            "    A    B   C\n",
            "0  1  5.0  10\n",
            "1  2  6.0  20\n",
            "2  3  NaN  30\n",
            "3  4  8.0  40\n",
            "\n",
            "result:\n",
            "           A         B         C\n",
            "0  0.000000  0.000000  0.000000\n",
            "1  0.333333  0.333333  0.333333\n",
            "2  0.666667       NaN  0.666667\n",
            "3  1.000000  1.000000  1.000000\n",
            "\n",
            "result:\n",
            "     A    B         C\n",
            "0  11  5.0  3.162278\n",
            "1  12  6.0  4.472136\n",
            "2  13  0.0  5.477226\n",
            "3  14  8.0  6.324555\n"
          ]
        }
      ]
    },
    {
      "cell_type": "markdown",
      "source": [
        "**Explicação**: `lambda` é uma forma de declarar um **função anônima**, geralmente utilizada em situações mais simples em que a função não será reaproveitada no futuro.\n",
        "\n",
        "* sintaxe:\n",
        "```python\n",
        "lambda argumentos: expressão\n",
        "```\n",
        "\n"
      ],
      "metadata": {
        "id": "V_2CxWRFqux7"
      }
    },
    {
      "cell_type": "markdown",
      "source": [
        "### Exercício 1\n",
        "\n",
        "Considere o seguinte `DataFrame`:\n",
        "```python\n",
        "dados = {\n",
        "    \"Região\": [\"Norte\", \"Norte\", \"Sul\", \"Sul\", \"Leste\", \"Leste\"],\n",
        "    \"Produto\": [\"Maçã\", \"Banana\", \"Maçã\", \"Banana\", \"Maçã\", \"Banana\"],\n",
        "    \"Vendas\": [120, 200, 150, 300, 250, 180],\n",
        "    \"Lucro\": [30, 50, 25, 70, 60, 40],\n",
        "    \"Desconto (%)\": [5, 10, 0, 15, 5, 10],\n",
        "}\n",
        "df = pd.DataFrame(dados)\n",
        "```\n",
        "Então:\n",
        "\n",
        "1. Use `DataFrame.agg()` para calcular, para cada coluna numérica do DataFrame:\n",
        "  * A soma;\n",
        "  * A média;\n",
        "  * O valor máximo;\n",
        "\n",
        "1. Use `DataFrame.transform()` para criar uma nova coluna chamada *Vendas Normalizadas*, que:\n",
        "  * Subtraia a média das vendas de cada valor.\n",
        "  * Divida pelo desvio padrão das vendas.\n",
        "  \n",
        "  Dica: Aplique a normalização (fórmula: $z = (x - média) / std$) diretamente sobre a coluna *Vendas*.\n"
      ],
      "metadata": {
        "id": "qf5QapCvnFsR"
      }
    },
    {
      "cell_type": "markdown",
      "source": [
        "## Contagem de valores\n",
        "\n",
        "Pandas disponbiliza a função `count()` que pode ser aplicada para objetos do tipo `Series` e `DataFrame`. Esta função é usada para contar o número de valores **não nulos**, seja por linha ou coluna.\n",
        "\n",
        "```python\n",
        "DataFrame.count(axis=0, level=None, numeric_only=False)\n",
        "```\n",
        "1. `axis`:\n",
        "  * 0 ou 'index' (padrão): Conta os valores não nulos por coluna.\n",
        "  * 1 ou 'columns': Conta os valores não nulos por linha.\n",
        "\n",
        "1. `level` (opcional):\n",
        "  * Usado quando o DataFrame possui um índice hierárquico (MultiIndex).\n",
        "  * Especifica o nível do índice para calcular os valores.\n",
        "\n",
        "3. `numeric_only` (opcional):\n",
        "  * Se True, considera apenas colunas (ou linhas) numéricas\n",
        "\n",
        " Veja o exemplo:\n"
      ],
      "metadata": {
        "id": "hXQpZecoHpf1"
      }
    },
    {
      "cell_type": "code",
      "source": [
        "import pandas as pd\n",
        "import numpy as np\n",
        "\n",
        "# Criando um DataFrame de exemplo\n",
        "df = pd.DataFrame({\n",
        "    \"A\": [1, 2, np.nan, 4],\n",
        "    \"B\": [np.nan, 2, 3, 4],\n",
        "    \"C\": [\"foo\", \"bar\", np.nan, \"baz\"],\n",
        "    \"D\": [np.nan, np.nan, np.nan, np.nan],\n",
        "})\n",
        "\n",
        "print(\"DataFrame:\")\n",
        "print(df)\n",
        "\n",
        "# Contando valores não nulos em cada coluna\n",
        "print(\"\\nContagem por coluna:\")\n",
        "print(df.count())\n"
      ],
      "metadata": {
        "id": "pjgeukQAsnkg",
        "colab": {
          "base_uri": "https://localhost:8080/"
        },
        "outputId": "a5954a65-e82e-4148-ad4e-7b3f51dd1ec3"
      },
      "execution_count": 4,
      "outputs": [
        {
          "output_type": "stream",
          "name": "stdout",
          "text": [
            "DataFrame:\n",
            "     A    B    C   D\n",
            "0  1.0  NaN  foo NaN\n",
            "1  2.0  2.0  bar NaN\n",
            "2  NaN  3.0  NaN NaN\n",
            "3  4.0  4.0  baz NaN\n",
            "\n",
            "Contagem por coluna:\n",
            "A    3\n",
            "B    3\n",
            "C    3\n",
            "D    0\n",
            "dtype: int64\n"
          ]
        }
      ]
    },
    {
      "cell_type": "markdown",
      "source": [
        "O método `Series.value_counts()` em pandas conta a frequência de cada valor único em um objeto `Series`, ou seja, quantas vezes cada valor aparece.\n",
        "\n",
        "> É uma ferramenta muito útil para análise de dados categóricos, pois oferece uma visão rápida da distribuição de valores."
      ],
      "metadata": {
        "id": "6v2qA2VJtH8n"
      }
    },
    {
      "cell_type": "code",
      "source": [
        "import pandas as pd\n",
        "\n",
        "# Criando uma Series\n",
        "serie = pd.Series([\"maçã\", \"banana\", \"laranja\", \"maçã\", \"banana\", \"maçã\"])\n",
        "\n",
        "print(\"Série original:\")\n",
        "print(serie)\n",
        "\n",
        "# Contando valores únicos\n",
        "print(\"\\nContagem de valores:\")\n",
        "print(serie.value_counts())\n",
        "\n",
        "# Frequência relativa\n",
        "print(\"\\nFrequência relativa:\")\n",
        "print(serie.value_counts(normalize=True))"
      ],
      "metadata": {
        "id": "JRyMNXHZHqa0",
        "colab": {
          "base_uri": "https://localhost:8080/"
        },
        "outputId": "832da883-da70-497a-f20d-3ec45d79b230"
      },
      "execution_count": 5,
      "outputs": [
        {
          "output_type": "stream",
          "name": "stdout",
          "text": [
            "Série original:\n",
            "0       maçã\n",
            "1     banana\n",
            "2    laranja\n",
            "3       maçã\n",
            "4     banana\n",
            "5       maçã\n",
            "dtype: object\n",
            "\n",
            "Contagem de valores:\n",
            "maçã       3\n",
            "banana     2\n",
            "laranja    1\n",
            "Name: count, dtype: int64\n",
            "\n",
            "Frequência relativa:\n",
            "maçã       0.500000\n",
            "banana     0.333333\n",
            "laranja    0.166667\n",
            "Name: proportion, dtype: float64\n"
          ]
        }
      ]
    },
    {
      "cell_type": "markdown",
      "source": [
        "## Métodos para *strings*"
      ],
      "metadata": {
        "id": "JanUf0V-Svcg"
      }
    },
    {
      "cell_type": "markdown",
      "source": [
        "`Series` possui um conjunto de métodos para processar atributos do tipo `str`."
      ],
      "metadata": {
        "id": "hUET6IJEHrDc"
      }
    },
    {
      "cell_type": "code",
      "source": [
        "s = pd.Series([\"A\", \"11B8\", \"99C\", \"Aaba\", \"Baca\", np.nan, \"CABA\", \"81dog\", \"cat\"])\n",
        "print( s.str.lower() )\n",
        "print(\"\\n\")\n",
        "print( s.str.findall(\"\\d+\") )\n",
        "\n",
        "## no caso de dataframe, então deve ser aplicado por coluna\n",
        "df = pd.DataFrame({\"A\": [\"AA99\", \"asda21\", \"21asd23\"],\n",
        "                   \"B\": [\"AA99\", \"asda21\", \"21asd23\"]})\n",
        "\n",
        "print(\"\\ndf:\\n\", df)\n",
        "\n",
        "df_transformed = df.agg(lambda col: col.str.findall(r\"\\d+\"))\n",
        "print(\"\\n\")\n",
        "print(df_transformed)"
      ],
      "metadata": {
        "id": "TzaQ7fCWJq-0",
        "colab": {
          "base_uri": "https://localhost:8080/"
        },
        "outputId": "f585016d-17e6-4f0b-d679-3d56ac297a91"
      },
      "execution_count": 6,
      "outputs": [
        {
          "output_type": "stream",
          "name": "stdout",
          "text": [
            "0        a\n",
            "1     11b8\n",
            "2      99c\n",
            "3     aaba\n",
            "4     baca\n",
            "5      NaN\n",
            "6     caba\n",
            "7    81dog\n",
            "8      cat\n",
            "dtype: object\n",
            "\n",
            "\n",
            "0         []\n",
            "1    [11, 8]\n",
            "2       [99]\n",
            "3         []\n",
            "4         []\n",
            "5        NaN\n",
            "6         []\n",
            "7       [81]\n",
            "8         []\n",
            "dtype: object\n",
            "\n",
            "df:\n",
            "          A        B\n",
            "0     AA99     AA99\n",
            "1   asda21   asda21\n",
            "2  21asd23  21asd23\n",
            "\n",
            "\n",
            "          A         B\n",
            "0      [99]      [99]\n",
            "1      [21]      [21]\n",
            "2  [21, 23]  [21, 23]\n"
          ]
        }
      ]
    },
    {
      "cell_type": "markdown",
      "source": [
        "## Concatenação"
      ],
      "metadata": {
        "id": "f32V8P-MS65j"
      }
    },
    {
      "cell_type": "markdown",
      "source": [
        "A concatenação de objetos do *Pandas* é feito com `concat()`:"
      ],
      "metadata": {
        "id": "wn82NG0_Jsfz"
      }
    },
    {
      "cell_type": "code",
      "source": [
        "df = pd.DataFrame(np.random.randn(10, 4))\n",
        "df"
      ],
      "metadata": {
        "id": "lmJcxT55KiIP",
        "colab": {
          "base_uri": "https://localhost:8080/",
          "height": 363
        },
        "outputId": "3da3516e-54d8-4dd8-bfe6-31b907e21249"
      },
      "execution_count": 7,
      "outputs": [
        {
          "output_type": "execute_result",
          "data": {
            "text/plain": [
              "          0         1         2         3\n",
              "0  0.819481 -0.976529 -0.567788  1.246026\n",
              "1 -2.092075  1.364248 -0.329691  1.217906\n",
              "2 -0.948291 -1.908308  0.106607  1.019494\n",
              "3  0.711577  1.180111  1.267199  1.532090\n",
              "4  0.530318 -0.634607 -0.939276 -1.964287\n",
              "5  0.013038  0.127796 -0.270279 -0.000092\n",
              "6  0.616760  0.351142  0.101530 -1.202785\n",
              "7 -0.128377  0.927625  1.355759 -0.593981\n",
              "8  1.442264 -1.652923 -0.163291  0.658369\n",
              "9  0.001226 -0.725626 -1.076763 -1.820396"
            ],
            "text/html": [
              "\n",
              "  <div id=\"df-0b3496ca-8d8f-4bbf-a5bd-e370155e75b8\" class=\"colab-df-container\">\n",
              "    <div>\n",
              "<style scoped>\n",
              "    .dataframe tbody tr th:only-of-type {\n",
              "        vertical-align: middle;\n",
              "    }\n",
              "\n",
              "    .dataframe tbody tr th {\n",
              "        vertical-align: top;\n",
              "    }\n",
              "\n",
              "    .dataframe thead th {\n",
              "        text-align: right;\n",
              "    }\n",
              "</style>\n",
              "<table border=\"1\" class=\"dataframe\">\n",
              "  <thead>\n",
              "    <tr style=\"text-align: right;\">\n",
              "      <th></th>\n",
              "      <th>0</th>\n",
              "      <th>1</th>\n",
              "      <th>2</th>\n",
              "      <th>3</th>\n",
              "    </tr>\n",
              "  </thead>\n",
              "  <tbody>\n",
              "    <tr>\n",
              "      <th>0</th>\n",
              "      <td>0.819481</td>\n",
              "      <td>-0.976529</td>\n",
              "      <td>-0.567788</td>\n",
              "      <td>1.246026</td>\n",
              "    </tr>\n",
              "    <tr>\n",
              "      <th>1</th>\n",
              "      <td>-2.092075</td>\n",
              "      <td>1.364248</td>\n",
              "      <td>-0.329691</td>\n",
              "      <td>1.217906</td>\n",
              "    </tr>\n",
              "    <tr>\n",
              "      <th>2</th>\n",
              "      <td>-0.948291</td>\n",
              "      <td>-1.908308</td>\n",
              "      <td>0.106607</td>\n",
              "      <td>1.019494</td>\n",
              "    </tr>\n",
              "    <tr>\n",
              "      <th>3</th>\n",
              "      <td>0.711577</td>\n",
              "      <td>1.180111</td>\n",
              "      <td>1.267199</td>\n",
              "      <td>1.532090</td>\n",
              "    </tr>\n",
              "    <tr>\n",
              "      <th>4</th>\n",
              "      <td>0.530318</td>\n",
              "      <td>-0.634607</td>\n",
              "      <td>-0.939276</td>\n",
              "      <td>-1.964287</td>\n",
              "    </tr>\n",
              "    <tr>\n",
              "      <th>5</th>\n",
              "      <td>0.013038</td>\n",
              "      <td>0.127796</td>\n",
              "      <td>-0.270279</td>\n",
              "      <td>-0.000092</td>\n",
              "    </tr>\n",
              "    <tr>\n",
              "      <th>6</th>\n",
              "      <td>0.616760</td>\n",
              "      <td>0.351142</td>\n",
              "      <td>0.101530</td>\n",
              "      <td>-1.202785</td>\n",
              "    </tr>\n",
              "    <tr>\n",
              "      <th>7</th>\n",
              "      <td>-0.128377</td>\n",
              "      <td>0.927625</td>\n",
              "      <td>1.355759</td>\n",
              "      <td>-0.593981</td>\n",
              "    </tr>\n",
              "    <tr>\n",
              "      <th>8</th>\n",
              "      <td>1.442264</td>\n",
              "      <td>-1.652923</td>\n",
              "      <td>-0.163291</td>\n",
              "      <td>0.658369</td>\n",
              "    </tr>\n",
              "    <tr>\n",
              "      <th>9</th>\n",
              "      <td>0.001226</td>\n",
              "      <td>-0.725626</td>\n",
              "      <td>-1.076763</td>\n",
              "      <td>-1.820396</td>\n",
              "    </tr>\n",
              "  </tbody>\n",
              "</table>\n",
              "</div>\n",
              "    <div class=\"colab-df-buttons\">\n",
              "\n",
              "  <div class=\"colab-df-container\">\n",
              "    <button class=\"colab-df-convert\" onclick=\"convertToInteractive('df-0b3496ca-8d8f-4bbf-a5bd-e370155e75b8')\"\n",
              "            title=\"Convert this dataframe to an interactive table.\"\n",
              "            style=\"display:none;\">\n",
              "\n",
              "  <svg xmlns=\"http://www.w3.org/2000/svg\" height=\"24px\" viewBox=\"0 -960 960 960\">\n",
              "    <path d=\"M120-120v-720h720v720H120Zm60-500h600v-160H180v160Zm220 220h160v-160H400v160Zm0 220h160v-160H400v160ZM180-400h160v-160H180v160Zm440 0h160v-160H620v160ZM180-180h160v-160H180v160Zm440 0h160v-160H620v160Z\"/>\n",
              "  </svg>\n",
              "    </button>\n",
              "\n",
              "  <style>\n",
              "    .colab-df-container {\n",
              "      display:flex;\n",
              "      gap: 12px;\n",
              "    }\n",
              "\n",
              "    .colab-df-convert {\n",
              "      background-color: #E8F0FE;\n",
              "      border: none;\n",
              "      border-radius: 50%;\n",
              "      cursor: pointer;\n",
              "      display: none;\n",
              "      fill: #1967D2;\n",
              "      height: 32px;\n",
              "      padding: 0 0 0 0;\n",
              "      width: 32px;\n",
              "    }\n",
              "\n",
              "    .colab-df-convert:hover {\n",
              "      background-color: #E2EBFA;\n",
              "      box-shadow: 0px 1px 2px rgba(60, 64, 67, 0.3), 0px 1px 3px 1px rgba(60, 64, 67, 0.15);\n",
              "      fill: #174EA6;\n",
              "    }\n",
              "\n",
              "    .colab-df-buttons div {\n",
              "      margin-bottom: 4px;\n",
              "    }\n",
              "\n",
              "    [theme=dark] .colab-df-convert {\n",
              "      background-color: #3B4455;\n",
              "      fill: #D2E3FC;\n",
              "    }\n",
              "\n",
              "    [theme=dark] .colab-df-convert:hover {\n",
              "      background-color: #434B5C;\n",
              "      box-shadow: 0px 1px 3px 1px rgba(0, 0, 0, 0.15);\n",
              "      filter: drop-shadow(0px 1px 2px rgba(0, 0, 0, 0.3));\n",
              "      fill: #FFFFFF;\n",
              "    }\n",
              "  </style>\n",
              "\n",
              "    <script>\n",
              "      const buttonEl =\n",
              "        document.querySelector('#df-0b3496ca-8d8f-4bbf-a5bd-e370155e75b8 button.colab-df-convert');\n",
              "      buttonEl.style.display =\n",
              "        google.colab.kernel.accessAllowed ? 'block' : 'none';\n",
              "\n",
              "      async function convertToInteractive(key) {\n",
              "        const element = document.querySelector('#df-0b3496ca-8d8f-4bbf-a5bd-e370155e75b8');\n",
              "        const dataTable =\n",
              "          await google.colab.kernel.invokeFunction('convertToInteractive',\n",
              "                                                    [key], {});\n",
              "        if (!dataTable) return;\n",
              "\n",
              "        const docLinkHtml = 'Like what you see? Visit the ' +\n",
              "          '<a target=\"_blank\" href=https://colab.research.google.com/notebooks/data_table.ipynb>data table notebook</a>'\n",
              "          + ' to learn more about interactive tables.';\n",
              "        element.innerHTML = '';\n",
              "        dataTable['output_type'] = 'display_data';\n",
              "        await google.colab.output.renderOutput(dataTable, element);\n",
              "        const docLink = document.createElement('div');\n",
              "        docLink.innerHTML = docLinkHtml;\n",
              "        element.appendChild(docLink);\n",
              "      }\n",
              "    </script>\n",
              "  </div>\n",
              "\n",
              "\n",
              "    <div id=\"df-e682cf45-0e93-4b07-b397-de5af090466b\">\n",
              "      <button class=\"colab-df-quickchart\" onclick=\"quickchart('df-e682cf45-0e93-4b07-b397-de5af090466b')\"\n",
              "                title=\"Suggest charts\"\n",
              "                style=\"display:none;\">\n",
              "\n",
              "<svg xmlns=\"http://www.w3.org/2000/svg\" height=\"24px\"viewBox=\"0 0 24 24\"\n",
              "     width=\"24px\">\n",
              "    <g>\n",
              "        <path d=\"M19 3H5c-1.1 0-2 .9-2 2v14c0 1.1.9 2 2 2h14c1.1 0 2-.9 2-2V5c0-1.1-.9-2-2-2zM9 17H7v-7h2v7zm4 0h-2V7h2v10zm4 0h-2v-4h2v4z\"/>\n",
              "    </g>\n",
              "</svg>\n",
              "      </button>\n",
              "\n",
              "<style>\n",
              "  .colab-df-quickchart {\n",
              "      --bg-color: #E8F0FE;\n",
              "      --fill-color: #1967D2;\n",
              "      --hover-bg-color: #E2EBFA;\n",
              "      --hover-fill-color: #174EA6;\n",
              "      --disabled-fill-color: #AAA;\n",
              "      --disabled-bg-color: #DDD;\n",
              "  }\n",
              "\n",
              "  [theme=dark] .colab-df-quickchart {\n",
              "      --bg-color: #3B4455;\n",
              "      --fill-color: #D2E3FC;\n",
              "      --hover-bg-color: #434B5C;\n",
              "      --hover-fill-color: #FFFFFF;\n",
              "      --disabled-bg-color: #3B4455;\n",
              "      --disabled-fill-color: #666;\n",
              "  }\n",
              "\n",
              "  .colab-df-quickchart {\n",
              "    background-color: var(--bg-color);\n",
              "    border: none;\n",
              "    border-radius: 50%;\n",
              "    cursor: pointer;\n",
              "    display: none;\n",
              "    fill: var(--fill-color);\n",
              "    height: 32px;\n",
              "    padding: 0;\n",
              "    width: 32px;\n",
              "  }\n",
              "\n",
              "  .colab-df-quickchart:hover {\n",
              "    background-color: var(--hover-bg-color);\n",
              "    box-shadow: 0 1px 2px rgba(60, 64, 67, 0.3), 0 1px 3px 1px rgba(60, 64, 67, 0.15);\n",
              "    fill: var(--button-hover-fill-color);\n",
              "  }\n",
              "\n",
              "  .colab-df-quickchart-complete:disabled,\n",
              "  .colab-df-quickchart-complete:disabled:hover {\n",
              "    background-color: var(--disabled-bg-color);\n",
              "    fill: var(--disabled-fill-color);\n",
              "    box-shadow: none;\n",
              "  }\n",
              "\n",
              "  .colab-df-spinner {\n",
              "    border: 2px solid var(--fill-color);\n",
              "    border-color: transparent;\n",
              "    border-bottom-color: var(--fill-color);\n",
              "    animation:\n",
              "      spin 1s steps(1) infinite;\n",
              "  }\n",
              "\n",
              "  @keyframes spin {\n",
              "    0% {\n",
              "      border-color: transparent;\n",
              "      border-bottom-color: var(--fill-color);\n",
              "      border-left-color: var(--fill-color);\n",
              "    }\n",
              "    20% {\n",
              "      border-color: transparent;\n",
              "      border-left-color: var(--fill-color);\n",
              "      border-top-color: var(--fill-color);\n",
              "    }\n",
              "    30% {\n",
              "      border-color: transparent;\n",
              "      border-left-color: var(--fill-color);\n",
              "      border-top-color: var(--fill-color);\n",
              "      border-right-color: var(--fill-color);\n",
              "    }\n",
              "    40% {\n",
              "      border-color: transparent;\n",
              "      border-right-color: var(--fill-color);\n",
              "      border-top-color: var(--fill-color);\n",
              "    }\n",
              "    60% {\n",
              "      border-color: transparent;\n",
              "      border-right-color: var(--fill-color);\n",
              "    }\n",
              "    80% {\n",
              "      border-color: transparent;\n",
              "      border-right-color: var(--fill-color);\n",
              "      border-bottom-color: var(--fill-color);\n",
              "    }\n",
              "    90% {\n",
              "      border-color: transparent;\n",
              "      border-bottom-color: var(--fill-color);\n",
              "    }\n",
              "  }\n",
              "</style>\n",
              "\n",
              "      <script>\n",
              "        async function quickchart(key) {\n",
              "          const quickchartButtonEl =\n",
              "            document.querySelector('#' + key + ' button');\n",
              "          quickchartButtonEl.disabled = true;  // To prevent multiple clicks.\n",
              "          quickchartButtonEl.classList.add('colab-df-spinner');\n",
              "          try {\n",
              "            const charts = await google.colab.kernel.invokeFunction(\n",
              "                'suggestCharts', [key], {});\n",
              "          } catch (error) {\n",
              "            console.error('Error during call to suggestCharts:', error);\n",
              "          }\n",
              "          quickchartButtonEl.classList.remove('colab-df-spinner');\n",
              "          quickchartButtonEl.classList.add('colab-df-quickchart-complete');\n",
              "        }\n",
              "        (() => {\n",
              "          let quickchartButtonEl =\n",
              "            document.querySelector('#df-e682cf45-0e93-4b07-b397-de5af090466b button');\n",
              "          quickchartButtonEl.style.display =\n",
              "            google.colab.kernel.accessAllowed ? 'block' : 'none';\n",
              "        })();\n",
              "      </script>\n",
              "    </div>\n",
              "\n",
              "  <div id=\"id_67caa1f8-1ece-42bd-8dad-b8d9dd82ae81\">\n",
              "    <style>\n",
              "      .colab-df-generate {\n",
              "        background-color: #E8F0FE;\n",
              "        border: none;\n",
              "        border-radius: 50%;\n",
              "        cursor: pointer;\n",
              "        display: none;\n",
              "        fill: #1967D2;\n",
              "        height: 32px;\n",
              "        padding: 0 0 0 0;\n",
              "        width: 32px;\n",
              "      }\n",
              "\n",
              "      .colab-df-generate:hover {\n",
              "        background-color: #E2EBFA;\n",
              "        box-shadow: 0px 1px 2px rgba(60, 64, 67, 0.3), 0px 1px 3px 1px rgba(60, 64, 67, 0.15);\n",
              "        fill: #174EA6;\n",
              "      }\n",
              "\n",
              "      [theme=dark] .colab-df-generate {\n",
              "        background-color: #3B4455;\n",
              "        fill: #D2E3FC;\n",
              "      }\n",
              "\n",
              "      [theme=dark] .colab-df-generate:hover {\n",
              "        background-color: #434B5C;\n",
              "        box-shadow: 0px 1px 3px 1px rgba(0, 0, 0, 0.15);\n",
              "        filter: drop-shadow(0px 1px 2px rgba(0, 0, 0, 0.3));\n",
              "        fill: #FFFFFF;\n",
              "      }\n",
              "    </style>\n",
              "    <button class=\"colab-df-generate\" onclick=\"generateWithVariable('df')\"\n",
              "            title=\"Generate code using this dataframe.\"\n",
              "            style=\"display:none;\">\n",
              "\n",
              "  <svg xmlns=\"http://www.w3.org/2000/svg\" height=\"24px\"viewBox=\"0 0 24 24\"\n",
              "       width=\"24px\">\n",
              "    <path d=\"M7,19H8.4L18.45,9,17,7.55,7,17.6ZM5,21V16.75L18.45,3.32a2,2,0,0,1,2.83,0l1.4,1.43a1.91,1.91,0,0,1,.58,1.4,1.91,1.91,0,0,1-.58,1.4L9.25,21ZM18.45,9,17,7.55Zm-12,3A5.31,5.31,0,0,0,4.9,8.1,5.31,5.31,0,0,0,1,6.5,5.31,5.31,0,0,0,4.9,4.9,5.31,5.31,0,0,0,6.5,1,5.31,5.31,0,0,0,8.1,4.9,5.31,5.31,0,0,0,12,6.5,5.46,5.46,0,0,0,6.5,12Z\"/>\n",
              "  </svg>\n",
              "    </button>\n",
              "    <script>\n",
              "      (() => {\n",
              "      const buttonEl =\n",
              "        document.querySelector('#id_67caa1f8-1ece-42bd-8dad-b8d9dd82ae81 button.colab-df-generate');\n",
              "      buttonEl.style.display =\n",
              "        google.colab.kernel.accessAllowed ? 'block' : 'none';\n",
              "\n",
              "      buttonEl.onclick = () => {\n",
              "        google.colab.notebook.generateWithVariable('df');\n",
              "      }\n",
              "      })();\n",
              "    </script>\n",
              "  </div>\n",
              "\n",
              "    </div>\n",
              "  </div>\n"
            ],
            "application/vnd.google.colaboratory.intrinsic+json": {
              "type": "dataframe",
              "variable_name": "df",
              "summary": "{\n  \"name\": \"df\",\n  \"rows\": 10,\n  \"fields\": [\n    {\n      \"column\": 0,\n      \"properties\": {\n        \"dtype\": \"number\",\n        \"std\": 1.0065911356519448,\n        \"min\": -2.0920750591106403,\n        \"max\": 1.442263912211428,\n        \"num_unique_values\": 10,\n        \"samples\": [\n          1.442263912211428,\n          -2.0920750591106403,\n          0.013038070225555908\n        ],\n        \"semantic_type\": \"\",\n        \"description\": \"\"\n      }\n    },\n    {\n      \"column\": 1,\n      \"properties\": {\n        \"dtype\": \"number\",\n        \"std\": 1.1610105105555535,\n        \"min\": -1.9083078315745965,\n        \"max\": 1.364247901221692,\n        \"num_unique_values\": 10,\n        \"samples\": [\n          -1.6529234397244956,\n          1.364247901221692,\n          0.12779626631320537\n        ],\n        \"semantic_type\": \"\",\n        \"description\": \"\"\n      }\n    },\n    {\n      \"column\": 2,\n      \"properties\": {\n        \"dtype\": \"number\",\n        \"std\": 0.817270345751445,\n        \"min\": -1.07676341097936,\n        \"max\": 1.3557591780685743,\n        \"num_unique_values\": 10,\n        \"samples\": [\n          -0.16329123592593023,\n          -0.32969063252291086,\n          -0.2702788869556938\n        ],\n        \"semantic_type\": \"\",\n        \"description\": \"\"\n      }\n    },\n    {\n      \"column\": 3,\n      \"properties\": {\n        \"dtype\": \"number\",\n        \"std\": 1.3261017841163811,\n        \"min\": -1.9642871026014541,\n        \"max\": 1.5320901646969742,\n        \"num_unique_values\": 10,\n        \"samples\": [\n          0.658369466822278,\n          1.217906413840256,\n          -9.186947753143385e-05\n        ],\n        \"semantic_type\": \"\",\n        \"description\": \"\"\n      }\n    }\n  ]\n}"
            }
          },
          "metadata": {},
          "execution_count": 7
        }
      ]
    },
    {
      "cell_type": "code",
      "source": [
        "# quebra em vários pedaços\n",
        "pieces = (df[:3], df[3:7], df[7:]) ## tupla de DataFrames\n",
        "\n",
        "# junção dos pedaços\n",
        "pd.concat(pieces, axis=0)"
      ],
      "metadata": {
        "id": "Q_0LUjuwKkp1",
        "colab": {
          "base_uri": "https://localhost:8080/",
          "height": 363
        },
        "outputId": "45addc07-41f0-4a85-c7e2-7e6297d44d0f"
      },
      "execution_count": 8,
      "outputs": [
        {
          "output_type": "execute_result",
          "data": {
            "text/plain": [
              "          0         1         2         3\n",
              "0  0.819481 -0.976529 -0.567788  1.246026\n",
              "1 -2.092075  1.364248 -0.329691  1.217906\n",
              "2 -0.948291 -1.908308  0.106607  1.019494\n",
              "3  0.711577  1.180111  1.267199  1.532090\n",
              "4  0.530318 -0.634607 -0.939276 -1.964287\n",
              "5  0.013038  0.127796 -0.270279 -0.000092\n",
              "6  0.616760  0.351142  0.101530 -1.202785\n",
              "7 -0.128377  0.927625  1.355759 -0.593981\n",
              "8  1.442264 -1.652923 -0.163291  0.658369\n",
              "9  0.001226 -0.725626 -1.076763 -1.820396"
            ],
            "text/html": [
              "\n",
              "  <div id=\"df-d3e7e103-33ab-4fe7-b033-eff5fe3a4089\" class=\"colab-df-container\">\n",
              "    <div>\n",
              "<style scoped>\n",
              "    .dataframe tbody tr th:only-of-type {\n",
              "        vertical-align: middle;\n",
              "    }\n",
              "\n",
              "    .dataframe tbody tr th {\n",
              "        vertical-align: top;\n",
              "    }\n",
              "\n",
              "    .dataframe thead th {\n",
              "        text-align: right;\n",
              "    }\n",
              "</style>\n",
              "<table border=\"1\" class=\"dataframe\">\n",
              "  <thead>\n",
              "    <tr style=\"text-align: right;\">\n",
              "      <th></th>\n",
              "      <th>0</th>\n",
              "      <th>1</th>\n",
              "      <th>2</th>\n",
              "      <th>3</th>\n",
              "    </tr>\n",
              "  </thead>\n",
              "  <tbody>\n",
              "    <tr>\n",
              "      <th>0</th>\n",
              "      <td>0.819481</td>\n",
              "      <td>-0.976529</td>\n",
              "      <td>-0.567788</td>\n",
              "      <td>1.246026</td>\n",
              "    </tr>\n",
              "    <tr>\n",
              "      <th>1</th>\n",
              "      <td>-2.092075</td>\n",
              "      <td>1.364248</td>\n",
              "      <td>-0.329691</td>\n",
              "      <td>1.217906</td>\n",
              "    </tr>\n",
              "    <tr>\n",
              "      <th>2</th>\n",
              "      <td>-0.948291</td>\n",
              "      <td>-1.908308</td>\n",
              "      <td>0.106607</td>\n",
              "      <td>1.019494</td>\n",
              "    </tr>\n",
              "    <tr>\n",
              "      <th>3</th>\n",
              "      <td>0.711577</td>\n",
              "      <td>1.180111</td>\n",
              "      <td>1.267199</td>\n",
              "      <td>1.532090</td>\n",
              "    </tr>\n",
              "    <tr>\n",
              "      <th>4</th>\n",
              "      <td>0.530318</td>\n",
              "      <td>-0.634607</td>\n",
              "      <td>-0.939276</td>\n",
              "      <td>-1.964287</td>\n",
              "    </tr>\n",
              "    <tr>\n",
              "      <th>5</th>\n",
              "      <td>0.013038</td>\n",
              "      <td>0.127796</td>\n",
              "      <td>-0.270279</td>\n",
              "      <td>-0.000092</td>\n",
              "    </tr>\n",
              "    <tr>\n",
              "      <th>6</th>\n",
              "      <td>0.616760</td>\n",
              "      <td>0.351142</td>\n",
              "      <td>0.101530</td>\n",
              "      <td>-1.202785</td>\n",
              "    </tr>\n",
              "    <tr>\n",
              "      <th>7</th>\n",
              "      <td>-0.128377</td>\n",
              "      <td>0.927625</td>\n",
              "      <td>1.355759</td>\n",
              "      <td>-0.593981</td>\n",
              "    </tr>\n",
              "    <tr>\n",
              "      <th>8</th>\n",
              "      <td>1.442264</td>\n",
              "      <td>-1.652923</td>\n",
              "      <td>-0.163291</td>\n",
              "      <td>0.658369</td>\n",
              "    </tr>\n",
              "    <tr>\n",
              "      <th>9</th>\n",
              "      <td>0.001226</td>\n",
              "      <td>-0.725626</td>\n",
              "      <td>-1.076763</td>\n",
              "      <td>-1.820396</td>\n",
              "    </tr>\n",
              "  </tbody>\n",
              "</table>\n",
              "</div>\n",
              "    <div class=\"colab-df-buttons\">\n",
              "\n",
              "  <div class=\"colab-df-container\">\n",
              "    <button class=\"colab-df-convert\" onclick=\"convertToInteractive('df-d3e7e103-33ab-4fe7-b033-eff5fe3a4089')\"\n",
              "            title=\"Convert this dataframe to an interactive table.\"\n",
              "            style=\"display:none;\">\n",
              "\n",
              "  <svg xmlns=\"http://www.w3.org/2000/svg\" height=\"24px\" viewBox=\"0 -960 960 960\">\n",
              "    <path d=\"M120-120v-720h720v720H120Zm60-500h600v-160H180v160Zm220 220h160v-160H400v160Zm0 220h160v-160H400v160ZM180-400h160v-160H180v160Zm440 0h160v-160H620v160ZM180-180h160v-160H180v160Zm440 0h160v-160H620v160Z\"/>\n",
              "  </svg>\n",
              "    </button>\n",
              "\n",
              "  <style>\n",
              "    .colab-df-container {\n",
              "      display:flex;\n",
              "      gap: 12px;\n",
              "    }\n",
              "\n",
              "    .colab-df-convert {\n",
              "      background-color: #E8F0FE;\n",
              "      border: none;\n",
              "      border-radius: 50%;\n",
              "      cursor: pointer;\n",
              "      display: none;\n",
              "      fill: #1967D2;\n",
              "      height: 32px;\n",
              "      padding: 0 0 0 0;\n",
              "      width: 32px;\n",
              "    }\n",
              "\n",
              "    .colab-df-convert:hover {\n",
              "      background-color: #E2EBFA;\n",
              "      box-shadow: 0px 1px 2px rgba(60, 64, 67, 0.3), 0px 1px 3px 1px rgba(60, 64, 67, 0.15);\n",
              "      fill: #174EA6;\n",
              "    }\n",
              "\n",
              "    .colab-df-buttons div {\n",
              "      margin-bottom: 4px;\n",
              "    }\n",
              "\n",
              "    [theme=dark] .colab-df-convert {\n",
              "      background-color: #3B4455;\n",
              "      fill: #D2E3FC;\n",
              "    }\n",
              "\n",
              "    [theme=dark] .colab-df-convert:hover {\n",
              "      background-color: #434B5C;\n",
              "      box-shadow: 0px 1px 3px 1px rgba(0, 0, 0, 0.15);\n",
              "      filter: drop-shadow(0px 1px 2px rgba(0, 0, 0, 0.3));\n",
              "      fill: #FFFFFF;\n",
              "    }\n",
              "  </style>\n",
              "\n",
              "    <script>\n",
              "      const buttonEl =\n",
              "        document.querySelector('#df-d3e7e103-33ab-4fe7-b033-eff5fe3a4089 button.colab-df-convert');\n",
              "      buttonEl.style.display =\n",
              "        google.colab.kernel.accessAllowed ? 'block' : 'none';\n",
              "\n",
              "      async function convertToInteractive(key) {\n",
              "        const element = document.querySelector('#df-d3e7e103-33ab-4fe7-b033-eff5fe3a4089');\n",
              "        const dataTable =\n",
              "          await google.colab.kernel.invokeFunction('convertToInteractive',\n",
              "                                                    [key], {});\n",
              "        if (!dataTable) return;\n",
              "\n",
              "        const docLinkHtml = 'Like what you see? Visit the ' +\n",
              "          '<a target=\"_blank\" href=https://colab.research.google.com/notebooks/data_table.ipynb>data table notebook</a>'\n",
              "          + ' to learn more about interactive tables.';\n",
              "        element.innerHTML = '';\n",
              "        dataTable['output_type'] = 'display_data';\n",
              "        await google.colab.output.renderOutput(dataTable, element);\n",
              "        const docLink = document.createElement('div');\n",
              "        docLink.innerHTML = docLinkHtml;\n",
              "        element.appendChild(docLink);\n",
              "      }\n",
              "    </script>\n",
              "  </div>\n",
              "\n",
              "\n",
              "    <div id=\"df-1202f642-dd60-4957-8f30-24108ce420a2\">\n",
              "      <button class=\"colab-df-quickchart\" onclick=\"quickchart('df-1202f642-dd60-4957-8f30-24108ce420a2')\"\n",
              "                title=\"Suggest charts\"\n",
              "                style=\"display:none;\">\n",
              "\n",
              "<svg xmlns=\"http://www.w3.org/2000/svg\" height=\"24px\"viewBox=\"0 0 24 24\"\n",
              "     width=\"24px\">\n",
              "    <g>\n",
              "        <path d=\"M19 3H5c-1.1 0-2 .9-2 2v14c0 1.1.9 2 2 2h14c1.1 0 2-.9 2-2V5c0-1.1-.9-2-2-2zM9 17H7v-7h2v7zm4 0h-2V7h2v10zm4 0h-2v-4h2v4z\"/>\n",
              "    </g>\n",
              "</svg>\n",
              "      </button>\n",
              "\n",
              "<style>\n",
              "  .colab-df-quickchart {\n",
              "      --bg-color: #E8F0FE;\n",
              "      --fill-color: #1967D2;\n",
              "      --hover-bg-color: #E2EBFA;\n",
              "      --hover-fill-color: #174EA6;\n",
              "      --disabled-fill-color: #AAA;\n",
              "      --disabled-bg-color: #DDD;\n",
              "  }\n",
              "\n",
              "  [theme=dark] .colab-df-quickchart {\n",
              "      --bg-color: #3B4455;\n",
              "      --fill-color: #D2E3FC;\n",
              "      --hover-bg-color: #434B5C;\n",
              "      --hover-fill-color: #FFFFFF;\n",
              "      --disabled-bg-color: #3B4455;\n",
              "      --disabled-fill-color: #666;\n",
              "  }\n",
              "\n",
              "  .colab-df-quickchart {\n",
              "    background-color: var(--bg-color);\n",
              "    border: none;\n",
              "    border-radius: 50%;\n",
              "    cursor: pointer;\n",
              "    display: none;\n",
              "    fill: var(--fill-color);\n",
              "    height: 32px;\n",
              "    padding: 0;\n",
              "    width: 32px;\n",
              "  }\n",
              "\n",
              "  .colab-df-quickchart:hover {\n",
              "    background-color: var(--hover-bg-color);\n",
              "    box-shadow: 0 1px 2px rgba(60, 64, 67, 0.3), 0 1px 3px 1px rgba(60, 64, 67, 0.15);\n",
              "    fill: var(--button-hover-fill-color);\n",
              "  }\n",
              "\n",
              "  .colab-df-quickchart-complete:disabled,\n",
              "  .colab-df-quickchart-complete:disabled:hover {\n",
              "    background-color: var(--disabled-bg-color);\n",
              "    fill: var(--disabled-fill-color);\n",
              "    box-shadow: none;\n",
              "  }\n",
              "\n",
              "  .colab-df-spinner {\n",
              "    border: 2px solid var(--fill-color);\n",
              "    border-color: transparent;\n",
              "    border-bottom-color: var(--fill-color);\n",
              "    animation:\n",
              "      spin 1s steps(1) infinite;\n",
              "  }\n",
              "\n",
              "  @keyframes spin {\n",
              "    0% {\n",
              "      border-color: transparent;\n",
              "      border-bottom-color: var(--fill-color);\n",
              "      border-left-color: var(--fill-color);\n",
              "    }\n",
              "    20% {\n",
              "      border-color: transparent;\n",
              "      border-left-color: var(--fill-color);\n",
              "      border-top-color: var(--fill-color);\n",
              "    }\n",
              "    30% {\n",
              "      border-color: transparent;\n",
              "      border-left-color: var(--fill-color);\n",
              "      border-top-color: var(--fill-color);\n",
              "      border-right-color: var(--fill-color);\n",
              "    }\n",
              "    40% {\n",
              "      border-color: transparent;\n",
              "      border-right-color: var(--fill-color);\n",
              "      border-top-color: var(--fill-color);\n",
              "    }\n",
              "    60% {\n",
              "      border-color: transparent;\n",
              "      border-right-color: var(--fill-color);\n",
              "    }\n",
              "    80% {\n",
              "      border-color: transparent;\n",
              "      border-right-color: var(--fill-color);\n",
              "      border-bottom-color: var(--fill-color);\n",
              "    }\n",
              "    90% {\n",
              "      border-color: transparent;\n",
              "      border-bottom-color: var(--fill-color);\n",
              "    }\n",
              "  }\n",
              "</style>\n",
              "\n",
              "      <script>\n",
              "        async function quickchart(key) {\n",
              "          const quickchartButtonEl =\n",
              "            document.querySelector('#' + key + ' button');\n",
              "          quickchartButtonEl.disabled = true;  // To prevent multiple clicks.\n",
              "          quickchartButtonEl.classList.add('colab-df-spinner');\n",
              "          try {\n",
              "            const charts = await google.colab.kernel.invokeFunction(\n",
              "                'suggestCharts', [key], {});\n",
              "          } catch (error) {\n",
              "            console.error('Error during call to suggestCharts:', error);\n",
              "          }\n",
              "          quickchartButtonEl.classList.remove('colab-df-spinner');\n",
              "          quickchartButtonEl.classList.add('colab-df-quickchart-complete');\n",
              "        }\n",
              "        (() => {\n",
              "          let quickchartButtonEl =\n",
              "            document.querySelector('#df-1202f642-dd60-4957-8f30-24108ce420a2 button');\n",
              "          quickchartButtonEl.style.display =\n",
              "            google.colab.kernel.accessAllowed ? 'block' : 'none';\n",
              "        })();\n",
              "      </script>\n",
              "    </div>\n",
              "\n",
              "    </div>\n",
              "  </div>\n"
            ],
            "application/vnd.google.colaboratory.intrinsic+json": {
              "type": "dataframe",
              "summary": "{\n  \"name\": \"pd\",\n  \"rows\": 10,\n  \"fields\": [\n    {\n      \"column\": 0,\n      \"properties\": {\n        \"dtype\": \"number\",\n        \"std\": 1.0065911356519448,\n        \"min\": -2.0920750591106403,\n        \"max\": 1.442263912211428,\n        \"num_unique_values\": 10,\n        \"samples\": [\n          1.442263912211428,\n          -2.0920750591106403,\n          0.013038070225555908\n        ],\n        \"semantic_type\": \"\",\n        \"description\": \"\"\n      }\n    },\n    {\n      \"column\": 1,\n      \"properties\": {\n        \"dtype\": \"number\",\n        \"std\": 1.1610105105555535,\n        \"min\": -1.9083078315745965,\n        \"max\": 1.364247901221692,\n        \"num_unique_values\": 10,\n        \"samples\": [\n          -1.6529234397244956,\n          1.364247901221692,\n          0.12779626631320537\n        ],\n        \"semantic_type\": \"\",\n        \"description\": \"\"\n      }\n    },\n    {\n      \"column\": 2,\n      \"properties\": {\n        \"dtype\": \"number\",\n        \"std\": 0.817270345751445,\n        \"min\": -1.07676341097936,\n        \"max\": 1.3557591780685743,\n        \"num_unique_values\": 10,\n        \"samples\": [\n          -0.16329123592593023,\n          -0.32969063252291086,\n          -0.2702788869556938\n        ],\n        \"semantic_type\": \"\",\n        \"description\": \"\"\n      }\n    },\n    {\n      \"column\": 3,\n      \"properties\": {\n        \"dtype\": \"number\",\n        \"std\": 1.3261017841163811,\n        \"min\": -1.9642871026014541,\n        \"max\": 1.5320901646969742,\n        \"num_unique_values\": 10,\n        \"samples\": [\n          0.658369466822278,\n          1.217906413840256,\n          -9.186947753143385e-05\n        ],\n        \"semantic_type\": \"\",\n        \"description\": \"\"\n      }\n    }\n  ]\n}"
            }
          },
          "metadata": {},
          "execution_count": 8
        }
      ]
    },
    {
      "cell_type": "markdown",
      "source": [
        "## Exercício 2\n",
        "\n",
        "Considere o seguinte `DataFrame`:\n",
        "```python\n",
        "dados = {\n",
        "    \"Cliente\": [\"Ana\", \"bruno\", \"Carlos\", \"Diana\", \"Eduarda\", np.nan, \"fábio\", \"Gabriela\"],\n",
        "    \"Produto\": [\"Notebook\", \"Smartphone\", \"Notebook\", \"Tablet\", \"Notebook\", \"Smartphone\", np.nan, \"Tablet\"],\n",
        "    \"Valor\": [3000, 2000, 3000, 1500, 3000, 2000, 1500, 1500],\n",
        "    \"Data\": [\"2023-01-15\", \"2023-01-16\", np.nan, \"2023-02-10\", \"2023-02-10\", \"2023-01-16\", \"2023-02-15\", \"2023-02-16\"],\n",
        "}\n",
        "df = pd.DataFrame(dados)\n",
        "```\n",
        "Então:\n",
        "\n",
        "1. Qual é o número de valores não nulos em cada coluna do DataFrame?\n",
        "  \n",
        "  Dica: Utilize o método `count()`.\n",
        "\n",
        "1. Qual produto foi vendido mais vezes?\n",
        "  \n",
        "  Dica: Utilize o método `value_counts()` para listar a quantidade de prudutos vendidos e `.idxmax()` para mostrar qual o produto mais vendito.\n",
        "  \n",
        "1. Passe a primeira letra do nome de cada cliente para maiúscula. Dica: Utilize o método `str.title()`.\n",
        "\n",
        "1. Inclua o seguinte dados no final do `df`:\n",
        "```python\n",
        "df2 = pd.DataFrame({\n",
        "    \"Cliente\": [\"Jose\", \"Paula\"],\n",
        "    \"Produto\": [\"Tablet\", \"Notebook\"],\n",
        "    \"Valor\": [1500, 4000],\n",
        "    \"Data\": [\"2023-03-01\", \"2023-03-02\"],\n",
        "})\n",
        "```\n"
      ],
      "metadata": {
        "id": "e08pkKH-yeBJ"
      }
    },
    {
      "cell_type": "markdown",
      "source": [
        "## Junção de *dataframe*s"
      ],
      "metadata": {
        "id": "_79PYzDyTMC4"
      }
    },
    {
      "cell_type": "markdown",
      "source": [
        "A função `merge()` habilita junções no estilo SQL entre colunas."
      ],
      "metadata": {
        "id": "bJu5nOW6LxX8"
      }
    },
    {
      "cell_type": "code",
      "source": [
        "import pandas as pd\n",
        "\n",
        "# DataFrame à esquerda\n",
        "esquerda = pd.DataFrame({\"produto\": [\"maçã\", \"pera\", \"banana\", \"uva\"], \"quantidade\": [3, 5, 4, 2]})\n",
        "\n",
        "# DataFrame à direita\n",
        "direita = pd.DataFrame({\"produto\": [\"pera\", \"banana\", \"maçã\"], \"preço\": [4.50, 2.34, 3.25]})\n",
        "\n",
        "print(\"esquerda:\\n\", esquerda)\n",
        "print(\"\\ndireita:\\n\", direita)\n",
        "\n",
        "# 1) Mesclando os DataFrames\n",
        "## O produto \"uva\" está presente em esquerda, mas não em direita.\n",
        "## Por padrão esse produto é excluido por não ter correspondencia\n",
        "resultado = pd.merge(esquerda, direita, on=\"produto\")\n",
        "print(\"\\nResultado da junção 1:\\n\", resultado)\n",
        "\n",
        "# 2) Mesclando os DataFrames (how='left')\n",
        "## Neste caso, o valor na coluna \"preço\" para essa linha é NaN\n",
        "resultado = pd.merge(esquerda, direita, on=\"produto\", how='left')\n",
        "print(\"\\nResultado da junção 2:\\n\", resultado)"
      ],
      "metadata": {
        "id": "HIE1O2LNL-yc",
        "colab": {
          "base_uri": "https://localhost:8080/"
        },
        "outputId": "89aa212f-ba78-4505-ed6b-51df355dc12d"
      },
      "execution_count": 9,
      "outputs": [
        {
          "output_type": "stream",
          "name": "stdout",
          "text": [
            "esquerda:\n",
            "   produto  quantidade\n",
            "0    maçã           3\n",
            "1    pera           5\n",
            "2  banana           4\n",
            "3     uva           2\n",
            "\n",
            "direita:\n",
            "   produto  preço\n",
            "0    pera   4.50\n",
            "1  banana   2.34\n",
            "2    maçã   3.25\n",
            "\n",
            "Resultado da junção 1:\n",
            "   produto  quantidade  preço\n",
            "0    maçã           3   3.25\n",
            "1    pera           5   4.50\n",
            "2  banana           4   2.34\n",
            "\n",
            "Resultado da junção 2:\n",
            "   produto  quantidade  preço\n",
            "0    maçã           3   3.25\n",
            "1    pera           5   4.50\n",
            "2  banana           4   2.34\n",
            "3     uva           2    NaN\n"
          ]
        }
      ]
    },
    {
      "cell_type": "markdown",
      "source": [
        "Outro exemplo, agora com 2 chaves."
      ],
      "metadata": {
        "id": "dPRs8hxR4Ml_"
      }
    },
    {
      "cell_type": "code",
      "source": [
        "import pandas as pd\n",
        "\n",
        "# DataFrame à esquerda com mais um atributo (fornecedor)\n",
        "esquerda = pd.DataFrame({\n",
        "    \"produto\": [\"maçã\", \"pera\", \"banana\", \"maçã\", \"banana\"],\n",
        "    \"cor\": [\"vermelha\", \"verde\", \"amarela\", \"verde\", \"amarela\"],\n",
        "    \"quantidade\": [3, 5, 4, 6, 7],\n",
        "    \"fornecedor\": [\"Fornecedor A\", \"Fornecedor B\", \"Fornecedor C\", \"Fornecedor C\", \"Fornecedor A\"]\n",
        "})\n",
        "\n",
        "# DataFrame à direita\n",
        "direita = pd.DataFrame({\n",
        "    \"produto\": [\"maçã\", \"pera\", \"banana\"],\n",
        "    \"cor\": [\"vermelha\", \"verde\", \"amarela\"],\n",
        "    \"preço\": [3.25, 4.50, 2.34]\n",
        "})\n",
        "\n",
        "print(\"esquerda:\\n\", esquerda)\n",
        "print(\"\\ndireita:\\n\", direita)\n",
        "\n",
        "# Mesclando os DataFrames com mais de uma chave (produto, cor)\n",
        "resultado = pd.merge(esquerda, direita, on=[\"produto\", \"cor\"], how=\"left\")\n",
        "print(\"\\nResultado da junção com múltiplas chaves (produto, cor) e fornecedor:\\n\", resultado)\n"
      ],
      "metadata": {
        "id": "kkCohIV73R3s",
        "colab": {
          "base_uri": "https://localhost:8080/"
        },
        "outputId": "4fe1b08a-925a-4d05-db18-51727bab0cf5"
      },
      "execution_count": 10,
      "outputs": [
        {
          "output_type": "stream",
          "name": "stdout",
          "text": [
            "esquerda:\n",
            "   produto       cor  quantidade    fornecedor\n",
            "0    maçã  vermelha           3  Fornecedor A\n",
            "1    pera     verde           5  Fornecedor B\n",
            "2  banana   amarela           4  Fornecedor C\n",
            "3    maçã     verde           6  Fornecedor C\n",
            "4  banana   amarela           7  Fornecedor A\n",
            "\n",
            "direita:\n",
            "   produto       cor  preço\n",
            "0    maçã  vermelha   3.25\n",
            "1    pera     verde   4.50\n",
            "2  banana   amarela   2.34\n",
            "\n",
            "Resultado da junção com múltiplas chaves (produto, cor) e fornecedor:\n",
            "   produto       cor  quantidade    fornecedor  preço\n",
            "0    maçã  vermelha           3  Fornecedor A   3.25\n",
            "1    pera     verde           5  Fornecedor B   4.50\n",
            "2  banana   amarela           4  Fornecedor C   2.34\n",
            "3    maçã     verde           6  Fornecedor C    NaN\n",
            "4  banana   amarela           7  Fornecedor A   2.34\n"
          ]
        }
      ]
    },
    {
      "cell_type": "markdown",
      "source": [
        "## Agrupamento"
      ],
      "metadata": {
        "id": "0qIW3VUjTnUf"
      }
    },
    {
      "cell_type": "markdown",
      "source": [
        "Por “agrupamento” se refere a um processo que envolve um ou mais dos seguintes passos:\n",
        "\n",
        "- **particionar** os dados em grupos basedos em algum critério;\n",
        "\n",
        "- **aplicar** uma função em cada grupo independentemente;\n",
        "\n",
        "- **combinar** os resultados em uma estrutura de dados."
      ],
      "metadata": {
        "id": "7y5nOBzuMEFH"
      }
    },
    {
      "cell_type": "code",
      "source": [
        "import pandas as pd\n",
        "import numpy as np\n",
        "\n",
        "# Criando o DataFrame simulando vendas de banana e maça por regiões\n",
        "df = pd.DataFrame(\n",
        "    {\n",
        "        \"Produto\": [\"Maçã\", \"Banana\", \"Maçã\", \"Banana\", \"Maçã\", \"Banana\", \"Maçã\", \"Maçã\"],\n",
        "        \"Região\": [\"Norte\", \"Norte\", \"Sul\", \"Sul\", \"Leste\", \"Leste\", \"Norte\", \"Leste\"],\n",
        "        \"Vendas\": np.abs(np.random.randn(8)),  # Valores numéricos aleatórios representando as vendas\n",
        "        \"Lucro\": np.random.randn(8),   # Valores numéricos aleatórios representando o lucro\n",
        "    }\n",
        ")\n",
        "\n",
        "print(df)"
      ],
      "metadata": {
        "id": "cruBRDEnOGc_",
        "colab": {
          "base_uri": "https://localhost:8080/"
        },
        "outputId": "82526988-49f7-4934-d8d9-47aa6360fdec"
      },
      "execution_count": 11,
      "outputs": [
        {
          "output_type": "stream",
          "name": "stdout",
          "text": [
            "  Produto Região    Vendas     Lucro\n",
            "0    Maçã  Norte  0.172793  1.264920\n",
            "1  Banana  Norte  0.306210  0.091394\n",
            "2    Maçã    Sul  0.040976  0.458123\n",
            "3  Banana    Sul  0.675782  1.263631\n",
            "4    Maçã  Leste  0.344512 -0.687916\n",
            "5  Banana  Leste  0.556967  0.480859\n",
            "6    Maçã  Norte  0.018256  0.398608\n",
            "7    Maçã  Leste  0.788335  1.420890\n"
          ]
        }
      ]
    },
    {
      "cell_type": "markdown",
      "source": [
        "Exemplo, agrupando por uma coluna, selecionando outras colunas e aplicando a função `sum()` aos dados resultantes:"
      ],
      "metadata": {
        "id": "kH-y4IfQOX0j"
      }
    },
    {
      "cell_type": "code",
      "source": [
        "print(\"\\nAgrupamento por 'Produto' e soma de Vendas e Lucro:\")\n",
        "print(df.groupby(\"Produto\")[[\"Vendas\", \"Lucro\"]].sum())"
      ],
      "metadata": {
        "id": "v7eQ_4ZaOXLM",
        "colab": {
          "base_uri": "https://localhost:8080/"
        },
        "outputId": "82ba538c-c172-4e06-eb3b-6cd55aa94064"
      },
      "execution_count": 12,
      "outputs": [
        {
          "output_type": "stream",
          "name": "stdout",
          "text": [
            "\n",
            "Agrupamento por 'Produto' e soma de Vendas e Lucro:\n",
            "           Vendas     Lucro\n",
            "Produto                    \n",
            "Banana   1.538958  1.835884\n",
            "Maçã     1.364872  2.854625\n"
          ]
        }
      ]
    },
    {
      "cell_type": "markdown",
      "source": [
        "Agrupar por múltiplas colunas forma um `MultiIndex`."
      ],
      "metadata": {
        "id": "0T6d1GUpOzwE"
      }
    },
    {
      "cell_type": "code",
      "source": [
        "# Agrupando por Produto e Região e somando as colunas 'Vendas' e 'Lucro'\n",
        "print(\"\\nAgrupamento por 'Produto' e 'Região' e soma de Vendas e Lucro:\")\n",
        "print(df.groupby([\"Produto\", \"Região\"]).sum())"
      ],
      "metadata": {
        "id": "tdjPZPBgPV6y",
        "colab": {
          "base_uri": "https://localhost:8080/"
        },
        "outputId": "abd7f24a-a93d-4eb1-c8e0-07c750d3118d"
      },
      "execution_count": 13,
      "outputs": [
        {
          "output_type": "stream",
          "name": "stdout",
          "text": [
            "\n",
            "Agrupamento por 'Produto' e 'Região' e soma de Vendas e Lucro:\n",
            "                  Vendas     Lucro\n",
            "Produto Região                    \n",
            "Banana  Leste   0.556967  0.480859\n",
            "        Norte   0.306210  0.091394\n",
            "        Sul     0.675782  1.263631\n",
            "Maçã    Leste   1.132847  0.732974\n",
            "        Norte   0.191049  1.663529\n",
            "        Sul     0.040976  0.458123\n"
          ]
        }
      ]
    },
    {
      "cell_type": "markdown",
      "source": [
        "## Exercício 3\n",
        "\n",
        "1. Para o código abaixo use a função `merge()` para combinar os dois DataFrames com base na coluna `Produto`.\n",
        "  * E depois `how=\"outer\"` (união de todos os dados).  \n",
        "  * E depois `how=\"inner\"` (interseção entre os DataFrames).\n",
        "\n",
        "2. Para a ultima junção, faça um agrupamento pela coluna `Produto` e então selecione as colunas `Quantidade` e `Preço` e some elas.\n",
        "\n",
        "```python\n",
        "import pandas as pd\n",
        "\n",
        "# DataFrame de produtos vendidos\n",
        "vendas = pd.DataFrame({\n",
        "    \"Cliente\": [\"Ana\", \"Bruno\", \"Carlos\", \"Diana\", \"Eduarda\", \"Fábio\", \"Gabriela\"],\n",
        "    \"Produto\": [\"Notebook\", \"Smartphone\", \"Notebook\", \"Tablet\", \"Notebook\", \"Mouse\", \"Smartphone\"],\n",
        "    \"Data\": [\"2023-01-15\", \"2023-01-16\", \"2023-01-16\", \"2023-02-10\", \"2023-02-10\", \"2023-02-15\", \"2023-02-16\"],\n",
        "    \"Quantidade\": [1, 2, 1, 1, 3, 2, 1],\n",
        "})\n",
        "\n",
        "# DataFrame com os preços dos produtos\n",
        "precos = pd.DataFrame({\n",
        "    \"Produto\": [\"Notebook\", \"Smartphone\", \"Tablet\"],\n",
        "    \"Preço\": [3000, 2000, 1500],\n",
        "})\n",
        "\n",
        "print(\"DataFrame de vendas:\")\n",
        "print(vendas)\n",
        "\n",
        "print(\"\\nDataFrame de preços:\")\n",
        "print(precos)\n",
        "```"
      ],
      "metadata": {
        "id": "HfK_eJmL23wm"
      }
    },
    {
      "cell_type": "markdown",
      "source": [
        "## Reorganização"
      ],
      "metadata": {
        "id": "i1b4S23cTwK6"
      }
    },
    {
      "cell_type": "markdown",
      "source": [
        "Para exemplos, vamos primeiramente criar um DataFrame para análise de dados relacionados a vendas e custos.\n",
        "\n",
        "Este DataFrame será criado com um índice hierárquico de duas categorias:\n",
        "* Categoria (Fruta, Legume, etc.)\n",
        "* Métrica (Venda, Custo)."
      ],
      "metadata": {
        "id": "B5yHj1WKIClQ"
      }
    },
    {
      "cell_type": "code",
      "source": [
        "import pandas as pd\n",
        "import numpy as np\n",
        "\n",
        "# MultiIndex com dois níveis: Categoria e Métrica\n",
        "arrays = [\n",
        "    [\"Fruta\", \"Fruta\", \"Legume\", \"Legume\", \"Bebida\", \"Bebida\", \"Grão\", \"Grão\"],\n",
        "    [\"Venda\", \"Custo\", \"Venda\", \"Custo\", \"Venda\", \"Custo\", \"Venda\", \"Custo\"],\n",
        "]\n",
        "\n",
        "index = pd.MultiIndex.from_arrays(arrays, names=[\"Categoria\", \"Métrica\"])\n",
        "\n",
        "# Criando um DataFrame com valores aleatórios para Vendas e Custos\n",
        "df = pd.DataFrame(abs(np.random.randn(8, 3)), index=index, columns=[\"Janeiro\", \"Fevereiro\", \"Março\"])\n",
        "print(\"DataFrame Original:\\n\")\n",
        "print(df)"
      ],
      "metadata": {
        "id": "qh11-mX2GbQ0",
        "colab": {
          "base_uri": "https://localhost:8080/"
        },
        "outputId": "b571c5e8-81d4-4a97-be0b-7f3d312c4868"
      },
      "execution_count": 14,
      "outputs": [
        {
          "output_type": "stream",
          "name": "stdout",
          "text": [
            "DataFrame Original:\n",
            "\n",
            "                    Janeiro  Fevereiro     Março\n",
            "Categoria Métrica                               \n",
            "Fruta     Venda    0.760733   1.898391  0.135303\n",
            "          Custo    0.171602   1.386384  0.105730\n",
            "Legume    Venda    1.636522   0.958083  0.779081\n",
            "          Custo    1.070536   0.553482  1.087947\n",
            "Bebida    Venda    0.613883   0.495001  0.193699\n",
            "          Custo    0.572000   0.298025  0.412915\n",
            "Grão      Venda    0.551625   0.269695  0.110943\n",
            "          Custo    1.410878   0.335460  1.200461\n"
          ]
        }
      ]
    },
    {
      "cell_type": "markdown",
      "source": [
        "### Empilhamento"
      ],
      "metadata": {
        "id": "X0S2fRWEPWpw"
      }
    },
    {
      "cell_type": "markdown",
      "source": [
        "* A função `stack()` modifica a distribuição das células para criar um formato vertical.\n",
        "\n",
        "* A função `unstack()` faz o inverso do `stack()`, retorna o formato original.\n",
        "\n",
        "  Como temos dois níveis de indices, também podemos utilizar:\n",
        "  * `unstack(0)` para reorganiza pelo primeiro indice (Categoria) como colunas;\n",
        "  * `unstack(1)` para reorganiza pelo segundo indice (Métrica) como colunas.  "
      ],
      "metadata": {
        "id": "krp3li9MJR5y"
      }
    },
    {
      "cell_type": "code",
      "source": [
        "# Empilhando as colunas para transformar em um formato mais vertical\n",
        "stacked = df.stack()\n",
        "print(\"\\nDataFrame Empilhado (com stack):\\n\")\n",
        "print(stacked)\n",
        "\n",
        "# Desempilhando para reorganizar os dados de volta ao formato tabular\n",
        "unstacked = stacked.unstack()\n",
        "print(\"\\n\\nDataFrame Desempilhado (com unstack):\\n\")\n",
        "print(unstacked)"
      ],
      "metadata": {
        "id": "9cEUxrTFGki6",
        "colab": {
          "base_uri": "https://localhost:8080/"
        },
        "outputId": "89984274-8a2f-47a9-abd0-bb56d7371fb2"
      },
      "execution_count": 15,
      "outputs": [
        {
          "output_type": "stream",
          "name": "stdout",
          "text": [
            "\n",
            "DataFrame Empilhado (com stack):\n",
            "\n",
            "Categoria  Métrica           \n",
            "Fruta      Venda    Janeiro      0.760733\n",
            "                    Fevereiro    1.898391\n",
            "                    Março        0.135303\n",
            "           Custo    Janeiro      0.171602\n",
            "                    Fevereiro    1.386384\n",
            "                    Março        0.105730\n",
            "Legume     Venda    Janeiro      1.636522\n",
            "                    Fevereiro    0.958083\n",
            "                    Março        0.779081\n",
            "           Custo    Janeiro      1.070536\n",
            "                    Fevereiro    0.553482\n",
            "                    Março        1.087947\n",
            "Bebida     Venda    Janeiro      0.613883\n",
            "                    Fevereiro    0.495001\n",
            "                    Março        0.193699\n",
            "           Custo    Janeiro      0.572000\n",
            "                    Fevereiro    0.298025\n",
            "                    Março        0.412915\n",
            "Grão       Venda    Janeiro      0.551625\n",
            "                    Fevereiro    0.269695\n",
            "                    Março        0.110943\n",
            "           Custo    Janeiro      1.410878\n",
            "                    Fevereiro    0.335460\n",
            "                    Março        1.200461\n",
            "dtype: float64\n",
            "\n",
            "\n",
            "DataFrame Desempilhado (com unstack):\n",
            "\n",
            "                    Janeiro  Fevereiro     Março\n",
            "Categoria Métrica                               \n",
            "Bebida    Custo    0.572000   0.298025  0.412915\n",
            "          Venda    0.613883   0.495001  0.193699\n",
            "Fruta     Custo    0.171602   1.386384  0.105730\n",
            "          Venda    0.760733   1.898391  0.135303\n",
            "Grão      Custo    1.410878   0.335460  1.200461\n",
            "          Venda    0.551625   0.269695  0.110943\n",
            "Legume    Custo    1.070536   0.553482  1.087947\n",
            "          Venda    1.636522   0.958083  0.779081\n"
          ]
        }
      ]
    },
    {
      "cell_type": "code",
      "source": [
        "# Desempilhando com foco no nível 0 (Categoria)\n",
        "unstacked_level0 = stacked.unstack(0)\n",
        "print(\"\\n\\nDataFrame Desempilhado por 'Categoria' (nível 0):\\n\")\n",
        "print(unstacked_level0)\n",
        "\n",
        "# Desempilhando com foco no nível 1 (Métrica)\n",
        "unstacked_level1 = stacked.unstack(1)\n",
        "print(\"\\n\\nDataFrame Desempilhado por 'Métrica' (nível 1):\\n\")\n",
        "print(unstacked_level1)\n"
      ],
      "metadata": {
        "id": "3uViHo0S_Ul_",
        "colab": {
          "base_uri": "https://localhost:8080/"
        },
        "outputId": "88352897-98da-40f2-8bfe-ef5f25a3fdeb"
      },
      "execution_count": 16,
      "outputs": [
        {
          "output_type": "stream",
          "name": "stdout",
          "text": [
            "\n",
            "\n",
            "DataFrame Desempilhado por 'Categoria' (nível 0):\n",
            "\n",
            "Categoria            Bebida     Fruta      Grão    Legume\n",
            "Métrica                                                  \n",
            "Custo   Janeiro    0.572000  0.171602  1.410878  1.070536\n",
            "        Fevereiro  0.298025  1.386384  0.335460  0.553482\n",
            "        Março      0.412915  0.105730  1.200461  1.087947\n",
            "Venda   Janeiro    0.613883  0.760733  0.551625  1.636522\n",
            "        Fevereiro  0.495001  1.898391  0.269695  0.958083\n",
            "        Março      0.193699  0.135303  0.110943  0.779081\n",
            "\n",
            "\n",
            "DataFrame Desempilhado por 'Métrica' (nível 1):\n",
            "\n",
            "Métrica                 Custo     Venda\n",
            "Categoria                              \n",
            "Bebida    Janeiro    0.572000  0.613883\n",
            "          Fevereiro  0.298025  0.495001\n",
            "          Março      0.412915  0.193699\n",
            "Fruta     Janeiro    0.171602  0.760733\n",
            "          Fevereiro  1.386384  1.898391\n",
            "          Março      0.105730  0.135303\n",
            "Grão      Janeiro    1.410878  0.551625\n",
            "          Fevereiro  0.335460  0.269695\n",
            "          Março      1.200461  0.110943\n",
            "Legume    Janeiro    1.070536  1.636522\n",
            "          Fevereiro  0.553482  0.958083\n",
            "          Março      1.087947  0.779081\n"
          ]
        }
      ]
    },
    {
      "cell_type": "markdown",
      "source": [
        "### Pivot tables\n",
        "\n",
        "A função `pivot_table` permite:\n",
        "* resumir as informações contidas em um DataFrame;\n",
        "* personalizar a forma como os dados são organizados;\n",
        "* utilizar agregações complexas e funções customizadas.\n",
        "\n",
        "**Sintaxe:**\n",
        "\n",
        "```python\n",
        "pd.pivot_table(data, values=None, index=None, columns=None, aggfunc=\"mean\",\n",
        " fill_value=None, margins=False, margins_name=\"All\", dropna=True, observed=False, sort=True)\n",
        "```\n",
        "\n",
        "Principais argumentos:\n",
        "\n",
        "* `data`: O DataFrame a partir do qual a tabela dinâmica será criada.\n",
        "* `values`: A(s) coluna(s) cujos valores você deseja agregar.\n",
        "* `index`: A(s) coluna(s) que formarão os índices da tabela.\n",
        "* `columns`: A(s) coluna(s) que formarão as colunas da tabela.\n",
        "* `aggfunc`: A função de agregação a ser usada. O padrão é \"mean\", mas você pode usar outras como \"sum\", \"count\", \"max\", \"min\", ou funções personalizadas. Pode ser uma lista de funções.\n",
        "* `fill_value`: Valor para preencher células vazias ou NaN.\n",
        "* `margins`: Inclui nas margens o total agregado.\n",
        "* `observed`: Se `True`, então as variáveis categóricas ficam restritas apenas aos níveis observados.\n",
        "\n",
        "Veja os exemplos."
      ],
      "metadata": {
        "id": "qntcERoRqh3B"
      }
    },
    {
      "cell_type": "code",
      "source": [
        "import pandas as pd\n",
        "import numpy as np\n",
        "\n",
        "# Criando o DataFrame\n",
        "dados = {\n",
        "    \"Categoria\": [\"Eletrônicos\", \"Eletrônicos\", \"Eletrodomésticos\", \"Eletrodomésticos\", \"Móveis\", \"Móveis\"],\n",
        "    \"Produto\": [\"Notebook\", \"Smartphone\", \"Geladeira\", \"Fogão\", \"Sofá\", \"Cama\"],\n",
        "    \"Vendas\": [5000, 3000, 4000, 2500, 2000, 1500],\n",
        "    \"Ano\": [2023, 2023, 2023, 2023, 2024, 2024]\n",
        "}\n",
        "\n",
        "df = pd.DataFrame(dados)\n",
        "print(df)"
      ],
      "metadata": {
        "id": "6-LgmCA7O5CB",
        "colab": {
          "base_uri": "https://localhost:8080/"
        },
        "outputId": "dcfc85e5-f86f-4a1d-ea36-b230e3a08b4c"
      },
      "execution_count": 17,
      "outputs": [
        {
          "output_type": "stream",
          "name": "stdout",
          "text": [
            "          Categoria     Produto  Vendas   Ano\n",
            "0       Eletrônicos    Notebook    5000  2023\n",
            "1       Eletrônicos  Smartphone    3000  2023\n",
            "2  Eletrodomésticos   Geladeira    4000  2023\n",
            "3  Eletrodomésticos       Fogão    2500  2023\n",
            "4            Móveis        Sofá    2000  2024\n",
            "5            Móveis        Cama    1500  2024\n"
          ]
        }
      ]
    },
    {
      "cell_type": "markdown",
      "source": [
        "**1. Agregando por uma única coluna:**\n",
        "\n",
        "Vamos organizar as vendas por categoria usando pivot_table."
      ],
      "metadata": {
        "id": "LOr2lQvQkILn"
      }
    },
    {
      "cell_type": "code",
      "source": [
        "# Vendas totais por Categoria\n",
        "tabela = pd.pivot_table(df, values=\"Vendas\", index=\"Categoria\", aggfunc=\"sum\")\n",
        "print(tabela)\n"
      ],
      "metadata": {
        "id": "mHbxjEGDkEHU",
        "colab": {
          "base_uri": "https://localhost:8080/"
        },
        "outputId": "e68395f6-a9e0-400c-fa68-0e2d8daf02e5"
      },
      "execution_count": 18,
      "outputs": [
        {
          "output_type": "stream",
          "name": "stdout",
          "text": [
            "                  Vendas\n",
            "Categoria               \n",
            "Eletrodomésticos    6500\n",
            "Eletrônicos         8000\n",
            "Móveis              3500\n"
          ]
        }
      ]
    },
    {
      "cell_type": "markdown",
      "source": [
        "**2. Selecionando colunas:**"
      ],
      "metadata": {
        "id": "EZY2BJWQT-Y7"
      }
    },
    {
      "cell_type": "code",
      "source": [
        "# Vendas totais por Categoria e Ano\n",
        "tabela = pd.pivot_table(df, values=\"Vendas\", index=\"Categoria\",\n",
        "                        columns=\"Ano\", aggfunc=\"sum\", fill_value=0)\n",
        "print(tabela)\n",
        "\n",
        "print(\"\\n\")\n",
        "\n",
        "# Vendas totais por Categoria e Ano\n",
        "tabela = pd.pivot_table(df, values=\"Vendas\", index=\"Categoria\",\n",
        "                        columns=[\"Ano\",\"Produto\"], aggfunc=\"sum\", fill_value=0)\n",
        "print(tabela)\n"
      ],
      "metadata": {
        "id": "o629Jcv0khzK",
        "colab": {
          "base_uri": "https://localhost:8080/"
        },
        "outputId": "3525338c-de3d-4d1a-fa36-c1e32723f5b7"
      },
      "execution_count": 19,
      "outputs": [
        {
          "output_type": "stream",
          "name": "stdout",
          "text": [
            "Ano               2023  2024\n",
            "Categoria                   \n",
            "Eletrodomésticos  6500     0\n",
            "Eletrônicos       8000     0\n",
            "Móveis               0  3500\n",
            "\n",
            "\n",
            "Ano               2023                                2024      \n",
            "Produto          Fogão Geladeira Notebook Smartphone  Cama  Sofá\n",
            "Categoria                                                       \n",
            "Eletrodomésticos  2500      4000        0          0     0     0\n",
            "Eletrônicos          0         0     5000       3000     0     0\n",
            "Móveis               0         0        0          0  1500  2000\n"
          ]
        }
      ]
    },
    {
      "cell_type": "markdown",
      "source": [
        "**3. Adicionando margens (Totais):**"
      ],
      "metadata": {
        "id": "6gzyjdfglM3w"
      }
    },
    {
      "cell_type": "code",
      "source": [
        "# Incluindo uma linha/coluna de total\n",
        "tabela = pd.pivot_table(df, values=\"Vendas\", index=\"Categoria\", columns=\"Ano\",\n",
        "        aggfunc=\"sum\", fill_value=0, margins=True, margins_name=\"Total Geral\")\n",
        "print(tabela)\n"
      ],
      "metadata": {
        "id": "kY_U7Bz2lRfT",
        "colab": {
          "base_uri": "https://localhost:8080/"
        },
        "outputId": "b66330b1-69d4-4ede-fb03-4b174c6a0491"
      },
      "execution_count": 20,
      "outputs": [
        {
          "output_type": "stream",
          "name": "stdout",
          "text": [
            "Ano                2023  2024  Total Geral\n",
            "Categoria                                 \n",
            "Eletrodomésticos   6500     0         6500\n",
            "Eletrônicos        8000     0         8000\n",
            "Móveis                0  3500         3500\n",
            "Total Geral       14500  3500        18000\n"
          ]
        }
      ]
    },
    {
      "cell_type": "markdown",
      "source": [
        "**4. Pivot Table com múltiplos índices e colunas:**"
      ],
      "metadata": {
        "id": "5Znxl3eall8z"
      }
    },
    {
      "cell_type": "code",
      "source": [
        "# Pivot Table com múltiplos índices e colunas\n",
        "tabela = pd.pivot_table(df, values=\"Vendas\", index=[\"Categoria\", \"Produto\"],\n",
        "                        columns=\"Ano\", aggfunc=\"sum\", fill_value=0)\n",
        "print(tabela)\n"
      ],
      "metadata": {
        "id": "F7NET20ulpnM",
        "colab": {
          "base_uri": "https://localhost:8080/"
        },
        "outputId": "c5bd3bdb-cdc5-42c9-83e4-125a5c254dd9"
      },
      "execution_count": 21,
      "outputs": [
        {
          "output_type": "stream",
          "name": "stdout",
          "text": [
            "Ano                          2023  2024\n",
            "Categoria        Produto               \n",
            "Eletrodomésticos Fogão       2500     0\n",
            "                 Geladeira   4000     0\n",
            "Eletrônicos      Notebook    5000     0\n",
            "                 Smartphone  3000     0\n",
            "Móveis           Cama           0  1500\n",
            "                 Sofá           0  2000\n"
          ]
        }
      ]
    },
    {
      "cell_type": "markdown",
      "source": [
        "### Exercício 4\n",
        "\n",
        "Considere o seguinte conjunto de dados:\n",
        "```python\n",
        "import pandas as pd\n",
        "import numpy as np\n",
        "\n",
        "# DataFrame para os exercícios\n",
        "dados = {\n",
        "    \"Produto\": [\"Notebook\", \"Notebook\", \"Smartphone\", \"Smartphone\", \"Tablet\", \"Tablet\"],\n",
        "    \"Região\": [\"Norte\", \"Sul\", \"Norte\", \"Sul\", \"Norte\", \"Sul\"],\n",
        "    \"Ano\": [2023, 2023, 2024, 2024, 2023, 2024],\n",
        "    \"Vendas\": [5000, 4500, 3000, 3500, 2000, 2500],\n",
        "    \"Lucro\": [1000, 900, 800, 850, 300, 400],\n",
        "}\n",
        "\n",
        "df = pd.DataFrame(dados)\n",
        "print(df)\n",
        "```\n",
        "\n",
        "Então:\n",
        "\n",
        "1. Aplique `stack()` no DataFrame original e observe como ele transforma as colunas em um índice.\n",
        "\n",
        "2. A partir do resultado de `stack()`, use `unstack()` para reorganizar os dados. Experimente utilizar os níveis de índice (0, 1 ou nomeados).\n",
        "\n",
        "3. Crie uma tabela dinâmica que mostre o lucro médio (Lucro) por \"Produto\" e \"Região\". Use `aggfunc=\"mean\"`.\n",
        "\n",
        "\n",
        "4. Adicione margens (totais) à tabela dinâmica do exercício anterior, usando o parâmetro `margins=True`.   "
      ],
      "metadata": {
        "id": "Y7RQk2JCndFi"
      }
    }
  ]
}
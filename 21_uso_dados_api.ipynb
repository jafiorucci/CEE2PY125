{
  "nbformat": 4,
  "nbformat_minor": 0,
  "metadata": {
    "colab": {
      "provenance": [],
      "toc_visible": true,
      "authorship_tag": "ABX9TyNeXBj8kx8Pkq5cyEUpSiti",
      "include_colab_link": true
    },
    "kernelspec": {
      "name": "python3",
      "display_name": "Python 3"
    },
    "language_info": {
      "name": "python"
    }
  },
  "cells": [
    {
      "cell_type": "markdown",
      "metadata": {
        "id": "view-in-github",
        "colab_type": "text"
      },
      "source": [
        "<a href=\"https://colab.research.google.com/github/jafiorucci/CEE2PY125/blob/main/21_uso_dados_api.ipynb\" target=\"_parent\"><img src=\"https://colab.research.google.com/assets/colab-badge.svg\" alt=\"Open In Colab\"/></a>"
      ]
    },
    {
      "cell_type": "markdown",
      "source": [
        "---\n",
        "# Uso de dados de APIs\n",
        "\n",
        "API é a sigla para *Application Programming Interface* (em português, Interface de Programação de Aplicações).\n",
        "Trata-se de um conjunto de definições e protocolos que permitem que diferentes sistemas ou softwares se comuniquem entre si, de forma padronizada, sem que um precise conhecer os detalhes internos do outro.\n",
        "\n",
        "## Bibliotecas\n",
        "\n",
        "O acesso a dados de API's pode ser feito utilizando a biblioteca `requests`, que deve ser instalada, caso ainda não esteja:\n",
        "```python\n",
        "pip install requests\n",
        "```\n",
        "\n",
        "\n",
        "\n",
        "\n",
        "\n"
      ],
      "metadata": {
        "id": "wU2538PMLpDp"
      }
    },
    {
      "cell_type": "markdown",
      "source": [
        "\n",
        "## Formato de dados\n",
        "\n",
        "A maior parte das API's modernas fornecem dados em formato JSON, sendo que no passado o formato mais utilizado era o XML (*Extensible Markup Language*), sendo este segundo um sistema mais pesado que o JSON.\n",
        "\n",
        "Algumas API's também podem fornecer dados em formato CSV (*Comma-Separated Values*), especialmente para dados tabulares.\n",
        "\n",
        "\n",
        "### JSON\n",
        "\n",
        "O formato JSON (*JavaScript Object Notation*) é uma estrutura de dados leve e baseada em texto, usada para a troca de informações entre sistemas. Ele organiza os dados em pares de chave-valor que são agrupados em objetos ({}) ou arrays ([]). As chaves devem ser strings delimitadas por aspas duplas, enquanto os valores podem ser números, strings, booleanos, arrays, objetos ou `null`. Os arrays são listas ordenadas de valores, enquanto os objetos são coleções de pares de chave-valor não ordenadas.\n",
        "\n",
        "***Exemplo***\n",
        "\n",
        "No exemplo abaixo, o objeto principal contém um campo `\"dados\"`, que é uma lista de objetos.\n",
        "\n",
        "Cada objeto dentro da lista representa um município com os seguintes atributos:\n",
        "- \"municipio\": Nome do município.\n",
        "- \"estado\": Sigla do estado ao qual o município pertence.\n",
        "- \"populacao\": População total do município.\n",
        "- \"area_km2\": Área territorial em quilômetros quadrados.\n",
        "- \"indicadores\": Um objeto contendo:\n",
        "  - \"idh\": Índice de Desenvolvimento Humano (IDH).\n",
        "  - \"renda_per_capita\": Renda per capita média.\n",
        "  - \"taxa_alfabetizacao\": Taxa de alfabetização em percentual.\n",
        "\n",
        "```python\n",
        "{\n",
        "  \"dados\": [\n",
        "    {\n",
        "      \"municipio\": \"São Paulo\",\n",
        "      \"estado\": \"SP\",\n",
        "      \"populacao\": 12396372,\n",
        "      \"area_km2\": 1521.11,\n",
        "      \"indicadores\": {\n",
        "        \"idh\": 0.805,\n",
        "        \"renda_per_capita\": 3872.0,\n",
        "        \"taxa_alfabetizacao\": 97.5\n",
        "      }\n",
        "    },\n",
        "    {\n",
        "      \"municipio\": \"Rio de Janeiro\",\n",
        "      \"estado\": \"RJ\",\n",
        "      \"populacao\": 6775561,\n",
        "      \"area_km2\": 1182.30,\n",
        "      \"indicadores\": {\n",
        "        \"idh\": 0.799,\n",
        "        \"renda_per_capita\": 3221.5,\n",
        "        \"taxa_alfabetizacao\": 96.2\n",
        "      }\n",
        "    },\n",
        "    {\n",
        "      \"municipio\": \"Belo Horizonte\",\n",
        "      \"estado\": \"MG\",\n",
        "      \"populacao\": 2530701,\n",
        "      \"area_km2\": 330.954,\n",
        "      \"indicadores\": {\n",
        "        \"idh\": 0.810,\n",
        "        \"renda_per_capita\": 2765.9,\n",
        "        \"taxa_alfabetizacao\": 97.8\n",
        "      }\n",
        "    }\n",
        "  ]\n",
        "}\n",
        "```\n",
        "\n",
        "### Como Funciona\n",
        "\n",
        "Quando você faz uma requisição HTTP com `requests.get()`, o conteúdo da resposta geralmente está no formato de texto bruto.\n",
        "\n",
        "O método `.json()` interpreta esse texto como JSON e o converte automaticamente em objetos nativos do Python.\n",
        "- Objetos JSON se tornam dicionários em Python.\n",
        "- Arrays JSON se tornam listas em Python.\n",
        "- Valores JSON como números, strings, booleans e null são convertidos em seus equivalentes no Python.\n",
        "\n",
        "> Dica: A biblioteca `pprint` possui a função `pprint` que permite apresenta o resultado dessa conversão de um modo organizado."
      ],
      "metadata": {
        "id": "e2dOYaJYbGjt"
      }
    },
    {
      "cell_type": "markdown",
      "source": [
        "---\n",
        "## API do IBGE\n",
        "\n",
        "A API do IBGE fornece dados sobre populações, territórios, economia, e muito mais.\n",
        "\n",
        "A documentação da API do IBGE está disponível em: https://servicodados.ibge.gov.br/api/docs. Nesta página, podemos obter os endereços URL's para fazer requisições de dados do IBGE utilizando o Python.\n",
        "\n",
        "> ***QUERY BUILDER:*** Dentro da página, escolha uma das divisões da API disponíveis, então você pode utilizar o menu `QUERY BUILDER` para personalizar o link conforme seu interesse.\n",
        "\n",
        "\n",
        "> Exemplo: Vamos usar a API para acessar dados de municípios brasileiros.\n"
      ],
      "metadata": {
        "id": "zJ3T-H-EdJRm"
      }
    },
    {
      "cell_type": "markdown",
      "source": [
        "***Exemplo 1:*** Listar munícios por UF\n",
        "\n",
        "Aqui está um exemplo de como obter uma lista de municípios de um estado específico.\n",
        "\n",
        "Para obter a URL para a requisição acessamos na página:\n",
        ">  \"Localidades\" -> Campo MUNICIPIOS, menu \"Municípios por UF\".\n",
        "\n",
        "> Os códigos de estados e municípios estão disponíveis em https://www.ibge.gov.br/explica/codigos-dos-municipios.php."
      ],
      "metadata": {
        "id": "yhhpsRureChw"
      }
    },
    {
      "cell_type": "code",
      "source": [
        "import requests\n",
        "\n",
        "# URL para obter municípios de um estado\n",
        "estado = 35  # Código do estado (São Paulo = 35)\n",
        "url = f\"https://servicodados.ibge.gov.br/api/v1/localidades/estados/{estado}/municipios\"\n",
        "\n",
        "# Fazendo a requisição\n",
        "response = requests.get(url)\n",
        "\n",
        "print( \"type(response):\", type(response) )"
      ],
      "metadata": {
        "id": "JZESzpAUdkIl"
      },
      "execution_count": null,
      "outputs": []
    },
    {
      "cell_type": "code",
      "source": [
        "# Checando o status da requisição e interpretando o JSON\n",
        "if response.status_code == 200:\n",
        "\n",
        "    municipios = response.json() ## interpretando a saída como JSON\n",
        "\n",
        "    print( \"\\n\\nTipo de dados:\", type(municipios) )\n",
        "\n",
        "    print( \"\\n\\nPrimeiros 3 elementos:\", type(municipios) )\n",
        "    print( municipios[:3] )\n",
        "\n",
        "    print( \"\\n\\nPrimeiros 3 elementos (pprint):\")\n",
        "    import pprint\n",
        "    pprint.pprint(municipios[:3])\n",
        "\n",
        "    print( \"\\n\\nAcessando atributos de cada elemento:\" )\n",
        "\n",
        "    print(f\"\\n Total de municípios: {len(municipios)}\")\n",
        "\n",
        "    print(\"\\n Nome dos 5 primeiros municípios:\")\n",
        "\n",
        "    for municipio in municipios[:5]:  # Mostra os primeiros 5 municípios\n",
        "        print(\"  \", municipio['nome'])\n",
        "else:\n",
        "    print(\"Erro ao acessar a API do IBGE\")\n"
      ],
      "metadata": {
        "id": "9mn7b9ZaA-4d"
      },
      "execution_count": null,
      "outputs": []
    },
    {
      "cell_type": "code",
      "source": [
        "# A biblioteca pandas pode ser utilizada para tabelar como um dataframe\n",
        "##  Em Jupyter e Colab pode-se utilizar o comando display para ter uma apresentação\n",
        "##  mais organizada que a função print\n",
        "import pandas as pd\n",
        "\n",
        "df = pd.DataFrame(municipios)\n",
        "\n",
        "display(df)"
      ],
      "metadata": {
        "id": "4m9dxaNMa1tH"
      },
      "execution_count": null,
      "outputs": []
    },
    {
      "cell_type": "markdown",
      "source": [
        "***Exemplo 2:*** Estimativa Populacional\n",
        "\n",
        "O link abaixo foi construído utilizando a divisão \"AGREGADOS\" e o seguinte sequência para o \"Query Builder\":\n",
        "\n",
        "1. Pesquisa: Estimativas de População\n",
        "2. Períodos: Selecionar todos\n",
        "3. Nível geográfico: N1 - Brasil\n",
        "\n",
        "https://servicodados.ibge.gov.br/api/v3/agregados/6579/periodos/2001|2002|2003|2004|2005|2006|2008|2009|2011|2012|2013|2014|2015|2016|2017|2018|2019|2020|2021|2024/variaveis/9324?localidades=N1[all]\n"
      ],
      "metadata": {
        "id": "dKqpKZSNJoKF"
      }
    },
    {
      "cell_type": "code",
      "source": [
        "import requests\n",
        "\n",
        "url = \"https://servicodados.ibge.gov.br/api/v3/agregados/6579/periodos/2001|2002|2003|2004|2005|2006|2008|2009|2011|2012|2013|2014|2015|2016|2017|2018|2019|2020|2021|2024/variaveis/9324?localidades=N1[all]\"\n",
        "\n",
        "# Fazendo a requisição\n",
        "response = requests.get(url)\n",
        "\n",
        "print( \"type(response):\", type(response) )\n",
        "\n",
        "if response.status_code == 200:\n",
        "  dados = response.json() ## interpretando a saída como JSON\n",
        "\n",
        "  print( \"\\n\\nTipo de dados:\", type(dados) )\n",
        "\n",
        "  ## Exibe uma descrição organizada da estrutura dos dados\n",
        "  import pprint\n",
        "  pprint.pprint(dados)\n",
        "\n",
        "else:\n",
        "  print(\"Erro ao acessar a API do IBGE\")\n"
      ],
      "metadata": {
        "id": "qzQRvZkrK89S"
      },
      "execution_count": null,
      "outputs": []
    },
    {
      "cell_type": "code",
      "source": [
        "# Extraindo a série temporal\n",
        "### Nessa etapa voce pode ir printando a estrutura e selecionando o elemento de interesse\n",
        "\n",
        "pprint.pprint(dados[0]['resultados'][0]['series'][0]['serie'])\n",
        "\n",
        "serie = dados[0]['resultados'][0]['series'][0]['serie']"
      ],
      "metadata": {
        "id": "E2Zgr4HTV3my"
      },
      "execution_count": null,
      "outputs": []
    },
    {
      "cell_type": "code",
      "source": [
        "import matplotlib.pyplot as plt\n",
        "import pandas as pd\n",
        "\n",
        "# Convertendo para um DataFrame do pandas\n",
        "df = pd.DataFrame(list(serie.items()), columns=['Year', 'Value'])\n",
        "df['Year'] = pd.to_datetime(df['Year'], format='%Y')  # Convertendo anos para datetime\n",
        "df['Value'] = pd.to_numeric(df['Value'])  # Convertendo valores para numérico\n",
        "\n",
        "# Criando o gráfico\n",
        "plt.figure(figsize=(5, 4))\n",
        "plt.plot(df['Year'], df['Value'], marker='o', linestyle='-', color='b', label='Estimativa Populacional')\n",
        "plt.title('Estimativa Populacional')\n",
        "plt.xlabel('Ano')\n",
        "plt.ylabel('Valor')\n",
        "plt.grid(True, linestyle='--', alpha=0.7)\n",
        "#plt.legend()\n",
        "plt.tight_layout()\n",
        "plt.show()"
      ],
      "metadata": {
        "id": "iWZJl7zfLJQh"
      },
      "execution_count": null,
      "outputs": []
    },
    {
      "cell_type": "markdown",
      "source": [
        "### Exercício 1\n",
        "\n",
        "Crie um código que baixe e apresente informações de \"Localidade\" do Distrito Federal utilizando a API do IBGE.\n"
      ],
      "metadata": {
        "id": "n6kJg5-GE-BH"
      }
    },
    {
      "cell_type": "markdown",
      "source": [
        "---\n",
        "## API do Banco Central\n",
        "\n",
        "O Banco Central do Brasil fornece uma API chamada \"Serviço de Dados Abertos\" para acessar informações financeiras, como taxas de câmbio e boletins econômicos.\n",
        "\n",
        "A documentação da API do Banco Central está disponível em:\n",
        "https://dadosabertos.bcb.gov.br"
      ],
      "metadata": {
        "id": "4dx8NMfmXNtD"
      }
    },
    {
      "cell_type": "markdown",
      "source": [
        "***Exemplo 1:*** Cotação do dólar\n",
        "\n",
        "\n",
        "Para obter o histórico da cotação do dólar, vamos executar os seguintes passos:\n",
        "\n",
        "1. Pesquisar \"Cotação do dólar\" na página da documentação https://dadosabertos.bcb.gov.br\n",
        "\n",
        "2. Clique em `Dólar comercial (venda e compra) - cotações diárias`.\n",
        "\n",
        "3. No canto superior direito, clique em `Ponto de Acesso à API`.\n",
        "\n",
        "4. No tópico `Cotação do Dólar por período` clique em `Explorar`.\n",
        "\n",
        "5. Preencha as informações sobre o intervalo de datas no formulário, utilize o forma MM-DD-AAAA.\n",
        "\n",
        "  * Como exemplo foi preenchido, `Data inicial = 01-01-2025` e `Data final = 01-20-2024`.\n",
        "\n",
        "5. Copie a URL que foi gerada.\n",
        "\n",
        "  * No exemplo, temos:\n",
        "\n",
        "```http\n",
        "  https://olinda.bcb.gov.br/olinda/servico/PTAX/versao/v1/odata/CotacaoDolarPeriodo(dataInicial=@dataInicial,dataFinalCotacao=@dataFinalCotacao)?@dataInicial='01-01-2025'&@dataFinalCotacao='01-20-2025'&$top=100&$format=json\n",
        "```\n",
        "\n",
        "> Note que esta URL é utilizada no código abaixo para baixar a série histórica da cotação do dólar.\n"
      ],
      "metadata": {
        "id": "rrd6Tl1tYWML"
      }
    },
    {
      "cell_type": "code",
      "source": [
        "import requests\n",
        "from datetime import datetime\n",
        "\n",
        "# URL para taxas de câmbio\n",
        "data_inicial = \"01-01-2025\" ## MM-DD-AAAA\n",
        "data_final = \"01-20-2025\"   ## MM-DD-AAAA\n",
        "url = f\"https://olinda.bcb.gov.br/olinda/servico/PTAX/versao/v1/odata/CotacaoDolarPeriodo(dataInicial=@dataInicial,dataFinalCotacao=@dataFinal)?@dataInicial='{data_inicial}'&@dataFinal='{data_final}'&$format=json\"\n",
        "\n",
        "# Fazendo a requisição\n",
        "response = requests.get(url)\n",
        "\n",
        "# Checando o status\n",
        "if response.status_code == 200:\n",
        "\n",
        "    dados = response.json()\n",
        "\n",
        "    import pprint\n",
        "    pprint.pprint(dados)\n",
        "\n",
        "    print(\"\\n\\nPreços de compra:\")\n",
        "    dados_cambio = dados['value']\n",
        "    for dia in dados_cambio:\n",
        "        print(f\"Data: {dia['dataHoraCotacao']}, Valor: {dia['cotacaoCompra']}\")\n",
        "else:\n",
        "    print(\"Erro ao acessar a API do Banco Central\")"
      ],
      "metadata": {
        "id": "wXwYLnKyY0ys"
      },
      "execution_count": null,
      "outputs": []
    },
    {
      "cell_type": "markdown",
      "source": [
        "Podemos desempacotar as informações para um DataFrame do Pandas.\n",
        "\n",
        "Para isto, bastar selecionar selecionar o elemento 'value' do JSON. Veja o exemplo no código abaixo."
      ],
      "metadata": {
        "id": "3PLx3JZket_9"
      }
    },
    {
      "cell_type": "code",
      "source": [
        "# Para tabular as informações podemos utilizar Pandas\n",
        "import pandas as pd\n",
        "\n",
        "df = pd.DataFrame( dados['value'] )\n",
        "print( df )"
      ],
      "metadata": {
        "id": "Djn37fcxd7HR"
      },
      "execution_count": null,
      "outputs": []
    },
    {
      "cell_type": "code",
      "source": [
        "# Criando o gráfico\n",
        "import matplotlib.pyplot as plt\n",
        "\n",
        "  ## Convertendo a coluna 'dataHoraCotacao' para datetime\n",
        "df['dataHoraCotacao'] = pd.to_datetime(df['dataHoraCotacao'])\n",
        "\n",
        "  ## Remove informações de horário\n",
        "df['dataHoraCotacao'] = df['dataHoraCotacao'].dt.date\n",
        "\n",
        "plt.figure(figsize=(5, 4))\n",
        "plt.plot(df['dataHoraCotacao'], df[\"cotacaoCompra\"])\n",
        "plt.title('Cotação Dólar')\n",
        "plt.grid(True, linestyle='--', alpha=0.6)\n",
        "plt.xticks(rotation=45)  # Rotaciona os rótulos para evitar sobreposição\n",
        "plt.tight_layout()\n",
        "plt.show()"
      ],
      "metadata": {
        "id": "afeWEgwxlOYy"
      },
      "execution_count": null,
      "outputs": []
    },
    {
      "cell_type": "markdown",
      "source": [
        "### Exercício 2\n",
        "\n",
        "Crie um código que baixe e apresente informações da série temporal diária da \"Taxa de juros - Selic\" entre 01/01/2010 até 20/01/2025.\n",
        "\n",
        "> Link para a documentação da API: https://dadosabertos.bcb.gov.br/dataset/11-taxa-de-juros---selic/resource/b73edc07-bbac-430c-a2cb-b1639e605fa8\n",
        "\n",
        "\n"
      ],
      "metadata": {
        "id": "yZsegu97gjVs"
      }
    }
  ]
}
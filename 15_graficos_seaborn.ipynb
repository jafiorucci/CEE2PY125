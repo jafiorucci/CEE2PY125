{
  "nbformat": 4,
  "nbformat_minor": 0,
  "metadata": {
    "colab": {
      "provenance": [],
      "toc_visible": true,
      "authorship_tag": "ABX9TyM5Li/0R3cCgspUEFXyESK9",
      "include_colab_link": true
    },
    "kernelspec": {
      "name": "python3",
      "display_name": "Python 3"
    },
    "language_info": {
      "name": "python"
    }
  },
  "cells": [
    {
      "cell_type": "markdown",
      "metadata": {
        "id": "view-in-github",
        "colab_type": "text"
      },
      "source": [
        "<a href=\"https://colab.research.google.com/github/jafiorucci/CEE2PY125/blob/main/15_graficos_seaborn.ipynb\" target=\"_parent\"><img src=\"https://colab.research.google.com/assets/colab-badge.svg\" alt=\"Open In Colab\"/></a>"
      ]
    },
    {
      "cell_type": "markdown",
      "source": [
        "---\n",
        "\n",
        "# **Gráficos -  Seaborn**\n",
        "\n",
        "`Seaborn` é uma biblioteca para visualização de dados em Python, construída sobre o `Matplotlib`.\n",
        "* Focada em gráficos estatísticos.\n",
        "* Suporte integrado para DataFrames do Pandas.\n",
        "\n",
        "O tutorial oficial dessa biblioteca pode ser acessado em [tutorial_link](https://seaborn.pydata.org/tutorial/introduction).\n",
        "\n",
        "---\n",
        "**Instalação**\n",
        "\n",
        "```bash\n",
        "!pip install seaborn\n",
        "```\n",
        "\n",
        "---\n",
        "**Importação**\n",
        "\n",
        "Geralmente importamos como `sns`.\n"
      ],
      "metadata": {
        "id": "cxDxzRy66K6m"
      }
    },
    {
      "cell_type": "code",
      "source": [
        "import seaborn as sns\n",
        "import matplotlib.pyplot as plt"
      ],
      "metadata": {
        "id": "LSGz_gPl8fx3"
      },
      "execution_count": null,
      "outputs": []
    },
    {
      "cell_type": "markdown",
      "source": [
        "---\n",
        "**Personalizações**\n",
        "\n",
        "Principais argumentos das funções que geram gráficos:\n",
        "\n",
        "* `hue`: Adiciona cores para categorizar. Aceita variáveis categóricas ou numéricas.\n",
        "  * **Categórica:**  cada categoria é representada por uma cor distinta.\n",
        "  * **Numéricas:** Se a variável for contínua, o Seaborn cria um mapa de cores (gradiente), que pode ser personalizado utilizando o argumento `palette`.\n",
        "\n",
        "* `style`: Diferencia categorias com símbolos, funciona como um complemento a `hue`. Aceita variáveis categóricas.\n",
        "  * **Categórica:**  cada categoria é representada por um marcador diferente, por exemplo: círculo, triângulo, quadrado.\n",
        "\n",
        "* `size`: Ajusta o tamanho dos pontos. Aceita variáveis numéricas e categóricas:\n",
        "\n",
        "  * **Numéricas:**  o tamanho dos marcadores será proporcional aos valores.\n",
        "  * **Categórica:**  categorias diferentes são associadas a tamanhos distintos.\n",
        "\n",
        "\n",
        "---\n",
        "**Dataset Exemplo**\n",
        "\n",
        "Nos exemplos a seguir, vamos usar o dataset `tips` (gorgetas).\n",
        "\n",
        "> Esse dataset já faz parte da biblioteca.\n",
        "\n",
        "*Estrutura do Dataset* `tips`:\n",
        "\n",
        "* `total_bill`: Valor total da conta.\n",
        "* `tip`: Gorjeta.\n",
        "* `sex`: Gênero do cliente.\n",
        "* `smoker`: Fumante ou não.\n",
        "* `day`: Dia da semana.\n",
        "* `time`: Refeição (Almoço ou Jantar).\n",
        "* `size`: Número de pessoas na mesa"
      ],
      "metadata": {
        "id": "9T0X_27W73en"
      }
    },
    {
      "cell_type": "code",
      "source": [
        "# Carregando o dataset de gorjetas\n",
        "df = sns.load_dataset(\"tips\")\n",
        "\n",
        "print(\"df:\\n\", df.head())\n",
        "\n",
        "print(\"\\ndtypes:\\n\", df.dtypes)"
      ],
      "metadata": {
        "id": "AMcfw3db8K-W"
      },
      "execution_count": null,
      "outputs": []
    },
    {
      "cell_type": "markdown",
      "source": [
        "---\n",
        "## Gráfico de Dispersão (Scatter Plot)\n",
        "\n",
        "Para este tipo de gráficos temos a seguinte função:\n",
        "```python\n",
        "sns.scatterplot(data, x, y, hue, style, size)\n",
        "```\n",
        "\n",
        "\n",
        "Veja os exemplos:"
      ],
      "metadata": {
        "id": "mkj0m8-7_PEO"
      }
    },
    {
      "cell_type": "code",
      "source": [
        "plt.figure(figsize=(6, 3))\n",
        "\n",
        "# gráfico padrão\n",
        "plt.subplot(1, 2, 1)\n",
        "sns.scatterplot(data=df, x=\"total_bill\", y=\"tip\")\n",
        "plt.title(\"Total da Conta vs Gorjeta\")\n",
        "\n",
        "# gráfico padrão\n",
        "plt.subplot(1, 2, 2)\n",
        "sns.scatterplot(data=df, x=\"size\", y=\"tip\")\n",
        "plt.title(\"Número de Pessoas vs Gorjeta\")\n",
        "\n",
        "# Ajustando o layout\n",
        "plt.tight_layout() ## evita que as figuras fiquem sobrepostas\n",
        "\n",
        "plt.show()"
      ],
      "metadata": {
        "id": "dE6KDamnAVRA"
      },
      "execution_count": null,
      "outputs": []
    },
    {
      "cell_type": "code",
      "source": [
        "plt.figure(figsize=(3, 3))\n",
        "\n",
        "# adicionando diferentes cores de acordo com a variável \"sex\"\n",
        "sns.scatterplot(data=df, x=\"total_bill\", y=\"tip\", hue=\"sex\")\n",
        "plt.title(\"Total da Conta vs Gorjeta\")\n",
        "plt.legend(loc=\"upper left\", fontsize=8)\n",
        "plt.show()"
      ],
      "metadata": {
        "id": "-qJNB7JFSZcM"
      },
      "execution_count": null,
      "outputs": []
    },
    {
      "cell_type": "code",
      "source": [
        "plt.figure(figsize=(3, 3))\n",
        "\n",
        "# adicionando diferentes cores de acordo com a variável \"sex\"\n",
        "# adicionando diferentes pontos de acordo com a variável \"time\"\n",
        "sns.scatterplot(data=df, x=\"total_bill\", y=\"tip\", hue=\"sex\", style=\"time\")\n",
        "plt.title(\"Total da Conta vs Gorjeta\")\n",
        "plt.legend(loc=\"upper left\", fontsize=7)\n",
        "plt.show()"
      ],
      "metadata": {
        "id": "hzapHhkFTY17"
      },
      "execution_count": null,
      "outputs": []
    },
    {
      "cell_type": "code",
      "source": [
        "plt.figure(figsize=(3, 3))\n",
        "\n",
        "# alterando o tamanho dos pontos de acordo com a variável \"size\" (número de pessoas na mesa)\n",
        "sns.scatterplot(data=df, x=\"total_bill\", y=\"tip\", size = \"size\")\n",
        "plt.title(\"Total da Conta vs Gorjeta\")\n",
        "plt.legend(fontsize=7)\n",
        "plt.show()"
      ],
      "metadata": {
        "id": "OHacZG-uTshS"
      },
      "execution_count": null,
      "outputs": []
    },
    {
      "cell_type": "markdown",
      "source": [
        "**DICA:**\n",
        "\n",
        "> A legenda pode ser movida para fora do gráfico utilizando o argumento `bbox_to_anchor(x,y)`. Neste caso, o argumento `loc` vai marcar o ponto de referência para as coordenadas \"x\" , \"y\".\n",
        "\n",
        "Veja o exemplo:"
      ],
      "metadata": {
        "id": "tU1VU0ifr4nF"
      }
    },
    {
      "cell_type": "code",
      "source": [
        "plt.figure(figsize=(3, 3))\n",
        "sns.scatterplot(data=df, x=\"total_bill\", y=\"tip\", hue=\"sex\", style=\"time\", size=\"size\")\n",
        "plt.title(\"Total da Conta vs Gorjeta\")\n",
        "plt.legend(loc='lower left', bbox_to_anchor=(1, 0), fontsize=7)\n",
        "plt.show()"
      ],
      "metadata": {
        "id": "Fo-8xqAfsvuv"
      },
      "execution_count": null,
      "outputs": []
    },
    {
      "cell_type": "markdown",
      "source": [
        "---\n",
        "## Gráfico de Barras\n",
        "\n",
        "O `sns.barplot` do Seaborn é resumidor por padrão: ele agrega os dados automaticamente.\n",
        "\n",
        "O comportamento padrão é:\n",
        "> Para cada categoria em x, calcular a média da variável em y.\n",
        "> Também apresenta um intervalo com 95% de confiança para a média. Este intervalo é construido utilizando 1000 amostras de bootstrap.\n",
        "\n",
        "```python\n",
        "sns.barplot(data, x, y, hue, errorbar=('ci', 95))\n",
        "```\n",
        "\n",
        "* `hue` (opcional): define cores;\n",
        "* `errorbar` (opcional): defini o tamanho do intervalo de confiança. Use `errorbar=None` para não apresentar.\n",
        "\n",
        "> Caso queira utilizar um agregador diferente da média, pode-se utilizar o argumento `estimador`, por exemplo: para SOMA use `estimator=np.sum`, para MEDIANA use `estimator=np.median`.\n",
        "\n",
        "Veja os exemplos:"
      ],
      "metadata": {
        "id": "FRxC2o0tWzBo"
      }
    },
    {
      "cell_type": "code",
      "source": [
        "plt.figure(figsize=(3, 3))\n",
        "sns.barplot(data=df, x=\"day\", y=\"total_bill\")\n",
        "plt.title(\"Média do Total da Conta por Dia e Gênero\")\n",
        "plt.show()"
      ],
      "metadata": {
        "id": "wpyeQOLMXJsQ"
      },
      "execution_count": null,
      "outputs": []
    },
    {
      "cell_type": "code",
      "source": [
        "plt.figure(figsize=(3, 3))\n",
        "## separando cores pela variável \"sex\"\n",
        "sns.barplot(data=df, x=\"day\", y=\"total_bill\", hue=\"sex\")\n",
        "plt.title(\"Média do Total da Conta por Dia e Gênero\")\n",
        "plt.ylim(0, 35)\n",
        "plt.legend(loc=\"upper left\")\n",
        "plt.show()"
      ],
      "metadata": {
        "id": "050gZb13YaKc"
      },
      "execution_count": null,
      "outputs": []
    },
    {
      "cell_type": "code",
      "source": [
        "## agora para a mediana\n",
        "\n",
        "import numpy as np\n",
        "\n",
        "plt.figure(figsize=(3, 3))\n",
        "## separando cores pela variável \"sex\"\n",
        "sns.barplot(data=df, x=\"day\", y=\"total_bill\", hue=\"sex\", estimator=np.median)\n",
        "plt.title(\"Média do Total da Conta por Dia e Gênero\")\n",
        "plt.ylim(0, 35)\n",
        "plt.legend(loc=\"upper left\")\n",
        "plt.show()"
      ],
      "metadata": {
        "id": "gyyk84u7y4E4"
      },
      "execution_count": null,
      "outputs": []
    },
    {
      "cell_type": "markdown",
      "source": [
        "---\n",
        "## Histogramas e densidades\n",
        "\n",
        "\n",
        "- **Histogramas:**\n",
        "```python\n",
        "sns.histplot( data, x, hue, alpha, multiple, stat=\"count\")\n",
        "```\n",
        "- **Densidades:**\n",
        "```python\n",
        "sns.kdeplot(data , x , hue, alpha, multiple, common_norm )\n",
        "```\n",
        "\n",
        "- **Histograma com densidade sobreposta**\n",
        "```python\n",
        "sns.kdeplot(data, x, stat=\"density\", kde=True)\n",
        "```\n",
        "Argumentos:\n",
        "\n",
        "* `stat`: estatística apresentada. Por padrão é mostrado a contagem `\"count\"`. Use `stat=frequency` frequência relativa (proporção em relação ao total de observações).\n",
        "\n",
        "* `mutiple`: permite direcionar como as distribuições de várias categorias são exibidas em um único gráfico, as opções disponíveis são:\n",
        "\n",
        "  * `'layer'` (Padrão): As distribuições são sobrepostas.\n",
        "  \n",
        "  > Se as cores não forem semi-transparentes (use `alpha`), elas podem se sobrepor completamente, dificultando a visualização.\n",
        "\n",
        "  * `'dodge'`: Categorias lado a lado. Isso ajuda a comparar categorias. **Apenas para histogramas.**\n",
        "\n",
        "  * `'stack'`: As distribuições são empilhadas. A altura total ou a densidade reflete a soma das categorias.\n",
        "\n",
        "  * `'fill'`: Proporções normalizadas, somando 100% ou 1 no total. Cada barra ou área representará a proporção da categoria no total. **Apenas para histogramas.**\n",
        "\n",
        "* `common_norm`: Se `False`, então é normalizado por classe do `hue`.\n",
        "\n",
        "Veja os exemplos:"
      ],
      "metadata": {
        "id": "B1ssGF6AOxva"
      }
    },
    {
      "cell_type": "code",
      "source": [
        "## relambando o banco de dados\n",
        "print(df.head())"
      ],
      "metadata": {
        "id": "2oxVy3Km_LhD"
      },
      "execution_count": null,
      "outputs": []
    },
    {
      "cell_type": "code",
      "source": [
        "## histograma da variável \"tip\" separado por \"sex\"\n",
        "\n",
        "plt.subplot(2, 2, 1)\n",
        "sns.histplot(data=df, x=\"tip\", hue=\"sex\", multiple='layer', alpha=0.5)\n",
        "plt.title(\"multiple='layer'\")\n",
        "\n",
        "plt.subplot(2, 2, 2)\n",
        "sns.histplot(data=df, x=\"tip\", hue=\"sex\", multiple='dodge')\n",
        "plt.title(\"multiple='dodge'\")\n",
        "\n",
        "plt.subplot(2, 2, 3)\n",
        "sns.histplot(data=df, x=\"tip\", hue=\"sex\", multiple='stack')\n",
        "plt.title(\"multiple='stack'\")\n",
        "\n",
        "plt.subplot(2, 2, 4)\n",
        "sns.histplot(data=df, x=\"tip\", hue=\"sex\", multiple='fill')\n",
        "plt.title(\"multiple='fill'\")\n",
        "\n",
        "# Ajustando o layout\n",
        "plt.tight_layout() ## evita que as figuras fiquem sobrepostas\n",
        "\n",
        "# Exibindo os gráficos\n",
        "plt.show()"
      ],
      "metadata": {
        "id": "LlPXuB0MPjDF"
      },
      "execution_count": null,
      "outputs": []
    },
    {
      "cell_type": "code",
      "source": [
        "## histograma da variável \"total_bill\" separado por \"smoker\"\n",
        "\n",
        "plt.subplot(2, 2, 1)\n",
        "sns.histplot(data=df, x=\"total_bill\", hue=\"smoker\", multiple='layer', alpha=0.5)\n",
        "plt.title(\"multiple='layer'\")\n",
        "\n",
        "plt.subplot(2, 2, 2)\n",
        "sns.histplot(data=df, x=\"total_bill\", hue=\"smoker\", multiple='dodge')\n",
        "plt.title(\"multiple='dodge'\")\n",
        "\n",
        "plt.subplot(2, 2, 3)\n",
        "sns.histplot(data=df, x=\"total_bill\", hue=\"smoker\", multiple='stack')\n",
        "plt.title(\"multiple='stack'\")\n",
        "\n",
        "plt.subplot(2, 2, 4)\n",
        "sns.histplot(data=df, x=\"total_bill\", hue=\"smoker\", multiple='fill')\n",
        "plt.title(\"multiple='fill'\")\n",
        "\n",
        "# Ajustando o layout\n",
        "plt.tight_layout() ## evita que as figuras fiquem sobrepostas\n",
        "\n",
        "# Exibindo os gráficos\n",
        "plt.show()"
      ],
      "metadata": {
        "id": "qQfzTfJhQczu"
      },
      "execution_count": null,
      "outputs": []
    },
    {
      "cell_type": "code",
      "source": [
        "# Densidades aproximadas da variável \"tip\" separado por \"sex\"\n",
        "\n",
        "plt.figure(figsize=(8, 5))\n",
        "\n",
        "plt.subplot(2, 2, 1)\n",
        "sns.kdeplot(data=df, x=\"tip\", hue=\"sex\", multiple='layer')\n",
        "plt.ylim(0, 0.45)\n",
        "plt.title(\"multiple='layer'\")\n",
        "\n",
        "plt.subplot(2, 2, 2)\n",
        "sns.kdeplot(data=df, x=\"tip\", hue=\"sex\", multiple='stack')\n",
        "plt.ylim(0, 0.45)\n",
        "plt.title(\"multiple='stack'\")\n",
        "\n",
        "plt.subplot(2, 2, 3)\n",
        "sns.kdeplot(data=df, x=\"tip\", hue=\"sex\", multiple='layer', common_norm=False)\n",
        "plt.ylim(0, 0.45)\n",
        "plt.title(\"multiple='layer' (normalizado)\")\n",
        "\n",
        "plt.subplot(2, 2, 4)\n",
        "sns.kdeplot(data=df, x=\"tip\", hue=\"sex\", multiple='stack', common_norm=False)\n",
        "plt.ylim(0, 0.45)\n",
        "plt.title(\"multiple='stack' (normalizado)\")\n",
        "\n",
        "# Ajustando o layout\n",
        "plt.tight_layout() ## evita que as figuras fiquem sobrepostas\n",
        "\n",
        "# Exibindo os gráficos\n",
        "plt.show()"
      ],
      "metadata": {
        "id": "rQByam_DRwmk"
      },
      "execution_count": null,
      "outputs": []
    },
    {
      "cell_type": "code",
      "source": [
        "# Histograma com densidade sobreposta\n",
        "\n",
        "plt.figure(figsize=(8, 3))\n",
        "\n",
        "plt.subplot(1, 2, 1)\n",
        "sns.histplot(data=df, x=\"total_bill\", stat=\"density\", kde=True)\n",
        "\n",
        "plt.subplot(1, 2, 2)\n",
        "sns.histplot(data=df, x=\"total_bill\", hue=\"sex\", stat=\"density\", kde=True, common_norm=False)\n",
        "\n",
        "plt.tight_layout()\n",
        "plt.show()"
      ],
      "metadata": {
        "id": "gJ-jlw7B2480"
      },
      "execution_count": null,
      "outputs": []
    },
    {
      "cell_type": "markdown",
      "source": [
        "---\n",
        "## Gráfico Boxplot\n",
        "\n",
        "Visualizar médias de variáveis categóricas.\n",
        "```python\n",
        "sns.boxplot(data, x, y, hue)\n",
        "```\n",
        "\n",
        "Veja os exemplos:"
      ],
      "metadata": {
        "id": "uo0mqGSoZY1Y"
      }
    },
    {
      "cell_type": "code",
      "source": [
        "sns.boxplot(data=df, x=\"day\", y=\"total_bill\")\n",
        "plt.title(\"Distribuição do Total da Conta por Dia\")\n",
        "plt.show()"
      ],
      "metadata": {
        "id": "Oulhmx4GZkw1"
      },
      "execution_count": null,
      "outputs": []
    },
    {
      "cell_type": "code",
      "source": [
        "## seprando pela variável \"sex\"\n",
        "sns.boxplot(data=df, x=\"day\", y=\"total_bill\", hue=\"sex\")\n",
        "plt.title(\"Distribuição do Total da Conta por Dia e Gênero\")\n",
        "plt.ylim(0, 60)\n",
        "plt.show()"
      ],
      "metadata": {
        "id": "3FfpVU7DZrR-"
      },
      "execution_count": null,
      "outputs": []
    },
    {
      "cell_type": "markdown",
      "source": [
        "---\n",
        "## Gráfico Heatmap\n",
        "\n",
        "Para matrizes e correlações.\n",
        "```python\n",
        "sns.heatmap(matriz, annot=True, cmap=\"coolwarm\", fmt=\".2f\")\n",
        "```\n",
        "\n",
        "Personalizações:\n",
        "\n",
        "* `annot`: Exibe valores no mapa.\n",
        "* `cmap`: Escolhe a paleta de cores. Veja as opções em https://seaborn.pydata.org/tutorial/color_palettes.html.\n",
        "\n",
        "\n",
        "Veja o exemplo:"
      ],
      "metadata": {
        "id": "nl0LZqXnbX9f"
      }
    },
    {
      "cell_type": "code",
      "source": [
        "import pandas as pd\n",
        "\n",
        "df_dummies = pd.get_dummies(df)\n",
        "print( df_dummies.head() )\n",
        "\n",
        "# Calculando a correlação\n",
        "corr = df_dummies[[\"total_bill\", \"tip\", \"size\", \"sex_Male\",\n",
        "                   \"smoker_Yes\", \"time_Lunch\"]].corr()\n",
        "\n",
        "# Heatmap\n",
        "sns.heatmap(corr, annot=True, cmap=\"coolwarm\", fmt=\".2f\")\n",
        "plt.title(\"Mapa de Correlação\")\n",
        "plt.show()"
      ],
      "metadata": {
        "id": "9hKmxIXobxJe"
      },
      "execution_count": null,
      "outputs": []
    },
    {
      "cell_type": "markdown",
      "source": [
        "---\n",
        "\n",
        "## FacetGrid\n",
        "\n",
        "Seaborn possui algumas funções que utilizam **FacetGrid** internamente, o que significa que são projetadas para criar gráficos com suporte embutido para facetas (subgráficos automáticos baseados em categorias ou colunas).\n",
        "\n",
        "* Essas funções não podem ser combinadas com algumas funções da `matplotlib`, como a `subplot()` e `figure()`, uma vez que elas já possuem essas funcionalidades internamente.\n",
        "\n",
        "Além dos argumentos tradicionais da Seaborn, teremos aqui alguns argumentos adicionais:\n",
        "\n",
        "* `col`: Subplots em colunas\n",
        "* `row`: Subplots em linhas\n",
        "* `height`: altura em polegadas.\n",
        "* `aspect`: proporção de cada faceta, de modo que `aspect * height` fornece a largura de cada faceta em polegadas.\n"
      ],
      "metadata": {
        "id": "2DqPzjjQxi3x"
      }
    },
    {
      "cell_type": "markdown",
      "source": [
        "---\n",
        "### Gráfico de relação\n",
        "\n",
        "A função `seaborn.relplot` é uma ferramenta versátil no Seaborn para criar gráficos de relações (relationship plots). Ela funciona como uma interface de alto nível para `scatterplot` (gráficos de dispersão) e `lineplot` (gráficos de linha), permitindo a criação de gráficos mais complexos, organizados por diferentes categorias ou níveis de agrupamento.\n",
        "\n",
        "```python\n",
        "seaborn.relplot(data, x ,y , hue, size, style, col, row, height, aspect,\n",
        "                kind   ## tipo de gráfico (\"scatter\" ou \"line\"):\n",
        "                )\n",
        "```\n",
        "\n",
        "Veja os exemplos:"
      ],
      "metadata": {
        "id": "igYZLLZSpxyi"
      }
    },
    {
      "cell_type": "code",
      "source": [
        "# Gráfico de dispersão simples\n",
        "sns.relplot(data=df, x=\"total_bill\", y=\"tip\", hue=\"sex\", style=\"smoker\",\n",
        "            size=\"size\", height=3.5, aspect=1.2)\n",
        "plt.show()"
      ],
      "metadata": {
        "id": "BnVrIP4XzDyb"
      },
      "execution_count": null,
      "outputs": []
    },
    {
      "cell_type": "code",
      "source": [
        "# Gráfico de dispersão com subplots por tempo e dia\n",
        "sns.relplot(\n",
        "    data=df,\n",
        "    x=\"total_bill\",\n",
        "    y=\"tip\",\n",
        "    hue=\"sex\",\n",
        "    col=\"time\",       ## separa em colunas pela variável \"time\"\n",
        "    row=\"smoker\",     ## separa em linhas pela variável \"smoker\"\n",
        "    kind=\"scatter\",   ## tipo de gráfico\n",
        "    height=3, aspect=1.2\n",
        ")\n",
        "plt.show()\n"
      ],
      "metadata": {
        "id": "lMAJG75Lzy6l"
      },
      "execution_count": null,
      "outputs": []
    },
    {
      "cell_type": "code",
      "source": [
        "# Gráfico de dispersão com subplots por tempo e dia (com linhas)\n",
        "sns.relplot(\n",
        "    data=df,\n",
        "    x=\"total_bill\",\n",
        "    y=\"tip\",\n",
        "    hue=\"sex\",\n",
        "    col=\"time\",      ## separa em colunas pela variável \"time\"\n",
        "    row=\"smoker\",    ## separa em linhas pela variável \"smoker\"\n",
        "    kind=\"line\",   ## tipo de gráfico\n",
        "    height=3, aspect=1.2\n",
        ")\n",
        "plt.show()"
      ],
      "metadata": {
        "id": "O77EHQRB0pAL"
      },
      "execution_count": null,
      "outputs": []
    },
    {
      "cell_type": "markdown",
      "source": [
        "---\n",
        "### Gráfico de dispersão com regressão ajustada\n",
        "Não raramente, pode ser interessante incluir uma reta de regressão linear para descrever o comportamento dos dados representados no gráfico de dispersão, para isto, temos a função:\n",
        "```python\n",
        "sns.lmplot(data, x, y, hue, style, size, height, aspect)\n",
        "```\n",
        "\n",
        "Veja os exemplos:"
      ],
      "metadata": {
        "id": "LyRkGcVJp6_t"
      }
    },
    {
      "cell_type": "code",
      "source": [
        "## lmplot() inclui a reta de regressão juntamente com uma banda representando incerteza.\n",
        "\n",
        "sns.lmplot(data=df, x=\"total_bill\", y=\"tip\", height=4, aspect=1.2)"
      ],
      "metadata": {
        "id": "OT2ZsQen1jyt"
      },
      "execution_count": null,
      "outputs": []
    },
    {
      "cell_type": "code",
      "source": [
        "## separando agora em colunas pela variável \"time\" e em cores pela \"smoker\"\n",
        "\n",
        "sns.lmplot(data=df, x=\"total_bill\", y=\"tip\",\n",
        "           col=\"time\",       ## colunas por \"time\"\n",
        "           hue=\"smoker\",     ## cores por \"smoker\"\n",
        "           height=4, aspect=1.2)"
      ],
      "metadata": {
        "id": "1Ufe802lIQaJ"
      },
      "execution_count": null,
      "outputs": []
    },
    {
      "cell_type": "code",
      "source": [
        "## Também podemos construir gráficos de modelos logisticos.\n",
        "\n",
        "## Exemplo: sex ~ total_bill\n",
        "\n",
        "new_df = pd.get_dummies(df, columns=[\"sex\"])\n",
        "\n",
        "print(new_df)\n",
        "\n",
        "sns.lmplot(data=new_df, x=\"total_bill\", y=\"sex_Male\",\n",
        "           logistic=True,    ## gráfico de regressão logística\n",
        "           height=4, aspect=1.2)\n",
        "plt.title(\"Gráfico de Regressão Logística\")\n",
        "plt.show()"
      ],
      "metadata": {
        "id": "09Ohsi61KVbw"
      },
      "execution_count": null,
      "outputs": []
    },
    {
      "cell_type": "markdown",
      "source": [
        "---\n",
        "### Gráfico da distribuição\n",
        "\n",
        "A função `sns.displot()` do Seaborn é uma ferramenta versátil para visualização de distribuições univariadas ou bivariadas.\n",
        "```python\n",
        "sns.displot(data, x, y, col, row, hue, kind=\"hist\", bins)\n",
        "```\n",
        "em que,\n",
        "* `kind`: define o tipo do gráfico\n",
        "\n",
        "  * `hist`(padrão): cria um histograma. Pode ser combinado com `kde=True` para incluir um densidade ajustada.\n",
        "  * `kde`: cria um gráfico de densidade kernel (KDE).\n",
        "  * `ecdf`: cria um gráfico da distribuição acumulada.\n",
        "\n",
        "* `bins`: número de bins (ou intervalo) para o histograma.\n",
        "\n",
        "Veja os exemplos:\n"
      ],
      "metadata": {
        "id": "A4qNijLSrfN1"
      }
    },
    {
      "cell_type": "code",
      "source": [
        "## histogramas \"total_bill\" separados por \"time\" e com densidade ajustada.\n",
        "sns.displot(data=df, x=\"total_bill\", col=\"time\", kind=\"hist\", kde=True, height=4, aspect=1.2)\n",
        "plt.show()"
      ],
      "metadata": {
        "id": "yLrSjHamlEr_"
      },
      "execution_count": null,
      "outputs": []
    },
    {
      "cell_type": "code",
      "source": [
        "## kernel das densidades de \"total_bill\" de acordo com \"sex\" e separados em colunas por \"time\"\n",
        "sns.displot(data=df, x=\"total_bill\", col=\"time\", kind=\"kde\", hue=\"sex\",\n",
        "            common_norm=False, ## para normalizar cada conjunto de \"hue\" separadamente.\n",
        "            height=4, aspect=1.2\n",
        "            )\n",
        "plt.show()"
      ],
      "metadata": {
        "id": "i5mzUWH6vExu"
      },
      "execution_count": null,
      "outputs": []
    },
    {
      "cell_type": "code",
      "source": [
        "## distribuição acumulada de \"total_bill\" de acordo com \"sex\" e separados em colunas por \"time\"\n",
        "sns.displot(data=df, x=\"total_bill\", col=\"time\", kind=\"ecdf\", hue=\"sex\",\n",
        "            height=4, aspect=1.2)\n",
        "plt.show()"
      ],
      "metadata": {
        "id": "cw580CL1wFSi"
      },
      "execution_count": null,
      "outputs": []
    },
    {
      "cell_type": "markdown",
      "source": [
        "---\n",
        "## Visualizações multiplas\n",
        "\n",
        "Algumas funções seaborn combinam vários tipos de gráficos para fornecer rapidamente resumos informativos de um conjunto de dados.\n",
        "\n",
        "* `jointplot()` é usado para criar uma visualização combinada de duas variáveis, exibindo:\n",
        "\n",
        "  * A relação entre as variáveis no gráfico principal (como scatter, kde, ou histograma).\n",
        "  * Distribuições marginais de cada variável nos eixos x e y.\n",
        "\n",
        "  ```python\n",
        "  sns.jointplot(data, x, y, kind=\"scatter\", hue, height)\n",
        "  ```\n",
        "  em que:\n",
        "\n",
        "  * `kind`: define o tipo de gráfico principal para exibir a relação entre as variáveis, com as seguintes opções:\n",
        "    * `'scatter'` (padrão): Gráfico de dispersão.\n",
        "    * `'kde'`: Densidade kernel bidimensional.\n",
        "    * `'hist'`: Histogramas bidimensionais.\n",
        "    * `'reg'`: Regressão linear (com linha de ajuste). Não  pode ser utilizado em conjunto com `hue`.\n",
        "\n",
        "\n",
        "* `pairplot()`, tem uma visão mais ampla: ele mostra distribuições conjuntas e marginais para todos os relacionamentos em pares e para cada variável, respectivamente:\n",
        "\n",
        "  ```python\n",
        "  sns.pairplot(data, hue, kind='scatter', diag_kind='auto', palette, height)\n",
        "  ```\n",
        "  em que:\n",
        "  * `kind`: define o tipo de gráfico principal, com as seguintes opções:\n",
        "    * `'scatter'` (padrão): gráfico de dispersão.\n",
        "    * `'kde'`: gráfico de densidade.\n",
        "  * diag_kind: Tipo de gráfico para a diagonal:\n",
        "    * `'auto'` (padrão): Escolha automática.\n",
        "    * `'hist'`: Histogramas.\n",
        "    * `'kde'`: Densidade kernel univariada.\n",
        "\n",
        "\n",
        "> Para contralar o tamanho essas funções possuem apenas o argumento `height`. Cada faceta sempre será quadrada (height x height).    \n",
        "\n",
        "Veja os exemplos:\n"
      ],
      "metadata": {
        "id": "bO1qESBFyGzy"
      }
    },
    {
      "cell_type": "code",
      "source": [
        "sns.jointplot(data=df, x=\"total_bill\", y=\"tip\", kind=\"scatter\", hue=\"smoker\",\n",
        "            height=4)\n",
        "plt.show()"
      ],
      "metadata": {
        "id": "N6X7fi3z2W2Z"
      },
      "execution_count": null,
      "outputs": []
    },
    {
      "cell_type": "code",
      "source": [
        "# Gráfico de densidade KDE bidimensional\n",
        "sns.jointplot(data=df, x=\"total_bill\", y=\"tip\", kind=\"kde\", hue=\"sex\", height=4)\n",
        "plt.show()"
      ],
      "metadata": {
        "id": "eJCqdyn52-Ef"
      },
      "execution_count": null,
      "outputs": []
    },
    {
      "cell_type": "code",
      "source": [
        "# Gráfico de dispersão com regressão linear\n",
        "sns.jointplot(data=df, x=\"total_bill\", y=\"tip\", kind=\"reg\", height=4)\n",
        "plt.show()"
      ],
      "metadata": {
        "id": "TNFW9zj03N8_"
      },
      "execution_count": null,
      "outputs": []
    },
    {
      "cell_type": "code",
      "source": [
        "# Matriz de gráficos com diferenciação por sexo\n",
        "sns.pairplot(data=df, hue=\"sex\", height=2.5)\n",
        "plt.show()"
      ],
      "metadata": {
        "id": "qTe37Ld42NVC"
      },
      "execution_count": null,
      "outputs": []
    },
    {
      "cell_type": "code",
      "source": [
        "# Usando KDE como gráfico principal e na diagonal\n",
        "sns.pairplot(data=df, hue=\"sex\", kind=\"kde\", diag_kind=\"kde\", height=2.5)\n",
        "plt.show()"
      ],
      "metadata": {
        "id": "2oOE8pyO4VkL"
      },
      "execution_count": null,
      "outputs": []
    },
    {
      "cell_type": "markdown",
      "source": [
        "## Exercícios\n",
        "\n",
        "Os exercícios a seguir devem ser feitos utilizando o banco de dados `penguins` da biblioteca `Seaborn`. Veja o código abaixo:\n"
      ],
      "metadata": {
        "id": "Ia1U2gxwkQNt"
      }
    },
    {
      "cell_type": "code",
      "source": [
        "import seaborn as sns\n",
        "\n",
        "# Carregar o dataset\n",
        "penguins = sns.load_dataset(\"penguins\")\n",
        "\n",
        "# Exibir uma amostra do dataset\n",
        "print(penguins.head())"
      ],
      "metadata": {
        "id": "8aJUUZsqnaRG"
      },
      "execution_count": null,
      "outputs": []
    },
    {
      "cell_type": "markdown",
      "source": [
        "Descrição das variáveis:\n",
        "\n",
        "* `\"species\"`:\tEspécie do pinguim (Adelie, Chinstrap, Gentoo).\n",
        "* `\"island\"`:\tIlha onde o pinguim foi observado.\n",
        "* `\"bill_length_mm\"`:\tComprimento do bico em milímetros.\n",
        "* `\"bill_depth_mm\"`:\tProfundidade do bico em milímetros.\n",
        "* `\"flipper_length_mm\"`:\tComprimento da nadadeira em milímetros.\n",
        "* `\"body_mass_g\"`:\tMassa corporal em gramas.\n",
        "* `\"sex\"`:\tSexo do pinguim (masculino ou feminino).\n",
        "\n",
        "**Exercício 1**: Gere um boxplot para comparar a distribuição do comprimento do bico (bill_length_mm) entre as diferentes espécies. Diferencie por sexo usando o argumento `hue`.\n",
        "\n",
        "**Exercício 2**: Crie uma matriz de correlação entre as variáveis numéricas do dataset e visualize-a como um heatmap. Adicione rótulos para facilitar a interpretação.\n",
        "\n",
        "**Exercício 3**: Faça um gráfico de dispersão com regressão linear ajustada para analisar a relação entre o comprimento do bico (bill_length_mm) e o comprimento da nadadeira (flipper_length_mm). Diferencie os pontos por espécie usando  `hue`.\n",
        "\n",
        "**Exercício 4**: Crie um gráfico com `sns.jointplot()` para examinar a relação entre o comprimento do bico (bill_length_mm) e a massa corporal (body_mass_g), com marginais que mostrem as distribuições dessas variáveis.\n",
        "\n",
        "**Exercício 5**: Utilize o `sns.pairplot()` para explorar todas as combinações possíveis das variáveis numéricas do dataset. Diferencie os gráficos por espécie usando o argumento  `hue`.\n"
      ],
      "metadata": {
        "id": "nv4Y5CwYnmjQ"
      }
    }
  ]
}